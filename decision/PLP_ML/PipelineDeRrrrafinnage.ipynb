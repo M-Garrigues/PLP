{
 "cells": [
  {
   "cell_type": "code",
   "execution_count": 79,
   "metadata": {},
   "outputs": [],
   "source": [
    "import pandas as pd\n",
    "import datetime\n",
    "import numpy as np\n",
    "import pickle\n",
    "import os\n",
    "import pymongo\n",
    "import requests\n",
    "import json\n",
    "from datetime import date\n",
    "from datetime import timedelta "
   ]
  },
  {
   "cell_type": "markdown",
   "metadata": {},
   "source": [
    "## LOADING DATA"
   ]
  },
  {
   "cell_type": "code",
   "execution_count": 80,
   "metadata": {},
   "outputs": [],
   "source": [
    "concats = pd.DataFrame()\n",
    "for i in range(14,20):\n",
    "    concats = pd.concat([concats , pd.read_csv(\"data/\"+str(i)+\"1.csv\")], sort = False,ignore_index=True)\n",
    "    \n",
    "for i in range(14,20):\n",
    "    concats = pd.concat([concats , pd.read_csv(\"data/\"+str(i)+\"2.csv\")], sort = False,ignore_index=True)"
   ]
  },
  {
   "cell_type": "markdown",
   "metadata": {},
   "source": [
    "## Data engineering"
   ]
  },
  {
   "cell_type": "code",
   "execution_count": 81,
   "metadata": {},
   "outputs": [],
   "source": [
    "def stringToDate(string):\n",
    "    string = string.split(\"/\")\n",
    "    if(len(string[2]) == 4):\n",
    "        string[2] = string[2][2:]\n",
    "    date = string[0]+\"/\"+ string[1]+\"/20\"+string[2]\n",
    "    date = datetime.datetime.strptime(date, '%d/%m/%Y')\n",
    "    return date"
   ]
  },
  {
   "cell_type": "code",
   "execution_count": 82,
   "metadata": {},
   "outputs": [],
   "source": [
    "def hash_match(date, away, home, ver):\n",
    "    date = date.split(\"/\")\n",
    "    return hash(date[0]+date[1]+date[2]+away+home+str(ver))    "
   ]
  },
  {
   "cell_type": "code",
   "execution_count": 83,
   "metadata": {},
   "outputs": [],
   "source": [
    "def getLastMatchId(id_match, nb_earlier_match):\n",
    "    dates = concats['Date'].apply(stringToDate)\n",
    "    #homepart\n",
    "    ids_HH = dates[(dates < dates[id_match]) & (concats[\"HomeTeam\"] == concats[\"HomeTeam\"][id_match])].index\n",
    "    ids_HA = dates[(dates < dates[id_match]) & (concats[\"AwayTeam\"] == concats[\"HomeTeam\"][id_match])].index\n",
    "    ids_home = np.array(ids_HH,ids_HA)\n",
    "    if(ids_home.shape[0] < nb_earlier_match):\n",
    "        return np.nan\n",
    "    else:\n",
    "        ids_home = ids_home[ids_home.argsort()[-nb_earlier_match:][::-1]]\n",
    "    #awaypart\n",
    "    \n",
    "    ids_AH = dates[(dates < dates[id_match]) & (concats[\"HomeTeam\"] == concats[\"AwayTeam\"][id_match])].index\n",
    "    ids_AA = dates[(dates < dates[id_match]) & (concats[\"AwayTeam\"] == concats[\"AwayTeam\"][id_match])].index\n",
    "    ids_away = np.array(ids_AH,ids_AA)\n",
    "    if(ids_away.shape[0] < nb_earlier_match):\n",
    "        return np.nan\n",
    "    else:\n",
    "        ids_away = ids_away[ids_away.argsort()[-nb_earlier_match:][::-1]]\n",
    "    return np.array([ids_away, ids_home])"
   ]
  },
  {
   "cell_type": "code",
   "execution_count": 84,
   "metadata": {},
   "outputs": [],
   "source": [
    "concats = concats[pd.notnull(concats['FTR'])]\n",
    "concats = concats.drop(columns = concats.columns[23:])\n",
    "concats['ID_FTR'] = concats.FTR.astype('category').cat.codes"
   ]
  },
  {
   "cell_type": "code",
   "execution_count": 85,
   "metadata": {},
   "outputs": [],
   "source": [
    "concats = concats.drop(columns = concats.columns[9])"
   ]
  },
  {
   "cell_type": "code",
   "execution_count": 86,
   "metadata": {},
   "outputs": [],
   "source": [
    "hashmap = {}"
   ]
  },
  {
   "cell_type": "code",
   "execution_count": 87,
   "metadata": {},
   "outputs": [],
   "source": [
    "with open('hm.pickle', 'rb') as handle:\n",
    "    hashmap = pickle.load(handle)"
   ]
  },
  {
   "cell_type": "code",
   "execution_count": 88,
   "metadata": {
    "scrolled": true
   },
   "outputs": [],
   "source": [
    "ids = []\n",
    "for i in range(concats.shape[0]):\n",
    "    vals = concats.iloc[i,[1,2,3]].values\n",
    "    hashed = hash_match(vals[0],vals[1], vals[2], 1)\n",
    "    if hashed in hashmap:\n",
    "        ids.append(hashmap[hashed])\n",
    "    else:\n",
    "        id_match = getLastMatchId(concats.index[i],3)\n",
    "        ids.append(id_match)\n",
    "        hashmap[hashed] = id_match\n"
   ]
  },
  {
   "cell_type": "code",
   "execution_count": 89,
   "metadata": {},
   "outputs": [],
   "source": [
    "with open('hm.pickle', 'wb') as handle:\n",
    "    pickle.dump(hashmap, handle, protocol=pickle.HIGHEST_PROTOCOL)"
   ]
  },
  {
   "cell_type": "code",
   "execution_count": 90,
   "metadata": {},
   "outputs": [],
   "source": [
    "ids = pd.DataFrame(ids)\n",
    "ids = ids.reindex(concats.index)\n",
    "ids = ids.dropna()"
   ]
  },
  {
   "cell_type": "code",
   "execution_count": 91,
   "metadata": {},
   "outputs": [],
   "source": [
    "concats = concats.fillna(0.0)"
   ]
  },
  {
   "cell_type": "code",
   "execution_count": 92,
   "metadata": {},
   "outputs": [],
   "source": [
    "ids_m = pd.DataFrame()\n",
    "ids_m[\"_id\"] = concats.iloc[:,[1,2,3]].apply(lambda row: hash_match(row.iloc[0],row.iloc[1],row.iloc[2],1), axis = 1)"
   ]
  },
  {
   "cell_type": "code",
   "execution_count": 93,
   "metadata": {},
   "outputs": [],
   "source": [
    "concats['AAG'] = np.nan\n",
    "concats['AAS'] = np.nan\n",
    "concats['AASO'] = np.nan\n",
    "concats['AAF'] = np.nan\n",
    "concats['AAC'] = np.nan\n",
    "concats['AAY'] = np.nan\n",
    "concats['AAR'] = np.nan\n",
    "\n",
    "concats['HAG'] = np.nan\n",
    "concats['HAS'] = np.nan\n",
    "concats['HASO'] = np.nan\n",
    "concats['HAF'] = np.nan\n",
    "concats['HAC'] = np.nan\n",
    "concats['HAY'] = np.nan\n",
    "concats['HAR'] = np.nan\n",
    "\n",
    "for i in ids.index:\n",
    "    #awaypart\n",
    "    ids_away = ids[0][i][0]\n",
    "    avg_goals = 0\n",
    "    avg_shots = 0\n",
    "    avg_shots_on = 0\n",
    "    avg_fouls = 0\n",
    "    avg_corners = 0\n",
    "    avg_yellow = 0\n",
    "    avg_red = 0\n",
    "    for k in ids_away:\n",
    "        if(concats.loc[i,\"AwayTeam\"] == concats.loc[k,\"AwayTeam\"]):\n",
    "            avg_goals += concats.loc[k,\"FTAG\"]\n",
    "            avg_shots += concats.loc[k,\"AS\"]\n",
    "            avg_shots_on += concats.loc[k,\"AST\"]\n",
    "            avg_fouls += concats.loc[k,\"AF\"]\n",
    "            avg_corners = concats.loc[k,\"AC\"]\n",
    "            avg_yellow += concats.loc[k,\"AY\"]\n",
    "            avg_red += concats.loc[k,\"AR\"]\n",
    "        else:\n",
    "            avg_goals += concats.loc[k,\"FTHG\"]\n",
    "            avg_shots += concats.loc[k,\"HS\"]\n",
    "            avg_shots_on += concats.loc[k,\"HST\"]\n",
    "            avg_fouls += concats.loc[k,\"HF\"]\n",
    "            avg_corners = concats.loc[k,\"HC\"]\n",
    "            avg_yellow += concats.loc[k,\"HY\"]\n",
    "            avg_red += concats.loc[k,\"HR\"]\n",
    "            \n",
    "    concats.loc[i,'AAG'] = avg_goals\n",
    "    concats.loc[i,'AAS'] = avg_shots\n",
    "    concats.loc[i,'AASO'] = avg_shots_on\n",
    "    concats.loc[i,'AAF'] = avg_fouls\n",
    "    concats.loc[i,'AAC'] = avg_corners\n",
    "    concats.loc[i,'AAY'] = avg_yellow\n",
    "    concats.loc[i,'AAR'] = avg_red\n",
    "\n",
    "            \n",
    "    ids_home = ids[0][i][1]\n",
    "    avg_goals = 0\n",
    "    avg_shots = 0\n",
    "    avg_shots_on = 0\n",
    "    avg_fouls = 0\n",
    "    avg_corners = 0\n",
    "    avg_yellow = 0\n",
    "    avg_red = 0\n",
    "    for k in ids_home:\n",
    "        if(concats.loc[i,\"HomeTeam\"] == concats.loc[k,\"AwayTeam\"]):\n",
    "            avg_goals += concats.loc[k,\"FTAG\"]\n",
    "            avg_shots += concats.loc[k,\"AS\"]\n",
    "            avg_shots_on += concats.loc[k,\"AST\"]\n",
    "            avg_fouls += concats.loc[k,\"AF\"]\n",
    "            avg_corners = concats.loc[k,\"AC\"]\n",
    "            avg_yellow += concats.loc[k,\"AY\"]\n",
    "            avg_red += concats.loc[k,\"AR\"]\n",
    "        else:\n",
    "            avg_goals += concats.loc[k,\"FTHG\"]\n",
    "            avg_shots += concats.loc[k,\"HS\"]\n",
    "            avg_shots_on += concats.loc[k,\"HST\"]\n",
    "            avg_fouls += concats.loc[k,\"HF\"]\n",
    "            avg_corners = concats.loc[k,\"HC\"]\n",
    "            avg_yellow += concats.loc[k,\"HY\"]\n",
    "            avg_red += concats.loc[k,\"HR\"]\n",
    "        \n",
    "       \n",
    "    concats.loc[i,'HAG'] = avg_goals\n",
    "    concats.loc[i,'HAS'] = avg_shots\n",
    "    concats.loc[i,'HASO'] = avg_shots_on\n",
    "    concats.loc[i,'HAF'] = avg_fouls\n",
    "    concats.loc[i,'HAC'] = avg_corners\n",
    "    concats.loc[i,'HAY'] = avg_yellow\n",
    "    concats.loc[i,'HAR'] = avg_red"
   ]
  },
  {
   "cell_type": "code",
   "execution_count": 94,
   "metadata": {
    "scrolled": true
   },
   "outputs": [],
   "source": [
    "concats = concats.drop([x for x in concats.index.values if x not in ids.index.values])"
   ]
  },
  {
   "cell_type": "code",
   "execution_count": 95,
   "metadata": {},
   "outputs": [
    {
     "data": {
      "text/plain": [
       "Index(['Div', 'Date', 'HomeTeam', 'AwayTeam', 'FTHG', 'FTAG', 'FTR', 'HTHG',\n",
       "       'HTAG', 'HS', 'AS', 'HST', 'AST', 'HF', 'AF', 'HC', 'AC', 'HY', 'AY',\n",
       "       'HR', 'AR', 'B365H', 'ID_FTR', 'AAG', 'AAS', 'AASO', 'AAF', 'AAC',\n",
       "       'AAY', 'AAR', 'HAG', 'HAS', 'HASO', 'HAF', 'HAC', 'HAY', 'HAR'],\n",
       "      dtype='object')"
      ]
     },
     "execution_count": 95,
     "metadata": {},
     "output_type": "execute_result"
    }
   ],
   "source": [
    "concats.columns"
   ]
  },
  {
   "cell_type": "code",
   "execution_count": 96,
   "metadata": {},
   "outputs": [],
   "source": [
    "concats = concats.drop(columns = concats.columns[4:6])\n",
    "concats = concats.drop(columns = concats.columns[5:20])"
   ]
  },
  {
   "cell_type": "code",
   "execution_count": 97,
   "metadata": {},
   "outputs": [],
   "source": [
    "normalized_df=(concats[concats.columns[6:]]-concats[concats.columns[6:]].mean())/concats[concats.columns[6:]].std()"
   ]
  },
  {
   "cell_type": "code",
   "execution_count": 98,
   "metadata": {},
   "outputs": [],
   "source": [
    "concats[concats.columns[6:]] = normalized_df"
   ]
  },
  {
   "cell_type": "code",
   "execution_count": 99,
   "metadata": {},
   "outputs": [
    {
     "data": {
      "text/plain": [
       "Index(['AAG', 'AAS', 'AASO', 'AAF', 'AAC', 'AAY', 'AAR'], dtype='object')"
      ]
     },
     "execution_count": 99,
     "metadata": {},
     "output_type": "execute_result"
    }
   ],
   "source": [
    "concats.columns[6:13]"
   ]
  },
  {
   "cell_type": "code",
   "execution_count": 100,
   "metadata": {},
   "outputs": [
    {
     "data": {
      "text/plain": [
       "Index(['Div', 'Date', 'HomeTeam', 'AwayTeam', 'FTR', 'ID_FTR', 'AAG', 'AAS',\n",
       "       'AASO', 'AAF', 'AAC', 'AAY', 'AAR', 'HAG', 'HAS', 'HASO', 'HAF', 'HAC',\n",
       "       'HAY', 'HAR'],\n",
       "      dtype='object')"
      ]
     },
     "execution_count": 100,
     "metadata": {},
     "output_type": "execute_result"
    }
   ],
   "source": [
    "concats.columns"
   ]
  },
  {
   "cell_type": "code",
   "execution_count": 101,
   "metadata": {},
   "outputs": [
    {
     "data": {
      "text/plain": [
       "Index(['HAG', 'HAS', 'HASO', 'HAF', 'HAC', 'HAY', 'HAR'], dtype='object')"
      ]
     },
     "execution_count": 101,
     "metadata": {},
     "output_type": "execute_result"
    }
   ],
   "source": [
    "concats.columns[13:]"
   ]
  },
  {
   "cell_type": "code",
   "execution_count": 154,
   "metadata": {
    "scrolled": false
   },
   "outputs": [],
   "source": [
    "ids_team = list()\n",
    "names = concats[\"HomeTeam\"].drop_duplicates()\n",
    "for i in names:\n",
    "    df = np.array(concats[concats[\"HomeTeam\"] == i].index, concats[concats[\"AwayTeam\"] == i].index)\n",
    "    ids_team.append(max(df))\n",
    "\n",
    "values = list()\n",
    "for i in range(len(names)):\n",
    "    if(concats.loc[ids_team[i], \"HomeTeam\"] == names.iloc[i]):\n",
    "        values.append(concats.loc[ids_team[i], concats.columns[13:]].values.astype(float))\n",
    "    else:\n",
    "        values.append(concats.loc[ids_team[i], concats.columns[6:13]].values.astype(float))\n",
    "        \n",
    "team_data = pd.DataFrame(values)\n",
    "team_data = team_data.rename(columns = {0:\"a\",1:\"b\",2:\"c\",3:\"d\",4:\"e\",5:\"f\",6:\"g\",7:\"h\"})\n",
    "team_data.insert(0, '_id',  names.values ) "
   ]
  },
  {
   "cell_type": "code",
   "execution_count": 118,
   "metadata": {},
   "outputs": [
    {
     "ename": "ValueError",
     "evalue": "cannot insert _id, already exists",
     "output_type": "error",
     "traceback": [
      "\u001b[1;31m---------------------------------------------------------------------------\u001b[0m",
      "\u001b[1;31mValueError\u001b[0m                                Traceback (most recent call last)",
      "\u001b[1;32m<ipython-input-118-48c74120e163>\u001b[0m in \u001b[0;36m<module>\u001b[1;34m\u001b[0m\n\u001b[1;32m----> 1\u001b[1;33m \u001b[0mconcats\u001b[0m\u001b[1;33m.\u001b[0m\u001b[0minsert\u001b[0m\u001b[1;33m(\u001b[0m\u001b[1;36m0\u001b[0m\u001b[1;33m,\u001b[0m \u001b[1;34m'_id'\u001b[0m\u001b[1;33m,\u001b[0m  \u001b[0mids_m\u001b[0m\u001b[1;33m[\u001b[0m\u001b[1;34m\"_id\"\u001b[0m\u001b[1;33m]\u001b[0m\u001b[1;33m)\u001b[0m\u001b[1;33m\u001b[0m\u001b[1;33m\u001b[0m\u001b[0m\n\u001b[0m",
      "\u001b[1;32m~\\Anaconda3\\lib\\site-packages\\pandas\\core\\frame.py\u001b[0m in \u001b[0;36minsert\u001b[1;34m(self, loc, column, value, allow_duplicates)\u001b[0m\n\u001b[0;32m   3574\u001b[0m         \u001b[0mself\u001b[0m\u001b[1;33m.\u001b[0m\u001b[0m_ensure_valid_index\u001b[0m\u001b[1;33m(\u001b[0m\u001b[0mvalue\u001b[0m\u001b[1;33m)\u001b[0m\u001b[1;33m\u001b[0m\u001b[1;33m\u001b[0m\u001b[0m\n\u001b[0;32m   3575\u001b[0m         \u001b[0mvalue\u001b[0m \u001b[1;33m=\u001b[0m \u001b[0mself\u001b[0m\u001b[1;33m.\u001b[0m\u001b[0m_sanitize_column\u001b[0m\u001b[1;33m(\u001b[0m\u001b[0mcolumn\u001b[0m\u001b[1;33m,\u001b[0m \u001b[0mvalue\u001b[0m\u001b[1;33m,\u001b[0m \u001b[0mbroadcast\u001b[0m\u001b[1;33m=\u001b[0m\u001b[1;32mFalse\u001b[0m\u001b[1;33m)\u001b[0m\u001b[1;33m\u001b[0m\u001b[1;33m\u001b[0m\u001b[0m\n\u001b[1;32m-> 3576\u001b[1;33m         \u001b[0mself\u001b[0m\u001b[1;33m.\u001b[0m\u001b[0m_data\u001b[0m\u001b[1;33m.\u001b[0m\u001b[0minsert\u001b[0m\u001b[1;33m(\u001b[0m\u001b[0mloc\u001b[0m\u001b[1;33m,\u001b[0m \u001b[0mcolumn\u001b[0m\u001b[1;33m,\u001b[0m \u001b[0mvalue\u001b[0m\u001b[1;33m,\u001b[0m \u001b[0mallow_duplicates\u001b[0m\u001b[1;33m=\u001b[0m\u001b[0mallow_duplicates\u001b[0m\u001b[1;33m)\u001b[0m\u001b[1;33m\u001b[0m\u001b[1;33m\u001b[0m\u001b[0m\n\u001b[0m\u001b[0;32m   3577\u001b[0m \u001b[1;33m\u001b[0m\u001b[0m\n\u001b[0;32m   3578\u001b[0m     \u001b[1;32mdef\u001b[0m \u001b[0massign\u001b[0m\u001b[1;33m(\u001b[0m\u001b[0mself\u001b[0m\u001b[1;33m,\u001b[0m \u001b[1;33m**\u001b[0m\u001b[0mkwargs\u001b[0m\u001b[1;33m)\u001b[0m\u001b[1;33m:\u001b[0m\u001b[1;33m\u001b[0m\u001b[1;33m\u001b[0m\u001b[0m\n",
      "\u001b[1;32m~\\Anaconda3\\lib\\site-packages\\pandas\\core\\internals\\managers.py\u001b[0m in \u001b[0;36minsert\u001b[1;34m(self, loc, item, value, allow_duplicates)\u001b[0m\n\u001b[0;32m   1171\u001b[0m         \u001b[1;32mif\u001b[0m \u001b[1;32mnot\u001b[0m \u001b[0mallow_duplicates\u001b[0m \u001b[1;32mand\u001b[0m \u001b[0mitem\u001b[0m \u001b[1;32min\u001b[0m \u001b[0mself\u001b[0m\u001b[1;33m.\u001b[0m\u001b[0mitems\u001b[0m\u001b[1;33m:\u001b[0m\u001b[1;33m\u001b[0m\u001b[1;33m\u001b[0m\u001b[0m\n\u001b[0;32m   1172\u001b[0m             \u001b[1;31m# Should this be a different kind of error??\u001b[0m\u001b[1;33m\u001b[0m\u001b[1;33m\u001b[0m\u001b[1;33m\u001b[0m\u001b[0m\n\u001b[1;32m-> 1173\u001b[1;33m             \u001b[1;32mraise\u001b[0m \u001b[0mValueError\u001b[0m\u001b[1;33m(\u001b[0m\u001b[1;34m\"cannot insert {}, already exists\"\u001b[0m\u001b[1;33m.\u001b[0m\u001b[0mformat\u001b[0m\u001b[1;33m(\u001b[0m\u001b[0mitem\u001b[0m\u001b[1;33m)\u001b[0m\u001b[1;33m)\u001b[0m\u001b[1;33m\u001b[0m\u001b[1;33m\u001b[0m\u001b[0m\n\u001b[0m\u001b[0;32m   1174\u001b[0m \u001b[1;33m\u001b[0m\u001b[0m\n\u001b[0;32m   1175\u001b[0m         \u001b[1;32mif\u001b[0m \u001b[1;32mnot\u001b[0m \u001b[0misinstance\u001b[0m\u001b[1;33m(\u001b[0m\u001b[0mloc\u001b[0m\u001b[1;33m,\u001b[0m \u001b[0mint\u001b[0m\u001b[1;33m)\u001b[0m\u001b[1;33m:\u001b[0m\u001b[1;33m\u001b[0m\u001b[1;33m\u001b[0m\u001b[0m\n",
      "\u001b[1;31mValueError\u001b[0m: cannot insert _id, already exists"
     ]
    }
   ],
   "source": [
    "concats.insert(0, '_id',  ids_m[\"_id\"])"
   ]
  },
  {
   "cell_type": "code",
   "execution_count": 120,
   "metadata": {},
   "outputs": [],
   "source": [
    "teams = pd.DataFrame(concats[\"HomeTeam\"].drop_duplicates())\n",
    "teams = teams.rename(columns = {\"HomeTeam\" : \"football.co.uk\"})"
   ]
  },
  {
   "cell_type": "code",
   "execution_count": 121,
   "metadata": {},
   "outputs": [],
   "source": [
    "teams[\"football.co.uk\"] = teams[\"football.co.uk\"].sort_values()\n",
    "\n",
    "teams[\"id\"] = teams[\"football.co.uk\"].apply(lambda x : x.replace(\" \", \"_\" ).lower())"
   ]
  },
  {
   "cell_type": "code",
   "execution_count": 122,
   "metadata": {},
   "outputs": [],
   "source": [
    "teams.to_csv(\"team_matching.csv\")"
   ]
  },
  {
   "cell_type": "code",
   "execution_count": 161,
   "metadata": {},
   "outputs": [],
   "source": [
    "def update_db(data, coll):\n",
    "    for index, row in data.iterrows():\n",
    "        coll.replace_one({'_id':row['_id']}, row.to_dict(), True)"
   ]
  },
  {
   "cell_type": "code",
   "execution_count": 124,
   "metadata": {},
   "outputs": [],
   "source": [
    "def fetch_old(name_post):\n",
    "    client = pymongo.MongoClient(\"mongodb://192.168.99.100:27017\")\n",
    "    db = client[\"plp\"][name_post]\n",
    "    a= list(db[\"match\"].find({}))\n",
    "    a = pd.DataFrame(a)\n",
    "    return a"
   ]
  },
  {
   "cell_type": "code",
   "execution_count": 125,
   "metadata": {},
   "outputs": [],
   "source": [
    "def remove_match_db(id):\n",
    "    query = { \"_id\": id}\n",
    "    coll.delete_one(query)    "
   ]
  },
  {
   "cell_type": "code",
   "execution_count": 159,
   "metadata": {},
   "outputs": [],
   "source": [
    "def pandas_to_mongo(df, name_post):\n",
    "    client = pymongo.MongoClient(\"mongodb://192.168.99.100:27017\")\n",
    "    coll = client[\"plp\"][name_post]\n",
    "    old = fetch_old(name_post)\n",
    "    new = df\n",
    "\n",
    "    if len(old)==0:\n",
    "        old = new\n",
    "    update_filtered = new[new[\"_id\"].isin(old[\"_id\"])]\n",
    "\n",
    "    update_db(update_filtered,coll)\n",
    "    \n",
    "    print(\"Done.\")\n",
    "    print(\"Updated : \"+str(len(update_filtered)))\n",
    "    print(\"Total matches in base : \"+str(coll.estimated_document_count()))\n",
    "        "
   ]
  },
  {
   "cell_type": "code",
   "execution_count": 127,
   "metadata": {},
   "outputs": [
    {
     "data": {
      "text/html": [
       "<div>\n",
       "<style scoped>\n",
       "    .dataframe tbody tr th:only-of-type {\n",
       "        vertical-align: middle;\n",
       "    }\n",
       "\n",
       "    .dataframe tbody tr th {\n",
       "        vertical-align: top;\n",
       "    }\n",
       "\n",
       "    .dataframe thead th {\n",
       "        text-align: right;\n",
       "    }\n",
       "</style>\n",
       "<table border=\"1\" class=\"dataframe\">\n",
       "  <thead>\n",
       "    <tr style=\"text-align: right;\">\n",
       "      <th></th>\n",
       "      <th>_id</th>\n",
       "      <th>Div</th>\n",
       "      <th>Date</th>\n",
       "      <th>HomeTeam</th>\n",
       "      <th>AwayTeam</th>\n",
       "      <th>FTR</th>\n",
       "      <th>ID_FTR</th>\n",
       "      <th>AAG</th>\n",
       "      <th>AAS</th>\n",
       "      <th>AASO</th>\n",
       "      <th>...</th>\n",
       "      <th>AAC</th>\n",
       "      <th>AAY</th>\n",
       "      <th>AAR</th>\n",
       "      <th>HAG</th>\n",
       "      <th>HAS</th>\n",
       "      <th>HASO</th>\n",
       "      <th>HAF</th>\n",
       "      <th>HAC</th>\n",
       "      <th>HAY</th>\n",
       "      <th>HAR</th>\n",
       "    </tr>\n",
       "  </thead>\n",
       "  <tbody>\n",
       "    <tr>\n",
       "      <td>54</td>\n",
       "      <td>4041509492721073641</td>\n",
       "      <td>F1</td>\n",
       "      <td>20/09/14</td>\n",
       "      <td>Nantes</td>\n",
       "      <td>Nice</td>\n",
       "      <td>H</td>\n",
       "      <td>2</td>\n",
       "      <td>0.262873</td>\n",
       "      <td>0.895837</td>\n",
       "      <td>0.375430</td>\n",
       "      <td>...</td>\n",
       "      <td>2.587834</td>\n",
       "      <td>-0.089255</td>\n",
       "      <td>-0.435110</td>\n",
       "      <td>-1.035393</td>\n",
       "      <td>0.953032</td>\n",
       "      <td>0.636636</td>\n",
       "      <td>0.907359</td>\n",
       "      <td>-0.103268</td>\n",
       "      <td>-0.417868</td>\n",
       "      <td>-0.429740</td>\n",
       "    </tr>\n",
       "    <tr>\n",
       "      <td>57</td>\n",
       "      <td>-3253533984583305966</td>\n",
       "      <td>F1</td>\n",
       "      <td>21/09/14</td>\n",
       "      <td>Lille</td>\n",
       "      <td>Montpellier</td>\n",
       "      <td>D</td>\n",
       "      <td>1</td>\n",
       "      <td>-0.604166</td>\n",
       "      <td>0.692484</td>\n",
       "      <td>-0.006526</td>\n",
       "      <td>...</td>\n",
       "      <td>0.493973</td>\n",
       "      <td>-0.089255</td>\n",
       "      <td>-0.435110</td>\n",
       "      <td>-0.172064</td>\n",
       "      <td>0.800350</td>\n",
       "      <td>0.636636</td>\n",
       "      <td>0.907359</td>\n",
       "      <td>1.388582</td>\n",
       "      <td>-0.417868</td>\n",
       "      <td>-0.429740</td>\n",
       "    </tr>\n",
       "    <tr>\n",
       "      <td>60</td>\n",
       "      <td>8346812620433998539</td>\n",
       "      <td>F1</td>\n",
       "      <td>23/09/14</td>\n",
       "      <td>Reims</td>\n",
       "      <td>Marseille</td>\n",
       "      <td>A</td>\n",
       "      <td>0</td>\n",
       "      <td>1.129912</td>\n",
       "      <td>1.709250</td>\n",
       "      <td>1.393978</td>\n",
       "      <td>...</td>\n",
       "      <td>0.793096</td>\n",
       "      <td>-0.089255</td>\n",
       "      <td>-0.435110</td>\n",
       "      <td>-0.172064</td>\n",
       "      <td>0.138727</td>\n",
       "      <td>0.126082</td>\n",
       "      <td>0.608271</td>\n",
       "      <td>-0.700008</td>\n",
       "      <td>-0.755575</td>\n",
       "      <td>-0.429740</td>\n",
       "    </tr>\n",
       "    <tr>\n",
       "      <td>62</td>\n",
       "      <td>9210601909339019084</td>\n",
       "      <td>F1</td>\n",
       "      <td>24/09/14</td>\n",
       "      <td>Bastia</td>\n",
       "      <td>Nantes</td>\n",
       "      <td>D</td>\n",
       "      <td>1</td>\n",
       "      <td>-0.604166</td>\n",
       "      <td>1.200867</td>\n",
       "      <td>0.630067</td>\n",
       "      <td>...</td>\n",
       "      <td>0.493973</td>\n",
       "      <td>-0.426711</td>\n",
       "      <td>-0.435110</td>\n",
       "      <td>0.259600</td>\n",
       "      <td>0.291409</td>\n",
       "      <td>0.253721</td>\n",
       "      <td>1.455686</td>\n",
       "      <td>-0.700008</td>\n",
       "      <td>1.270663</td>\n",
       "      <td>-0.429740</td>\n",
       "    </tr>\n",
       "    <tr>\n",
       "      <td>64</td>\n",
       "      <td>-1923595744662626081</td>\n",
       "      <td>F1</td>\n",
       "      <td>24/09/14</td>\n",
       "      <td>Evian Thonon Gaillard</td>\n",
       "      <td>Lens</td>\n",
       "      <td>H</td>\n",
       "      <td>2</td>\n",
       "      <td>-0.170646</td>\n",
       "      <td>0.794161</td>\n",
       "      <td>0.630067</td>\n",
       "      <td>...</td>\n",
       "      <td>1.092219</td>\n",
       "      <td>1.598025</td>\n",
       "      <td>-0.435110</td>\n",
       "      <td>-1.467057</td>\n",
       "      <td>0.240515</td>\n",
       "      <td>-0.512110</td>\n",
       "      <td>1.106751</td>\n",
       "      <td>0.493472</td>\n",
       "      <td>0.595250</td>\n",
       "      <td>-0.429740</td>\n",
       "    </tr>\n",
       "    <tr>\n",
       "      <td>...</td>\n",
       "      <td>...</td>\n",
       "      <td>...</td>\n",
       "      <td>...</td>\n",
       "      <td>...</td>\n",
       "      <td>...</td>\n",
       "      <td>...</td>\n",
       "      <td>...</td>\n",
       "      <td>...</td>\n",
       "      <td>...</td>\n",
       "      <td>...</td>\n",
       "      <td>...</td>\n",
       "      <td>...</td>\n",
       "      <td>...</td>\n",
       "      <td>...</td>\n",
       "      <td>...</td>\n",
       "      <td>...</td>\n",
       "      <td>...</td>\n",
       "      <td>...</td>\n",
       "      <td>...</td>\n",
       "      <td>...</td>\n",
       "      <td>...</td>\n",
       "    </tr>\n",
       "    <tr>\n",
       "      <td>4194</td>\n",
       "      <td>-5604791961990090543</td>\n",
       "      <td>F2</td>\n",
       "      <td>10/01/2020</td>\n",
       "      <td>Le Mans</td>\n",
       "      <td>Auxerre</td>\n",
       "      <td>A</td>\n",
       "      <td>0</td>\n",
       "      <td>0.696392</td>\n",
       "      <td>0.692484</td>\n",
       "      <td>0.757385</td>\n",
       "      <td>...</td>\n",
       "      <td>-0.702518</td>\n",
       "      <td>2.272936</td>\n",
       "      <td>1.584183</td>\n",
       "      <td>-0.172064</td>\n",
       "      <td>1.207502</td>\n",
       "      <td>1.530106</td>\n",
       "      <td>1.156598</td>\n",
       "      <td>1.090212</td>\n",
       "      <td>-0.080162</td>\n",
       "      <td>-0.429740</td>\n",
       "    </tr>\n",
       "    <tr>\n",
       "      <td>4195</td>\n",
       "      <td>-8698635011057970952</td>\n",
       "      <td>F2</td>\n",
       "      <td>10/01/2020</td>\n",
       "      <td>Nancy</td>\n",
       "      <td>Valenciennes</td>\n",
       "      <td>H</td>\n",
       "      <td>2</td>\n",
       "      <td>1.129912</td>\n",
       "      <td>0.844999</td>\n",
       "      <td>0.630067</td>\n",
       "      <td>...</td>\n",
       "      <td>1.092219</td>\n",
       "      <td>0.923113</td>\n",
       "      <td>-0.435110</td>\n",
       "      <td>-1.035393</td>\n",
       "      <td>0.342303</td>\n",
       "      <td>-0.129195</td>\n",
       "      <td>1.256294</td>\n",
       "      <td>0.493472</td>\n",
       "      <td>0.932957</td>\n",
       "      <td>-0.429740</td>\n",
       "    </tr>\n",
       "    <tr>\n",
       "      <td>4196</td>\n",
       "      <td>-5880345821002083533</td>\n",
       "      <td>F2</td>\n",
       "      <td>10/01/2020</td>\n",
       "      <td>Niort</td>\n",
       "      <td>Le Havre</td>\n",
       "      <td>A</td>\n",
       "      <td>0</td>\n",
       "      <td>-0.604166</td>\n",
       "      <td>0.844999</td>\n",
       "      <td>0.502748</td>\n",
       "      <td>...</td>\n",
       "      <td>-0.104273</td>\n",
       "      <td>0.585657</td>\n",
       "      <td>-0.435110</td>\n",
       "      <td>-0.172064</td>\n",
       "      <td>0.036939</td>\n",
       "      <td>0.253721</td>\n",
       "      <td>1.156598</td>\n",
       "      <td>-0.401638</td>\n",
       "      <td>1.608369</td>\n",
       "      <td>-0.429740</td>\n",
       "    </tr>\n",
       "    <tr>\n",
       "      <td>4197</td>\n",
       "      <td>-1831289101984127392</td>\n",
       "      <td>F2</td>\n",
       "      <td>10/01/2020</td>\n",
       "      <td>Rodez</td>\n",
       "      <td>Chateauroux</td>\n",
       "      <td>A</td>\n",
       "      <td>0</td>\n",
       "      <td>-1.037685</td>\n",
       "      <td>0.336616</td>\n",
       "      <td>0.120793</td>\n",
       "      <td>...</td>\n",
       "      <td>-0.702518</td>\n",
       "      <td>2.272936</td>\n",
       "      <td>1.584183</td>\n",
       "      <td>-0.603728</td>\n",
       "      <td>-0.013955</td>\n",
       "      <td>-0.001556</td>\n",
       "      <td>1.007055</td>\n",
       "      <td>0.195102</td>\n",
       "      <td>0.595250</td>\n",
       "      <td>1.626359</td>\n",
       "    </tr>\n",
       "    <tr>\n",
       "      <td>4198</td>\n",
       "      <td>-5064645220922072199</td>\n",
       "      <td>F2</td>\n",
       "      <td>10/01/2020</td>\n",
       "      <td>Sochaux</td>\n",
       "      <td>Paris FC</td>\n",
       "      <td>D</td>\n",
       "      <td>1</td>\n",
       "      <td>-0.170646</td>\n",
       "      <td>0.692484</td>\n",
       "      <td>0.248111</td>\n",
       "      <td>...</td>\n",
       "      <td>1.391342</td>\n",
       "      <td>1.598025</td>\n",
       "      <td>-0.435110</td>\n",
       "      <td>1.122928</td>\n",
       "      <td>1.054820</td>\n",
       "      <td>1.019552</td>\n",
       "      <td>1.355990</td>\n",
       "      <td>0.195102</td>\n",
       "      <td>0.595250</td>\n",
       "      <td>-0.429740</td>\n",
       "    </tr>\n",
       "  </tbody>\n",
       "</table>\n",
       "<p>4019 rows × 21 columns</p>\n",
       "</div>"
      ],
      "text/plain": [
       "                      _id Div        Date               HomeTeam  \\\n",
       "54    4041509492721073641  F1    20/09/14                 Nantes   \n",
       "57   -3253533984583305966  F1    21/09/14                  Lille   \n",
       "60    8346812620433998539  F1    23/09/14                  Reims   \n",
       "62    9210601909339019084  F1    24/09/14                 Bastia   \n",
       "64   -1923595744662626081  F1    24/09/14  Evian Thonon Gaillard   \n",
       "...                   ...  ..         ...                    ...   \n",
       "4194 -5604791961990090543  F2  10/01/2020                Le Mans   \n",
       "4195 -8698635011057970952  F2  10/01/2020                  Nancy   \n",
       "4196 -5880345821002083533  F2  10/01/2020                  Niort   \n",
       "4197 -1831289101984127392  F2  10/01/2020                  Rodez   \n",
       "4198 -5064645220922072199  F2  10/01/2020                Sochaux   \n",
       "\n",
       "          AwayTeam FTR  ID_FTR       AAG       AAS      AASO  ...       AAC  \\\n",
       "54            Nice   H       2  0.262873  0.895837  0.375430  ...  2.587834   \n",
       "57     Montpellier   D       1 -0.604166  0.692484 -0.006526  ...  0.493973   \n",
       "60       Marseille   A       0  1.129912  1.709250  1.393978  ...  0.793096   \n",
       "62          Nantes   D       1 -0.604166  1.200867  0.630067  ...  0.493973   \n",
       "64            Lens   H       2 -0.170646  0.794161  0.630067  ...  1.092219   \n",
       "...            ...  ..     ...       ...       ...       ...  ...       ...   \n",
       "4194       Auxerre   A       0  0.696392  0.692484  0.757385  ... -0.702518   \n",
       "4195  Valenciennes   H       2  1.129912  0.844999  0.630067  ...  1.092219   \n",
       "4196      Le Havre   A       0 -0.604166  0.844999  0.502748  ... -0.104273   \n",
       "4197   Chateauroux   A       0 -1.037685  0.336616  0.120793  ... -0.702518   \n",
       "4198      Paris FC   D       1 -0.170646  0.692484  0.248111  ...  1.391342   \n",
       "\n",
       "           AAY       AAR       HAG       HAS      HASO       HAF       HAC  \\\n",
       "54   -0.089255 -0.435110 -1.035393  0.953032  0.636636  0.907359 -0.103268   \n",
       "57   -0.089255 -0.435110 -0.172064  0.800350  0.636636  0.907359  1.388582   \n",
       "60   -0.089255 -0.435110 -0.172064  0.138727  0.126082  0.608271 -0.700008   \n",
       "62   -0.426711 -0.435110  0.259600  0.291409  0.253721  1.455686 -0.700008   \n",
       "64    1.598025 -0.435110 -1.467057  0.240515 -0.512110  1.106751  0.493472   \n",
       "...        ...       ...       ...       ...       ...       ...       ...   \n",
       "4194  2.272936  1.584183 -0.172064  1.207502  1.530106  1.156598  1.090212   \n",
       "4195  0.923113 -0.435110 -1.035393  0.342303 -0.129195  1.256294  0.493472   \n",
       "4196  0.585657 -0.435110 -0.172064  0.036939  0.253721  1.156598 -0.401638   \n",
       "4197  2.272936  1.584183 -0.603728 -0.013955 -0.001556  1.007055  0.195102   \n",
       "4198  1.598025 -0.435110  1.122928  1.054820  1.019552  1.355990  0.195102   \n",
       "\n",
       "           HAY       HAR  \n",
       "54   -0.417868 -0.429740  \n",
       "57   -0.417868 -0.429740  \n",
       "60   -0.755575 -0.429740  \n",
       "62    1.270663 -0.429740  \n",
       "64    0.595250 -0.429740  \n",
       "...        ...       ...  \n",
       "4194 -0.080162 -0.429740  \n",
       "4195  0.932957 -0.429740  \n",
       "4196  1.608369 -0.429740  \n",
       "4197  0.595250  1.626359  \n",
       "4198  0.595250 -0.429740  \n",
       "\n",
       "[4019 rows x 21 columns]"
      ]
     },
     "execution_count": 127,
     "metadata": {},
     "output_type": "execute_result"
    }
   ],
   "source": [
    "concats"
   ]
  },
  {
   "cell_type": "code",
   "execution_count": 162,
   "metadata": {
    "scrolled": true
   },
   "outputs": [
    {
     "name": "stdout",
     "output_type": "stream",
     "text": [
      "Done.\n",
      "Updated : 51\n",
      "Total matches in base : 51\n",
      "Done.\n",
      "Updated : 4019\n",
      "Total matches in base : 4019\n"
     ]
    }
   ],
   "source": [
    "pandas_to_mongo(team_data,\"team\")\n",
    "pandas_to_mongo(concats,\"match\")"
   ]
  },
  {
   "cell_type": "code",
   "execution_count": 163,
   "metadata": {},
   "outputs": [],
   "source": [
    "def get_team_features(team_name):\n",
    "    client = pymongo.MongoClient(\"mongodb://192.168.99.100:27017\")\n",
    "    db = client['plp']\n",
    "    dic = db[\"team\"].find_one({\"_id\": {'$regex':'^'+team_name}})\n",
    "    del dic['_id']\n",
    "    return np.fromiter(dic.values(),dtype = float)"
   ]
  }
 ],
 "metadata": {
  "kernelspec": {
   "display_name": "Python 3",
   "language": "python",
   "name": "python3"
  },
  "language_info": {
   "codemirror_mode": {
    "name": "ipython",
    "version": 3
   },
   "file_extension": ".py",
   "mimetype": "text/x-python",
   "name": "python",
   "nbconvert_exporter": "python",
   "pygments_lexer": "ipython3",
   "version": "3.7.4"
  }
 },
 "nbformat": 4,
 "nbformat_minor": 2
}
