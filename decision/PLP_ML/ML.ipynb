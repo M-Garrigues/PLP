{
 "cells": [
  {
   "cell_type": "code",
   "execution_count": 1,
   "metadata": {},
   "outputs": [],
   "source": [
    "from __future__ import absolute_import, division, print_function, unicode_literals\n",
    "import functools\n",
    "import seaborn as sns\n",
    "import numpy as np\n",
    "import tensorflow as tf\n",
    "import pandas as pd\n",
    "import os\n",
    "from tensorflow import keras\n",
    "import pymongo"
   ]
  },
  {
   "cell_type": "code",
   "execution_count": 2,
   "metadata": {},
   "outputs": [],
   "source": [
    "def get_training():\n",
    "    client = pymongo.MongoClient(\"mongodb://192.168.99.100:27017\")\n",
    "    db = client['refined-database']\n",
    "    a= list(db[\"match\"].find({}))\n",
    "    a = pd.DataFrame(a)\n",
    "    a = a.drop(columns = a.columns[0])\n",
    "    return a"
   ]
  },
  {
   "cell_type": "code",
   "execution_count": 3,
   "metadata": {},
   "outputs": [],
   "source": [
    "def print_logits (y,batch_size,nb_label):\n",
    "    # Print a the label predicted\n",
    "    #Input : \n",
    "    #y : Numpy array [batch_size][10] The data predicted\n",
    "    #batch_size : Int The size of the batch\n",
    "    #nb_label : Int The number of labels\n",
    "    for i in range (0,batch_size):\n",
    "        print(\"------------\",i,\"------------\")\n",
    "        for j in range (0,nb_label):\n",
    "            if (y[i][j] != 0):\n",
    "                print(\"prédiction : \",j,\"pourcentage de certitude :\",\"%.1f\" % (y[i][j]*100) , \" %\")\n",
    "\n",
    "def int_to_dummies(i):\n",
    "    # Create a label for the number given\n",
    "    #Input: int The value of the label\n",
    "    result = [0]*3\n",
    "    result[int(i)] = 1\n",
    "    return np.array(result)\n",
    "\n",
    "def create_model():\n",
    "    model = tf.keras.models.Sequential([\n",
    "    tf.keras.layers.Dense(32, activation='relu'),\n",
    "    tf.keras.layers.Dense(16, activation='relu'),\n",
    "    tf.keras.layers.Dense(3, activation='softmax')\n",
    "  ])\n",
    "\n",
    "    model.compile(optimizer='adam',\n",
    "                loss='categorical_crossentropy',\n",
    "                metrics=[\n",
    "                      tf.keras.metrics.BinaryAccuracy(name='accuracy'),\n",
    "                      tf.keras.metrics.Precision(name='precision'),\n",
    "                      tf.keras.metrics.Recall(name='recall'),\n",
    "                      tf.keras.metrics.AUC(name='auc')])\n",
    "\n",
    "    return model\n",
    "\n",
    "\n",
    "\n",
    "def prediction_logits (y,batch_size,nb_label):\n",
    "    # Normalize the batch of label to obtain a percentage\n",
    "    #Input : \n",
    "    #y : Numpy array [batch_size][10] The data predicted\n",
    "    #batch_size : Int The size of the batch\n",
    "    #nb_label : Int The number of labels\n",
    "    #Out : Numpy array [batch_size][10] the input normalized\n",
    "    \n",
    "    y_sum = np.sum(y, axis=1)\n",
    "    for i in range (0,batch_size):\n",
    "        for j in range (0,nb_label):\n",
    "            if (y_sum[i] != 0):\n",
    "                y[i][j] = y[i][j]/y_sum[i]\n",
    "    \n",
    "    return y\n"
   ]
  },
  {
   "cell_type": "code",
   "execution_count": 4,
   "metadata": {
    "scrolled": true
   },
   "outputs": [],
   "source": [
    "df = get_training()\n",
    "df = df[df.ID_FTR != -1]\n",
    "\n",
    "target = df[\"ID_FTR\"].apply(int_to_dummies)\n",
    "features = df[df.columns[6:]]"
   ]
  },
  {
   "cell_type": "code",
   "execution_count": 5,
   "metadata": {},
   "outputs": [],
   "source": [
    "x_test = features.iloc[3550:].values\n",
    "y_test = target.iloc[3550:].values\n",
    "\n",
    "x_train = features.iloc[:3550].values\n",
    "y_train = target.iloc[:3550].values"
   ]
  },
  {
   "cell_type": "code",
   "execution_count": 6,
   "metadata": {},
   "outputs": [],
   "source": [
    "x_train = x_train.astype(float)"
   ]
  },
  {
   "cell_type": "code",
   "execution_count": 7,
   "metadata": {},
   "outputs": [],
   "source": [
    "y_train = np.asarray(list(y_train))\n",
    "y_test = np.asarray(list(y_test))"
   ]
  },
  {
   "cell_type": "code",
   "execution_count": 8,
   "metadata": {},
   "outputs": [
    {
     "data": {
      "text/plain": [
       "(3550, 3)"
      ]
     },
     "execution_count": 8,
     "metadata": {},
     "output_type": "execute_result"
    }
   ],
   "source": [
    "y_train.shape"
   ]
  },
  {
   "cell_type": "code",
   "execution_count": 9,
   "metadata": {
    "scrolled": true
   },
   "outputs": [
    {
     "name": "stdout",
     "output_type": "stream",
     "text": [
      "Train on 3550 samples, validate on 427 samples\n",
      "Epoch 1/20\n",
      "3424/3550 [===========================>..] - ETA: 0s - loss: 1.0848 - accuracy: 0.6626 - precision: 0.4478 - recall: 0.0526 - auc: 0.5824\n",
      "Epoch 00001: saving model to models/model1.ckpt\n",
      "3550/3550 [==============================] - 5s 2ms/sample - loss: 1.0847 - accuracy: 0.6623 - precision: 0.4450 - recall: 0.0535 - auc: 0.5828 - val_loss: 1.1147 - val_accuracy: 0.6604 - val_precision: 0.3750 - val_recall: 0.0281 - val_auc: 0.5260\n",
      "Epoch 2/20\n",
      "3520/3550 [============================>.] - ETA: 0s - loss: 1.0702 - accuracy: 0.6650 - precision: 0.4828 - recall: 0.0716 - auc: 0.6036\n",
      "Epoch 00002: saving model to models/model1.ckpt\n",
      "3550/3550 [==============================] - 1s 164us/sample - loss: 1.0707 - accuracy: 0.6648 - precision: 0.4810 - recall: 0.0713 - auc: 0.6030 - val_loss: 1.1120 - val_accuracy: 0.6635 - val_precision: 0.4231 - val_recall: 0.0258 - val_auc: 0.5214\n",
      "Epoch 3/20\n",
      "3456/3550 [============================>.] - ETA: 0s - loss: 1.0655 - accuracy: 0.6670 - precision: 0.5034 - recall: 0.0642 - auc: 0.6067\n",
      "Epoch 00003: saving model to models/model1.ckpt\n",
      "3550/3550 [==============================] - 1s 173us/sample - loss: 1.0670 - accuracy: 0.6660 - precision: 0.4926 - recall: 0.0654 - auc: 0.6044 - val_loss: 1.1226 - val_accuracy: 0.6440 - val_precision: 0.3474 - val_recall: 0.0773 - val_auc: 0.5271\n",
      "Epoch 4/20\n",
      "3296/3550 [==========================>...] - ETA: 0s - loss: 1.0618 - accuracy: 0.6684 - precision: 0.5178 - recall: 0.0749 - auc: 0.6135\n",
      "Epoch 00004: saving model to models/model1.ckpt\n",
      "3550/3550 [==============================] - 1s 167us/sample - loss: 1.0639 - accuracy: 0.6676 - precision: 0.5095 - recall: 0.0752 - auc: 0.6110 - val_loss: 1.1169 - val_accuracy: 0.6511 - val_precision: 0.3571 - val_recall: 0.0585 - val_auc: 0.5271\n",
      "Epoch 5/20\n",
      "3488/3550 [============================>.] - ETA: 0s - loss: 1.0619 - accuracy: 0.6686 - precision: 0.5210 - recall: 0.0711 - auc: 0.6143\n",
      "Epoch 00005: saving model to models/model1.ckpt\n",
      "3550/3550 [==============================] - 1s 165us/sample - loss: 1.0618 - accuracy: 0.6683 - precision: 0.5174 - recall: 0.0713 - auc: 0.6145 - val_loss: 1.1124 - val_accuracy: 0.6557 - val_precision: 0.3409 - val_recall: 0.0351 - val_auc: 0.5265\n",
      "Epoch 6/20\n",
      "3136/3550 [=========================>....] - ETA: 0s - loss: 1.0625 - accuracy: 0.6680 - precision: 0.5152 - recall: 0.0705 - auc: 0.6142\n",
      "Epoch 00006: saving model to models/model1.ckpt\n",
      "3550/3550 [==============================] - 1s 181us/sample - loss: 1.0604 - accuracy: 0.6692 - precision: 0.5274 - recall: 0.0732 - auc: 0.6170 - val_loss: 1.1116 - val_accuracy: 0.6589 - val_precision: 0.3684 - val_recall: 0.0328 - val_auc: 0.5259\n",
      "Epoch 7/20\n",
      "3136/3550 [=========================>....] - ETA: 0s - loss: 1.0600 - accuracy: 0.6699 - precision: 0.5305 - recall: 0.0832 - auc: 0.6164\n",
      "Epoch 00007: saving model to models/model1.ckpt\n",
      "3550/3550 [==============================] - 1s 182us/sample - loss: 1.0590 - accuracy: 0.6698 - precision: 0.5296 - recall: 0.0831 - auc: 0.6180 - val_loss: 1.1159 - val_accuracy: 0.6534 - val_precision: 0.3396 - val_recall: 0.0422 - val_auc: 0.5298\n",
      "Epoch 8/20\n",
      "3424/3550 [===========================>..] - ETA: 0s - loss: 1.0589 - accuracy: 0.6680 - precision: 0.5138 - recall: 0.0762 - auc: 0.6191\n",
      "Epoch 00008: saving model to models/model1.ckpt\n",
      "3550/3550 [==============================] - 1s 194us/sample - loss: 1.0581 - accuracy: 0.6682 - precision: 0.5154 - recall: 0.0755 - auc: 0.6205 - val_loss: 1.1097 - val_accuracy: 0.6620 - val_precision: 0.4000 - val_recall: 0.0281 - val_auc: 0.5268\n",
      "Epoch 9/20\n",
      "3392/3550 [===========================>..] - ETA: 0s - loss: 1.0565 - accuracy: 0.6693 - precision: 0.5238 - recall: 0.0876 - auc: 0.6219\n",
      "Epoch 00009: saving model to models/model1.ckpt\n",
      "3550/3550 [==============================] - 1s 195us/sample - loss: 1.0563 - accuracy: 0.6697 - precision: 0.5277 - recall: 0.0859 - auc: 0.6224 - val_loss: 1.1101 - val_accuracy: 0.6628 - val_precision: 0.4138 - val_recall: 0.0281 - val_auc: 0.5265\n",
      "Epoch 10/20\n",
      "3328/3550 [===========================>..] - ETA: 0s - loss: 1.0530 - accuracy: 0.6726 - precision: 0.5591 - recall: 0.0838 - auc: 0.6291\n",
      "Epoch 00010: saving model to models/model1.ckpt\n",
      "3550/3550 [==============================] - 1s 178us/sample - loss: 1.0546 - accuracy: 0.6721 - precision: 0.5535 - recall: 0.0845 - auc: 0.6262 - val_loss: 1.1151 - val_accuracy: 0.6573 - val_precision: 0.3846 - val_recall: 0.0468 - val_auc: 0.5289\n",
      "Epoch 11/20\n",
      "3392/3550 [===========================>..] - ETA: 0s - loss: 1.0551 - accuracy: 0.6714 - precision: 0.5511 - recall: 0.0764 - auc: 0.6258\n",
      "Epoch 00011: saving model to models/model1.ckpt\n",
      "3550/3550 [==============================] - 1s 213us/sample - loss: 1.0544 - accuracy: 0.6715 - precision: 0.5513 - recall: 0.0772 - auc: 0.6271 - val_loss: 1.1113 - val_accuracy: 0.6628 - val_precision: 0.4286 - val_recall: 0.0351 - val_auc: 0.5255\n",
      "Epoch 12/20\n",
      "3424/3550 [===========================>..] - ETA: 0s - loss: 1.0532 - accuracy: 0.6746 - precision: 0.5688 - recall: 0.0978 - auc: 0.6282\n",
      "Epoch 00012: saving model to models/model1.ckpt\n",
      "3550/3550 [==============================] - 1s 184us/sample - loss: 1.0530 - accuracy: 0.6743 - precision: 0.5663 - recall: 0.0975 - auc: 0.6283 - val_loss: 1.1111 - val_accuracy: 0.6620 - val_precision: 0.4348 - val_recall: 0.0468 - val_auc: 0.5295\n",
      "Epoch 13/20\n",
      "3328/3550 [===========================>..] - ETA: 0s - loss: 1.0495 - accuracy: 0.6737 - precision: 0.5599 - recall: 0.0983 - auc: 0.6336\n",
      "Epoch 00013: saving model to models/model1.ckpt\n",
      "3550/3550 [==============================] - 1s 169us/sample - loss: 1.0518 - accuracy: 0.6732 - precision: 0.5570 - recall: 0.0963 - auc: 0.6300 - val_loss: 1.1119 - val_accuracy: 0.6596 - val_precision: 0.3846 - val_recall: 0.0351 - val_auc: 0.5266\n",
      "Epoch 14/20\n",
      "3424/3550 [===========================>..] - ETA: 0s - loss: 1.0496 - accuracy: 0.6737 - precision: 0.5703 - recall: 0.0853 - auc: 0.6336\n",
      "Epoch 00014: saving model to models/model1.ckpt\n",
      "3550/3550 [==============================] - 1s 169us/sample - loss: 1.0502 - accuracy: 0.6734 - precision: 0.5679 - recall: 0.0848 - auc: 0.6328 - val_loss: 1.1136 - val_accuracy: 0.6573 - val_precision: 0.4032 - val_recall: 0.0585 - val_auc: 0.5311\n",
      "Epoch 15/20\n",
      "3520/3550 [============================>.] - ETA: 0s - loss: 1.0497 - accuracy: 0.6737 - precision: 0.5603 - recall: 0.0977 - auc: 0.6326\n",
      "Epoch 00015: saving model to models/model1.ckpt\n",
      "3550/3550 [==============================] - 1s 155us/sample - loss: 1.0494 - accuracy: 0.6737 - precision: 0.5608 - recall: 0.0975 - auc: 0.6331 - val_loss: 1.1135 - val_accuracy: 0.6596 - val_precision: 0.4211 - val_recall: 0.0562 - val_auc: 0.5299\n",
      "Epoch 16/20\n",
      "3232/3550 [==========================>...] - ETA: 0s - loss: 1.0506 - accuracy: 0.6758 - precision: 0.5838 - recall: 0.0959 - auc: 0.6303\n",
      "Epoch 00016: saving model to models/model1.ckpt\n",
      "3550/3550 [==============================] - 0s 88us/sample - loss: 1.0472 - accuracy: 0.6764 - precision: 0.5878 - recall: 0.0980 - auc: 0.6360 - val_loss: 1.1150 - val_accuracy: 0.6596 - val_precision: 0.4328 - val_recall: 0.0679 - val_auc: 0.5303\n",
      "Epoch 17/20\n",
      "3392/3550 [===========================>..] - ETA: 0s - loss: 1.0457 - accuracy: 0.6789 - precision: 0.5901 - recall: 0.1197 - auc: 0.6384\n",
      "Epoch 00017: saving model to models/model1.ckpt\n",
      "3550/3550 [==============================] - 0s 115us/sample - loss: 1.0465 - accuracy: 0.6781 - precision: 0.5847 - recall: 0.1186 - auc: 0.6377 - val_loss: 1.1130 - val_accuracy: 0.6596 - val_precision: 0.4182 - val_recall: 0.0539 - val_auc: 0.5316\n",
      "Epoch 18/20\n",
      "3392/3550 [===========================>..] - ETA: 0s - loss: 1.0459 - accuracy: 0.6759 - precision: 0.5732 - recall: 0.1085 - auc: 0.6373\n",
      "Epoch 00018: saving model to models/model1.ckpt\n",
      "3550/3550 [==============================] - 0s 114us/sample - loss: 1.0463 - accuracy: 0.6759 - precision: 0.5727 - recall: 0.1087 - auc: 0.6369 - val_loss: 1.1129 - val_accuracy: 0.6612 - val_precision: 0.4533 - val_recall: 0.0796 - val_auc: 0.5332\n",
      "Epoch 19/20\n"
     ]
    },
    {
     "name": "stdout",
     "output_type": "stream",
     "text": [
      "3200/3550 [==========================>...] - ETA: 0s - loss: 1.0417 - accuracy: 0.6774 - precision: 0.5866 - recall: 0.1091 - auc: 0.6451\n",
      "Epoch 00019: saving model to models/model1.ckpt\n",
      "3550/3550 [==============================] - 1s 188us/sample - loss: 1.0458 - accuracy: 0.6761 - precision: 0.5731 - recall: 0.1104 - auc: 0.6392 - val_loss: 1.1177 - val_accuracy: 0.6550 - val_precision: 0.4138 - val_recall: 0.0843 - val_auc: 0.5317\n",
      "Epoch 20/20\n",
      "3296/3550 [==========================>...] - ETA: 0s - loss: 1.0423 - accuracy: 0.6779 - precision: 0.5927 - recall: 0.1077 - auc: 0.6435\n",
      "Epoch 00020: saving model to models/model1.ckpt\n",
      "3550/3550 [==============================] - 1s 169us/sample - loss: 1.0423 - accuracy: 0.6773 - precision: 0.5863 - recall: 0.1082 - auc: 0.6434 - val_loss: 1.1214 - val_accuracy: 0.6526 - val_precision: 0.4182 - val_recall: 0.1077 - val_auc: 0.5309\n"
     ]
    },
    {
     "data": {
      "text/plain": [
       "<tensorflow.python.keras.callbacks.History at 0x2b4181bf3c8>"
      ]
     },
     "execution_count": 9,
     "metadata": {},
     "output_type": "execute_result"
    }
   ],
   "source": [
    "model = create_model()\n",
    "\n",
    "checkpoint_path = \"models/model1.ckpt\"\n",
    "checkpoint_dir = os.path.dirname(checkpoint_path)\n",
    "\n",
    "cp_callback = tf.keras.callbacks.ModelCheckpoint(filepath=checkpoint_path,\n",
    "                                                 save_weights_only=True,\n",
    "                                                 verbose=1)\n",
    "\n",
    "\n",
    "model.fit(x_train,y_train, epochs=20,validation_data=(x_test,y_test),\n",
    "          callbacks=[cp_callback])"
   ]
  },
  {
   "cell_type": "code",
   "execution_count": 22,
   "metadata": {},
   "outputs": [
    {
     "name": "stdout",
     "output_type": "stream",
     "text": [
      "[0 0 1]\n",
      "------------ 0 ------------\n",
      "prédiction :  0 pourcentage de certitude : 32.3  %\n",
      "prédiction :  1 pourcentage de certitude : 28.3  %\n",
      "prédiction :  2 pourcentage de certitude : 39.5  %\n"
     ]
    }
   ],
   "source": [
    "index = np.random.randint(0,107)\n",
    "print(y_test[index])\n",
    "print_logits(model.predict(x = x_test[index].reshape(1,14), batch_size = 1),1,3)"
   ]
  },
  {
   "cell_type": "code",
   "execution_count": 24,
   "metadata": {
    "scrolled": true
   },
   "outputs": [],
   "source": [
    "y_pred = model.predict(x = x_train)\n",
    "y_pred = np.argmax(y_pred, axis=1)\n",
    "conf_mat = tf.math.confusion_matrix(y_train, y_pred)"
   ]
  }
 ],
 "metadata": {
  "kernelspec": {
   "display_name": "Python 3",
   "language": "python",
   "name": "python3"
  },
  "language_info": {
   "codemirror_mode": {
    "name": "ipython",
    "version": 3
   },
   "file_extension": ".py",
   "mimetype": "text/x-python",
   "name": "python",
   "nbconvert_exporter": "python",
   "pygments_lexer": "ipython3",
   "version": "3.7.4"
  }
 },
 "nbformat": 4,
 "nbformat_minor": 2
}
