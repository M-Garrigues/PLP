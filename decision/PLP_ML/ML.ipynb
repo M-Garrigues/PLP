{
 "cells": [
  {
   "cell_type": "code",
   "execution_count": 135,
   "metadata": {},
   "outputs": [],
   "source": [
    "from __future__ import absolute_import, division, print_function, unicode_literals\n",
    "import functools\n",
    "import seaborn as sns\n",
    "import numpy as np\n",
    "import tensorflow as tf\n",
    "import pandas as pd\n",
    "import os\n",
    "from tensorflow import keras"
   ]
  },
  {
   "cell_type": "code",
   "execution_count": 141,
   "metadata": {},
   "outputs": [],
   "source": [
    "def print_logits (y,batch_size,nb_label):\n",
    "    # Print a the label predicted\n",
    "    #Input : \n",
    "    #y : Numpy array [batch_size][10] The data predicted\n",
    "    #batch_size : Int The size of the batch\n",
    "    #nb_label : Int The number of labels\n",
    "    for i in range (0,batch_size):\n",
    "        print(\"------------\",i,\"------------\")\n",
    "        for j in range (0,nb_label):\n",
    "            if (y[i][j] != 0):\n",
    "                print(\"prédiction : \",j,\"pourcentage de certitude :\",\"%.1f\" % (y[i][j]*100) , \" %\")\n",
    "\n",
    "def int_to_dummies(i):\n",
    "    # Create a label for the number given\n",
    "    #Input: int The value of the label\n",
    "    result = [0]*3\n",
    "    result[int(i)] = 1\n",
    "    return np.array(result)\n",
    "\n",
    "def create_model():\n",
    "    model = tf.keras.models.Sequential([\n",
    "    tf.keras.layers.Dense(32, activation='relu'),\n",
    "    tf.keras.layers.Dense(16, activation='relu'),\n",
    "    tf.keras.layers.Dense(3, activation='softmax')\n",
    "  ])\n",
    "\n",
    "    model.compile(optimizer='adam',\n",
    "                loss='sparse_categorical_crossentropy',\n",
    "                metrics=[\n",
    "                      keras.metrics.TruePositives(name='tp'),\n",
    "                      keras.metrics.FalsePositives(name='fp'),\n",
    "                      keras.metrics.TrueNegatives(name='tn'),\n",
    "                      keras.metrics.FalseNegatives(name='fn'), \n",
    "                      keras.metrics.BinaryAccuracy(name='accuracy'),\n",
    "                      keras.metrics.Precision(name='precision'),\n",
    "                      keras.metrics.Recall(name='recall'),\n",
    "                      keras.metrics.AUC(name='auc')])\n",
    "\n",
    "    return model\n",
    "\n",
    "\n",
    "\n",
    "def prediction_logits (y,batch_size,nb_label):\n",
    "    # Normalize the batch of label to obtain a percentage\n",
    "    #Input : \n",
    "    #y : Numpy array [batch_size][10] The data predicted\n",
    "    #batch_size : Int The size of the batch\n",
    "    #nb_label : Int The number of labels\n",
    "    #Out : Numpy array [batch_size][10] the input normalized\n",
    "    \n",
    "    y_sum = np.sum(y, axis=1)\n",
    "    for i in range (0,batch_size):\n",
    "        for j in range (0,nb_label):\n",
    "            if (y_sum[i] != 0):\n",
    "                y[i][j] = y[i][j]/y_sum[i]\n",
    "    \n",
    "    return y\n"
   ]
  },
  {
   "cell_type": "code",
   "execution_count": 143,
   "metadata": {
    "scrolled": true
   },
   "outputs": [],
   "source": [
    "df = pd.read_csv(\"parsed_train_data.csv\")\n",
    "df = df[df.ID_FTR != -1]\n",
    "\n",
    "target = df[\"ID_FTR\"].apply(int_to_dummies)\n",
    "features = df[df.columns[7:]]"
   ]
  },
  {
   "cell_type": "code",
   "execution_count": 162,
   "metadata": {
    "scrolled": true
   },
   "outputs": [],
   "source": [
    "list(y_train)\n",
    "a = np.array([])\n",
    "for i in list(y_train):\n",
    "    a = np.append(a,i)\n",
    "a = a.reshape(-1,3)"
   ]
  },
  {
   "cell_type": "code",
   "execution_count": 163,
   "metadata": {},
   "outputs": [
    {
     "data": {
      "text/plain": [
       "array([[0., 0., 1.],\n",
       "       [0., 1., 0.],\n",
       "       [1., 0., 0.],\n",
       "       ...,\n",
       "       [1., 0., 0.],\n",
       "       [1., 0., 0.],\n",
       "       [0., 0., 1.]])"
      ]
     },
     "execution_count": 163,
     "metadata": {},
     "output_type": "execute_result"
    }
   ],
   "source": [
    "a"
   ]
  },
  {
   "cell_type": "code",
   "execution_count": 145,
   "metadata": {},
   "outputs": [],
   "source": [
    "x_test = features.iloc[3550:].values\n",
    "y_test = target.iloc[3550:].values\n",
    "\n",
    "x_train = features.iloc[:3550].values\n",
    "y_train = target.iloc[:3550].values"
   ]
  },
  {
   "cell_type": "code",
   "execution_count": 146,
   "metadata": {},
   "outputs": [],
   "source": [
    "x_train = x_train.astype(float)"
   ]
  },
  {
   "cell_type": "code",
   "execution_count": null,
   "metadata": {
    "scrolled": true
   },
   "outputs": [],
   "source": [
    "model = create_model()\n",
    "\n",
    "checkpoint_path = \"models/model1.ckpt\"\n",
    "checkpoint_dir = os.path.dirname(checkpoint_path)\n",
    "\n",
    "cp_callback = tf.keras.callbacks.ModelCheckpoint(filepath=checkpoint_path,\n",
    "                                                 save_weights_only=True,\n",
    "                                                 verbose=1)\n",
    "\n",
    "\n",
    "model.fit(x_train,a, epochs=20,validation_data=(x_test,y_test),\n",
    "          callbacks=[cp_callback],\n",
    "         class_weight = {0: 1.5, 1 : 1.3, 2 : 1 })"
   ]
  },
  {
   "cell_type": "code",
   "execution_count": 132,
   "metadata": {},
   "outputs": [
    {
     "name": "stdout",
     "output_type": "stream",
     "text": [
      "1\n",
      "------------ 0 ------------\n",
      "prédiction :  0 pourcentage de certitude : 42.6  %\n",
      "prédiction :  1 pourcentage de certitude : 25.0  %\n",
      "prédiction :  2 pourcentage de certitude : 32.4  %\n"
     ]
    }
   ],
   "source": [
    "index = np.random.randint(0,107)\n",
    "print(y_test[index])\n",
    "print_logits(model.predict(x = x_test[index].reshape(1,14), batch_size = 1),1,3)"
   ]
  },
  {
   "cell_type": "code",
   "execution_count": 24,
   "metadata": {
    "scrolled": true
   },
   "outputs": [],
   "source": [
    "y_pred = model.predict(x = x_train)\n",
    "y_pred = np.argmax(y_pred, axis=1)\n",
    "conf_mat = tf.math.confusion_matrix(y_train, y_pred)"
   ]
  }
 ],
 "metadata": {
  "kernelspec": {
   "display_name": "Python 3",
   "language": "python",
   "name": "python3"
  },
  "language_info": {
   "codemirror_mode": {
    "name": "ipython",
    "version": 3
   },
   "file_extension": ".py",
   "mimetype": "text/x-python",
   "name": "python",
   "nbconvert_exporter": "python",
   "pygments_lexer": "ipython3",
   "version": "3.7.4"
  }
 },
 "nbformat": 4,
 "nbformat_minor": 2
}
