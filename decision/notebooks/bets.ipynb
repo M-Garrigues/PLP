{
 "cells": [
  {
   "cell_type": "code",
   "execution_count": 88,
   "metadata": {},
   "outputs": [
    {
     "name": "stdout",
     "output_type": "stream",
     "text": [
      "[1.007, 1.0080000000000002, 1.05, 1.0499999999999998, 1.035, 1.0875, 1.0075, 1.56, 0.9936000000000001]\n"
     ]
    }
   ],
   "source": [
    "preds = [0.95, 0.9, 0.6, 0.7, 0.15, 0.75, 0.65, 0.26, 0.92]\n",
    "\n",
    "cotes = [1.06, 1.12, 1.75, 1.5, 6.9, 1.45, 1.55, 6, 1.08]\n",
    "\n",
    "mises = [1, 1, 1, 1, 1, 1, 1, 1, 1]\n",
    "\n",
    "products = []\n",
    "\n",
    "for num1, num2 in zip(preds, cotes):\n",
    "    products.append(num1 * num2)\n",
    "\n",
    "print(products)"
   ]
  },
  {
   "cell_type": "code",
   "execution_count": 23,
   "metadata": {},
   "outputs": [
    {
     "ename": "TypeError",
     "evalue": "zip argument #2 must support iteration",
     "output_type": "error",
     "traceback": [
      "\u001b[0;31m---------------------------------------------------------------------------\u001b[0m",
      "\u001b[0;31mTypeError\u001b[0m                                 Traceback (most recent call last)",
      "\u001b[0;32m<ipython-input-23-a3aecf1810fa>\u001b[0m in \u001b[0;36m<module>\u001b[0;34m\u001b[0m\n\u001b[1;32m      1\u001b[0m \u001b[0mesp\u001b[0m \u001b[0;34m=\u001b[0m \u001b[0;36m0\u001b[0m\u001b[0;34m\u001b[0m\u001b[0;34m\u001b[0m\u001b[0m\n\u001b[1;32m      2\u001b[0m \u001b[0;34m\u001b[0m\u001b[0m\n\u001b[0;32m----> 3\u001b[0;31m \u001b[0;32mfor\u001b[0m \u001b[0mcote\u001b[0m\u001b[0;34m,\u001b[0m \u001b[0mpred\u001b[0m\u001b[0;34m,\u001b[0m \u001b[0mmise\u001b[0m \u001b[0;32min\u001b[0m \u001b[0mzip\u001b[0m\u001b[0;34m(\u001b[0m\u001b[0mcotes\u001b[0m\u001b[0;34m,\u001b[0m \u001b[0mpred\u001b[0m\u001b[0;34m,\u001b[0m \u001b[0mmises\u001b[0m\u001b[0;34m)\u001b[0m\u001b[0;34m:\u001b[0m\u001b[0;34m\u001b[0m\u001b[0;34m\u001b[0m\u001b[0m\n\u001b[0m\u001b[1;32m      4\u001b[0m     \u001b[0mesp\u001b[0m \u001b[0;34m+=\u001b[0m \u001b[0mmise\u001b[0m \u001b[0;34m*\u001b[0m \u001b[0;34m(\u001b[0m\u001b[0mcote\u001b[0m \u001b[0;34m*\u001b[0m \u001b[0mpred\u001b[0m \u001b[0;34m-\u001b[0m \u001b[0;36m1\u001b[0m\u001b[0;34m)\u001b[0m\u001b[0;34m\u001b[0m\u001b[0;34m\u001b[0m\u001b[0m\n\u001b[1;32m      5\u001b[0m \u001b[0;34m\u001b[0m\u001b[0m\n",
      "\u001b[0;31mTypeError\u001b[0m: zip argument #2 must support iteration"
     ]
    }
   ],
   "source": [
    "esp = 0\n",
    "\n",
    "for cote, pred, mise in zip(cotes, pred, mises):\n",
    "    esp += mise * (cote * pred - 1)\n",
    "\n",
    "print(esp)"
   ]
  },
  {
   "cell_type": "code",
   "execution_count": 19,
   "metadata": {},
   "outputs": [
    {
     "name": "stdout",
     "output_type": "stream",
     "text": [
      "['bite', 'bite', 'bite', 'bite', 'bite', 'bite', 'bite', 'bite', 'bite']\n"
     ]
    }
   ],
   "source": [
    "res = []\n",
    "\n",
    "for cote, pred, mise in zip(cotes, pred, mises):\n",
    "    res.append(\"bite\")\n",
    "    \n",
    "print(res)"
   ]
  },
  {
   "cell_type": "code",
   "execution_count": 89,
   "metadata": {},
   "outputs": [
    {
     "name": "stdout",
     "output_type": "stream",
     "text": [
      "7.87 : 0.95 : 0.007\n",
      "7.64 : 0.9 : 0.007\n",
      "13.58 : 0.6 : 0.029\n",
      "21.56 : 0.7 : 0.033\n",
      "0.15 : 0.15 : 0.005\n",
      "44.8 : 0.75 : 0.06\n",
      "2.7 : 0.65 : 0.005\n",
      "8.33 : 0.26 : 0.093\n",
      "-6.62 : 0.92 : -0.006\n"
     ]
    }
   ],
   "source": [
    "credits = []\n",
    "r = 1.3\n",
    "\n",
    "for cote, pred in zip(cotes, preds):\n",
    "    \n",
    "    diff = pred - (1/cote)\n",
    "    credits.append(diff * pred * pred)\n",
    "    #credits.append(pred - ((1 - pred) / (cote *(1 + diff))))\n",
    "    \n",
    "total = sum(credits)\n",
    "\n",
    "for credit, pred, cote in zip(credits, preds, cotes):\n",
    "    print(str(round(credit* 100/total, 2)) + \" : \" + str(pred) + \" : \" + str(round(pred - 1/cote, 3)))"
   ]
  }
 ],
 "metadata": {
  "kernelspec": {
   "display_name": "Python 3",
   "language": "python",
   "name": "python3"
  },
  "language_info": {
   "codemirror_mode": {
    "name": "ipython",
    "version": 3
   },
   "file_extension": ".py",
   "mimetype": "text/x-python",
   "name": "python",
   "nbconvert_exporter": "python",
   "pygments_lexer": "ipython3",
   "version": "3.7.3"
  }
 },
 "nbformat": 4,
 "nbformat_minor": 2
}
