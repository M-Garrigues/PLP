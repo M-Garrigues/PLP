{
 "cells": [
  {
   "cell_type": "code",
   "execution_count": 9,
   "metadata": {},
   "outputs": [],
   "source": [
    "import requests\n",
    "\n",
    "for i in range(14,20):\n",
    "    url = \"https://www.football-data.co.uk/mmz4281/\"+str(i) + str(i+1)+\"/F1.csv\"\n",
    "    myfile = requests.get(url)\n",
    "    open('../data/'+str(i)+'01.csv', 'wb').write(myfile.content)\n",
    "\n",
    "for i in range(14,20):\n",
    "    url = \"https://www.football-data.co.uk/mmz4281/\"+str(i) + str(i+1)+\"/F2.csv\"\n",
    "    myfile = requests.get(url)\n",
    "    open('../data/'+str(i)+'02.csv', 'wb').write(myfile.content)"
   ]
  },
  {
   "cell_type": "code",
   "execution_count": 10,
   "metadata": {},
   "outputs": [],
   "source": [
    "for i in range(14,20):\n",
    "    url = \"https://www.football-data.co.uk/mmz4281/\"+str(i) + str(i+1)+\"/D1.csv\"\n",
    "    myfile = requests.get(url)\n",
    "    open('../data/'+str(i)+'03.csv', 'wb').write(myfile.content)\n",
    "\n",
    "for i in range(14,20):\n",
    "    url = \"https://www.football-data.co.uk/mmz4281/\"+str(i) + str(i+1)+\"/D2.csv\"\n",
    "    myfile = requests.get(url)\n",
    "    open('../data/'+str(i)+'04.csv', 'wb').write(myfile.content)"
   ]
  },
  {
   "cell_type": "code",
   "execution_count": 11,
   "metadata": {},
   "outputs": [],
   "source": [
    "for i in range(14,20):\n",
    "    url = \"https://www.football-data.co.uk/mmz4281/\"+str(i) + str(i+1)+\"/SP1.csv\"\n",
    "    myfile = requests.get(url)\n",
    "    open('../data/'+str(i)+'05.csv', 'wb').write(myfile.content)\n",
    "\n",
    "for i in range(14,20):\n",
    "    url = \"https://www.football-data.co.uk/mmz4281/\"+str(i) + str(i+1)+\"/SP2.csv\"\n",
    "    myfile = requests.get(url)\n",
    "    open('../data/'+str(i)+'06.csv', 'wb').write(myfile.content)"
   ]
  },
  {
   "cell_type": "code",
   "execution_count": 12,
   "metadata": {},
   "outputs": [],
   "source": [
    "for i in range(14,20):\n",
    "    url = \"https://www.football-data.co.uk/mmz4281/\"+str(i) + str(i+1)+\"/E0.csv\"\n",
    "    myfile = requests.get(url)\n",
    "    open('../data/'+str(i)+'07.csv', 'wb').write(myfile.content)\n",
    "\n",
    "for i in range(14,20):\n",
    "    url = \"https://www.football-data.co.uk/mmz4281/\"+str(i) + str(i+1)+\"/E1.csv\"\n",
    "    myfile = requests.get(url)\n",
    "    open('../data/'+str(i)+'08.csv', 'wb').write(myfile.content)"
   ]
  },
  {
   "cell_type": "code",
   "execution_count": 16,
   "metadata": {},
   "outputs": [],
   "source": [
    "for i in range(14,20):\n",
    "    url = \"https://www.football-data.co.uk/mmz4281/\"+str(i) + str(i+1)+\"/I1.csv\"\n",
    "    myfile = requests.get(url)\n",
    "    open('../data/'+str(i)+'09.csv', 'wb').write(myfile.content)\n",
    "\n",
    "for i in range(14,20):\n",
    "    url = \"https://www.football-data.co.uk/mmz4281/\"+str(i) + str(i+1)+\"/I2.csv\"\n",
    "    myfile = requests.get(url)\n",
    "    open('../data/'+str(i)+'10.csv', 'wb').write(myfile.content)"
   ]
  },
  {
   "cell_type": "code",
   "execution_count": null,
   "metadata": {},
   "outputs": [],
   "source": []
  }
 ],
 "metadata": {
  "kernelspec": {
   "display_name": "Python 3",
   "language": "python",
   "name": "python3"
  },
  "language_info": {
   "codemirror_mode": {
    "name": "ipython",
    "version": 3
   },
   "file_extension": ".py",
   "mimetype": "text/x-python",
   "name": "python",
   "nbconvert_exporter": "python",
   "pygments_lexer": "ipython3",
   "version": "3.7.4"
  }
 },
 "nbformat": 4,
 "nbformat_minor": 2
}
