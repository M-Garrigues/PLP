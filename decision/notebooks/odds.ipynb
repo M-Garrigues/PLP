{
 "cells": [
  {
   "cell_type": "code",
   "execution_count": 1,
   "metadata": {},
   "outputs": [],
   "source": [
    "from requests import get\n",
    "from lxml import etree\n",
    "import io\n",
    "import pandas as pd\n",
    "from pymongo import MongoClient\n",
    "from bson import ObjectId\n",
    "from bson.json_util import dumps\n"
   ]
  },
  {
   "cell_type": "code",
   "execution_count": 2,
   "metadata": {
    "scrolled": true
   },
   "outputs": [],
   "source": [
    "url_serieA = \"https://www.betclic.fr/football/italie-serie-a-e6\"\n",
    "url_liga = \"https://www.betclic.fr/football/espagne-liga-primera-e7\"\n",
    "url_premierLeague = \"https://www.betclic.fr/football/angl-premier-league-e3\"\n",
    "url_ligue1 = \"https://www.betclic.fr/football/ligue-1-conforama-e4\"\n",
    "url_bundesliga = \"https://www.betclic.fr/football/allemagne-bundesliga-e5\"\n",
    "\n",
    "headers = {\"encoding\": \"utf-8\"} \n",
    "page_serieA = get(url_serieA, headers=headers).content\n",
    "page_liga = get(url_liga, headers=headers).content\n",
    "page_premierLeague = get(url_premierLeague, headers=headers).content\n",
    "page_ligue1 = get(url_ligue1, headers=headers).content\n",
    "page_bundesliga = get(url_bundesliga, headers=headers).content"
   ]
  },
  {
   "cell_type": "code",
   "execution_count": 3,
   "metadata": {},
   "outputs": [],
   "source": [
    "def rreplace(s, old, new, occurrence):\n",
    "    li = s.rsplit(old, occurrence)\n",
    "    return new.join(li)"
   ]
  },
  {
   "cell_type": "code",
   "execution_count": 4,
   "metadata": {},
   "outputs": [],
   "source": [
    "def clean_body(raw_page):\n",
    "\n",
    "    start = '<div class=\"entry day-entry grid-9 nm\"'\n",
    "    end = 'var refreshTime = 20000;'\n",
    "\n",
    "    page = raw_page.decode()\n",
    "\n",
    "    body = page[page.find(start):page.rfind(end)]\n",
    "    body = body.replace(\"&\", \"\")\n",
    "    body = body.replace(\"<a\", \"\")\n",
    "    body = body.replace(\"</a>\", \"\")\n",
    "\n",
    "    body = rreplace(body, \"</div>\", \"\", 2)\n",
    "    body = rreplace(body, '<script type=\"text/javascript\" language=\"javascript\">', \"\", 1)\n",
    "    body = rreplace(body, '</section>', \"\", 1)\n",
    "\n",
    "    body = \"<root>\"+body+\"</root>\"\n",
    "    return body"
   ]
  },
  {
   "cell_type": "code",
   "execution_count": 5,
   "metadata": {},
   "outputs": [],
   "source": [
    "import numpy as np\n",
    "\n",
    "def crawl_info(cleaned_body, league):\n",
    "\n",
    "    byte = str.encode(cleaned_body)\n",
    "\n",
    "    file = io.BytesIO(byte)\n",
    "\n",
    "    data = pd.DataFrame(columns=[\"match\",\"teamA\", \"teamH\",\"date\",\"hour\",\"odd_H\",\"odd_D\",\"odd_A\",\\\n",
    "                                 \"pred_H\", \"pred_D\", \"pred_A\",\"RI_H\",\"RI_D\",\"RI_A\",\"league\"])\n",
    "\n",
    "    match=\"\"\n",
    "    date=\"\"\n",
    "    hour=\"\"\n",
    "    odds = [0,0,0]\n",
    "    i = 0\n",
    "\n",
    "    for event, element in etree.iterparse(file):\n",
    "        if element.tag == \"time\":\n",
    "            date = element.get(\"datetime\")\n",
    "        if element.tag == \"div\" and element.get(\"class\") == \"hour\":\n",
    "            hour = element.text\n",
    "        if element.tag == \"div\" and element.get(\"class\") == \"match-name\":\n",
    "            match = element.text.splitlines()[2].lstrip()\n",
    "\n",
    "        if element.tag == \"div\" and element.get(\"class\") == \"match-odds\":\n",
    "            children = element.getchildren() \n",
    "            c=0\n",
    "\n",
    "            for child in children:\n",
    "                span = child.getchildren()[0]\n",
    "                odds[c] = span.text\n",
    "                c+=1\n",
    "                \n",
    "            teamH = match.split(\" - \")[0]\n",
    "            teamA = match.split(\" - \")[1]\n",
    "            data.loc[i] = [match, teamA, teamH, date, hour,\\\n",
    "                           float(odds[0].replace(',','.')), \\\n",
    "                           float(odds[1].replace(',','.')), \\\n",
    "                           float(odds[2].replace(',','.')), \\\n",
    "                           float(\"-1\"), float(\"-1\"), float(\"-1\"), \\\n",
    "                           float(\"-1\"), float(\"-1\"), float(\"-1\"), \\\n",
    "                           league]\n",
    "            i+=1\n",
    "\n",
    "\n",
    "    return data"
   ]
  },
  {
   "cell_type": "code",
   "execution_count": 6,
   "metadata": {},
   "outputs": [],
   "source": [
    "def get_odds_by_league(page, league):\n",
    "    return crawl_info(clean_body(page), league)"
   ]
  },
  {
   "cell_type": "code",
   "execution_count": 7,
   "metadata": {},
   "outputs": [],
   "source": [
    "def give_id(odds):\n",
    "    \n",
    "    odds[\"_id\"] = odds.date+\"/\"+odds.hour+\"/\"+odds.match\n",
    "    return odds"
   ]
  },
  {
   "cell_type": "code",
   "execution_count": 8,
   "metadata": {},
   "outputs": [],
   "source": [
    "def fetch_odds():\n",
    "    odds = get_odds_by_league(page_ligue1,\"ligue1\").append(get_odds_by_league(page_bundesliga,\"bundesliga\"), ignore_index=True)\n",
    "    odds = odds.append(get_odds_by_league(page_liga,\"liga\"), ignore_index=True)\n",
    "    odds = odds.append(get_odds_by_league(page_serieA,\"serieA\"), ignore_index=True)\n",
    "    odds = odds.append(get_odds_by_league(page_premierLeague,\"premierLeague\"), ignore_index=True)\n",
    "    odds = odds.sort_values(by='date')\n",
    "    return give_id(odds)"
   ]
  },
  {
   "cell_type": "markdown",
   "metadata": {},
   "source": [
    "# PERSISTENCE LAYER\n",
    "=================================="
   ]
  },
  {
   "cell_type": "code",
   "execution_count": 9,
   "metadata": {},
   "outputs": [],
   "source": [
    "client = MongoClient(\"mongodb://plp_mongodb:27017\")\n",
    "\n",
    "coll = client[\"plp\"][\"apibase\"]"
   ]
  },
  {
   "cell_type": "code",
   "execution_count": 10,
   "metadata": {},
   "outputs": [],
   "source": [
    "def update_db(data):\n",
    "\n",
    "    for index, row in data.iterrows():\n",
    "        coll.replace_one({'_id':row['_id']}, row.to_dict(), True)"
   ]
  },
  {
   "cell_type": "code",
   "execution_count": 11,
   "metadata": {},
   "outputs": [],
   "source": [
    "def fetch_db_matches():\n",
    "    return pd.read_json(dumps(coll.find()))"
   ]
  },
  {
   "cell_type": "code",
   "execution_count": 12,
   "metadata": {},
   "outputs": [],
   "source": [
    "def remove_match_db(id):\n",
    "    query = { \"_id\": id}\n",
    "    coll.delete_one(query)     "
   ]
  },
  {
   "cell_type": "code",
   "execution_count": 13,
   "metadata": {},
   "outputs": [],
   "source": [
    "def remove_old_matches(old, new):\n",
    "    passed_matches = old.merge(new,how='left', on='_id', suffixes=('_old', '_new'))\n",
    "\n",
    "    passed_matches.where(passed_matches[\"match_new\"]==passed_matches[\"match_old\"], inplace = True)\n",
    "    \n",
    "    for index, row in passed_matches.iterrows():\n",
    "        remove_match_db(row[\"_id\"])"
   ]
  },
  {
   "cell_type": "markdown",
   "metadata": {},
   "source": [
    "# PREDICTION FUNCTIONS\n",
    "=================================="
   ]
  },
  {
   "cell_type": "code",
   "execution_count": 14,
   "metadata": {},
   "outputs": [],
   "source": [
    "def predict_match(match):\n",
    "    match.pred_H, match.pred_D, match.pred_A = predict_teams(match.teamH, match.teamA) #model.predict(teamH, teamA) ### TO DO"
   ]
  },
  {
   "cell_type": "code",
   "execution_count": 15,
   "metadata": {},
   "outputs": [],
   "source": [
    "def predict_teams(teamH, teamA):\n",
    "    return np.random.rand(), np.random.rand(), np.random.rand() ### TO DO"
   ]
  },
  {
   "cell_type": "code",
   "execution_count": 16,
   "metadata": {},
   "outputs": [],
   "source": [
    "def calculate_RI(match):\n",
    "    match.RI_H = RI_formula(match.odd_H, match.pred_H)\n",
    "    match.RI_D = RI_formula(match.odd_D, match.pred_D)\n",
    "    match.RI_A = RI_formula(match.odd_A, match.pred_A)"
   ]
  },
  {
   "cell_type": "code",
   "execution_count": 17,
   "metadata": {},
   "outputs": [],
   "source": [
    "def RI_formula(odd, prediction):\n",
    "    return (1 - (1/odd)) / (1 - prediction)  ### TO DO"
   ]
  },
  {
   "cell_type": "code",
   "execution_count": 18,
   "metadata": {},
   "outputs": [],
   "source": [
    "test = fetch_odds()[3:4]\n",
    "for index, match_row in test.iterrows():\n",
    "    predict_match(match_row)\n",
    "    calculate_RI(match_row)\n",
    "    test.loc[index] = match_row"
   ]
  },
  {
   "cell_type": "markdown",
   "metadata": {},
   "source": [
    "# MAIN \n",
    "=================================="
   ]
  },
  {
   "cell_type": "code",
   "execution_count": 19,
   "metadata": {},
   "outputs": [],
   "source": [
    "def main_odds():\n",
    "    \n",
    "    old = fetch_db_matches()\n",
    "    new = fetch_odds()\n",
    "\n",
    "    if len(old)==0:\n",
    "        old = pd.DataFrame(columns=[\"_id\", \"match\", \"pred_H\", \"pred_D\", \"pred_A\"])\n",
    "        \n",
    "    merge = new.merge(old,how='outer', on='_id', suffixes=('_new', '_old'))\n",
    "\n",
    "    data_to_add = merge[merge[\"match_old\"].isna()]\n",
    "    data_to_delete = merge[merge[\"match_new\"].isna()]\n",
    "    data_to_update = merge[merge[\"match_new\"] == merge[\"match_old\"]]\n",
    "   \n",
    "    #Filter and add new data\n",
    "    add_filtered = new[new[\"_id\"].isin(data_to_add[\"_id\"])]\n",
    "    for index, match_row in add_filtered.iterrows():\n",
    "        predict_match(match_row)\n",
    "        calculate_RI(match_row)\n",
    "        add_filtered.loc[index] = match_row\n",
    "\n",
    "    update_db(add_filtered)\n",
    "    \n",
    "\n",
    "\n",
    "    #Filter and delete old data\n",
    "    delete_filtered = old[old[\"_id\"].isin(data_to_delete[\"_id\"])]\n",
    "    for _id in delete_filtered[\"_id\"].values:\n",
    "        remove_match_db(_id)\n",
    "\n",
    "\n",
    "    #Filter existing data, and update it\n",
    "    update_filtered = new[new[\"_id\"].isin(data_to_update[\"_id\"])]\n",
    "    old_filtered = old[old[\"_id\"].isin(data_to_update[\"_id\"])]\n",
    "\n",
    "    update_filtered.loc[:,\"pred_H\"] = old_filtered[\"pred_H\"].values\n",
    "    update_filtered.loc[:,\"pred_D\"] = old_filtered[\"pred_D\"].values\n",
    "    update_filtered.loc[:,\"pred_A\"] = old_filtered[\"pred_A\"].values\n",
    "\n",
    "    for index, match_row in update_filtered.iterrows():\n",
    "        calculate_RI(match_row)\n",
    "        update_filtered.loc[index] = match_row\n",
    "\n",
    "    update_db(update_filtered)\n",
    "    \n",
    "    print(\"Done.\")\n",
    "    print(\"New : \"+str(len(add_filtered)))\n",
    "    print(\"Updated : \"+str(len(update_filtered)))\n",
    "    print(\"Removed : \"+str(len(delete_filtered)))\n",
    "    print(\"Total matches in base : \"+str(coll.estimated_document_count()))"
   ]
  },
  {
   "cell_type": "code",
   "execution_count": 20,
   "metadata": {},
   "outputs": [],
   "source": [
    "remove_match_db(\"2020-1-18/21:00/Eibar - Atletico Madrid\")"
   ]
  },
  {
   "cell_type": "code",
   "execution_count": 22,
   "metadata": {},
   "outputs": [
    {
     "name": "stdout",
     "output_type": "stream",
     "text": [
      "Done.\n",
      "New : 0\n",
      "Updated : 107\n",
      "Removed : 0\n",
      "Total matches in base : 107\n"
     ]
    }
   ],
   "source": [
    "### MAIN\n",
    "\n",
    "main_odds()"
   ]
  }
 ],
 "metadata": {
  "kernelspec": {
   "display_name": "Python 3",
   "language": "python",
   "name": "python3"
  },
  "language_info": {
   "codemirror_mode": {
    "name": "ipython",
    "version": 3
   },
   "file_extension": ".py",
   "mimetype": "text/x-python",
   "name": "python",
   "nbconvert_exporter": "python",
   "pygments_lexer": "ipython3",
   "version": "3.7.3"
  }
 },
 "nbformat": 4,
 "nbformat_minor": 2
}
