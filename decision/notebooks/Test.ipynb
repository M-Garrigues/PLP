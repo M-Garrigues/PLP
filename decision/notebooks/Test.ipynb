{
 "cells": [
  {
   "cell_type": "code",
   "execution_count": 34,
   "metadata": {
    "scrolled": true
   },
   "outputs": [],
   "source": [
    "from requests import get\n",
    "from lxml import etree\n",
    "import io\n",
    "import pandas as pd\n",
    "\n",
    "url_serieA = \"https://www.betclic.fr/football/italie-serie-a-e6\"\n",
    "url_liga = \"https://www.betclic.fr/football/espagne-liga-primera-e7\"\n",
    "url_premierLeague = \"https://www.betclic.fr/football/angl-premier-league-e3\"\n",
    "url_ligue1 = \"https://www.betclic.fr/football/ligue-1-conforama-e4\"\n",
    "url_bundesliga = \"https://www.betclic.fr/football/allemagne-bundesliga-e5\"\n",
    "\n",
    "\n",
    "\n",
    "headers = {\"encoding\": \"utf-8\"} \n",
    "page_serieA = get(url_serieA, headers=headers).content\n",
    "page_liga = get(url_liga, headers=headers).content\n",
    "page_premierLeague = get(url_premierLeague, headers=headers).content\n",
    "page_ligue1 = get(url_ligue1, headers=headers).content\n",
    "page_bundesliga = get(url_bundesliga, headers=headers).content"
   ]
  },
  {
   "cell_type": "code",
   "execution_count": 2,
   "metadata": {},
   "outputs": [],
   "source": [
    "def rreplace(s, old, new, occurrence):\n",
    "    li = s.rsplit(old, occurrence)\n",
    "    return new.join(li)"
   ]
  },
  {
   "cell_type": "code",
   "execution_count": 39,
   "metadata": {},
   "outputs": [],
   "source": [
    "def clean_body(raw_page):\n",
    "\n",
    "    start = '<div class=\"entry day-entry grid-9 nm\"'\n",
    "    end = 'var refreshTime = 20000;'\n",
    "\n",
    "    page = raw_page.decode()\n",
    "\n",
    "    body = page[page.find(start):page.rfind(end)]\n",
    "    body = body.replace(\"&\", \"\")\n",
    "    body = body.replace(\"<a\", \"\")\n",
    "    body = body.replace(\"</a>\", \"\")\n",
    "\n",
    "    body = rreplace(body, \"</div>\", \"\", 2)\n",
    "    body = rreplace(body, '<script type=\"text/javascript\" language=\"javascript\">', \"\", 1)\n",
    "    body = rreplace(body, '</section>', \"\", 1)\n",
    "\n",
    "    body = \"<root>\"+body+\"</root>\"\n",
    "    return body"
   ]
  },
  {
   "cell_type": "code",
   "execution_count": 40,
   "metadata": {},
   "outputs": [],
   "source": [
    "def crawl_info(cleaned_body, league):\n",
    "\n",
    "    byte = str.encode(cleaned_body)\n",
    "\n",
    "    file = io.BytesIO(byte)\n",
    "\n",
    "    data = pd.DataFrame(columns=[\"match\",\"date\",\"hour\",\"H\",\"D\",\"A\",\"league\"])\n",
    "\n",
    "    match=\"\"\n",
    "    date=\"\"\n",
    "    hour=\"\"\n",
    "    odds = [0,0,0]\n",
    "    i = 0\n",
    "\n",
    "    for event, element in etree.iterparse(file):\n",
    "        if element.tag == \"time\":\n",
    "            date = element.get(\"datetime\")\n",
    "        if element.tag == \"div\" and element.get(\"class\") == \"hour\":\n",
    "            hour = element.text\n",
    "        if element.tag == \"div\" and element.get(\"class\") == \"match-name\":\n",
    "            match = element.text.splitlines()[2].lstrip()\n",
    "\n",
    "        if element.tag == \"div\" and element.get(\"class\") == \"match-odds\":\n",
    "            children = element.getchildren() \n",
    "            c=0\n",
    "\n",
    "            for child in children:\n",
    "                span = child.getchildren()[0]\n",
    "                odds[c] = span.text\n",
    "                c+=1\n",
    "            data.loc[i] = [match, date, hour, odds[0], odds[1], odds[2], league]\n",
    "            i+=1\n",
    "\n",
    "\n",
    "    return data\n",
    "\n"
   ]
  },
  {
   "cell_type": "code",
   "execution_count": 32,
   "metadata": {},
   "outputs": [],
   "source": [
    "def get_cotes(page, league):\n",
    "    return crawl_info(clean_body(page), league)"
   ]
  },
  {
   "cell_type": "code",
   "execution_count": 54,
   "metadata": {},
   "outputs": [
    {
     "name": "stdout",
     "output_type": "stream",
     "text": [
      "                                match       date   hour     H     D     A  \\\n",
      "0                      Nîmes - Rennes  2020-1-15  19:00  3,25  3,15  2,35   \n",
      "1                      Amiens - Reims  2020-1-15  19:00  2,82  2,88  2,85   \n",
      "2                   Monaco - Paris SG  2020-1-15  21:00  6,00  5,15  1,45   \n",
      "13   Schalke 04 - Borussia M'gladbach  2020-1-17  20:30  2,42  3,40  2,62   \n",
      "40                   Leganes - Getafe  2020-1-17  21:00  2,80  2,75  2,88   \n",
      "87                Newcastle - Chelsea  2020-1-18  18:30  5,80  4,35  1,50   \n",
      "42              Real Madrid - Séville  2020-1-18  16:00  1,58  4,15  5,00   \n",
      "43          Osasuna - Real Valladolid  2020-1-18  18:30  1,87  3,25  4,35   \n",
      "44            Eibar - Atletico Madrid  2020-1-18  21:00  4,85  3,25  1,80   \n",
      "60                  Lazio - Sampdoria  2020-1-18  15:00  1,40  4,60  7,20   \n",
      "61                  Sassuolo - Torino  2020-1-18  18:00  2,70  3,35  2,50   \n",
      "62                Naples - Fiorentina  2020-1-18  20:45  1,62  3,95  5,00   \n",
      "19          RB Leipzig - Union Berlin  2020-1-18  18:30  1,26  5,40  8,90   \n",
      "41                   Levante - Alavés  2020-1-18  13:00  2,05  3,40  3,45   \n",
      "17                 Mayence - Fribourg  2020-1-18  15:30  2,15  3,45  3,00   \n",
      "16      Augsbourg - Borussia Dortmund  2020-1-18  15:30  4,45  4,15  1,60   \n",
      "18  Fortuna Dusseldorf - Werder Brême  2020-1-18  15:30  2,52  3,50  2,45   \n",
      "14   Hoffenheim - Eintracht Francfort  2020-1-18  15:30  2,30  3,50  2,70   \n",
      "86                 West Ham - Everton  2020-1-18  16:00  2,85  3,35  2,38   \n",
      "85        Southampton - Wolverhampton  2020-1-18  16:00  2,48  3,25  2,78   \n",
      "\n",
      "           league  \n",
      "0          ligue1  \n",
      "1          ligue1  \n",
      "2          ligue1  \n",
      "13     bundesliga  \n",
      "40           liga  \n",
      "87  premierLeague  \n",
      "42           liga  \n",
      "43           liga  \n",
      "44           liga  \n",
      "60         serieA  \n",
      "61         serieA  \n",
      "62         serieA  \n",
      "19     bundesliga  \n",
      "41           liga  \n",
      "17     bundesliga  \n",
      "16     bundesliga  \n",
      "18     bundesliga  \n",
      "14     bundesliga  \n",
      "86  premierLeague  \n",
      "85  premierLeague  \n"
     ]
    }
   ],
   "source": [
    "cotes = get_cotes(page_ligue1,\"ligue1\").append(get_cotes(page_bundesliga,\"bundesliga\"), ignore_index=True)\n",
    "cotes = cotes.append(get_cotes(page_liga,\"liga\"), ignore_index=True)\n",
    "cotes = cotes.append(get_cotes(page_serieA,\"serieA\"), ignore_index=True)\n",
    "cotes = cotes.append(get_cotes(page_premierLeague,\"premierLeague\"), ignore_index=True)\n",
    "cotes = cotes.sort_values(by='date')\n",
    "print(cotes.head(20))"
   ]
  }
 ],
 "metadata": {
  "kernelspec": {
   "display_name": "Python 3",
   "language": "python",
   "name": "python3"
  },
  "language_info": {
   "codemirror_mode": {
    "name": "ipython",
    "version": 3
   },
   "file_extension": ".py",
   "mimetype": "text/x-python",
   "name": "python",
   "nbconvert_exporter": "python",
   "pygments_lexer": "ipython3",
   "version": "3.7.3"
  }
 },
 "nbformat": 4,
 "nbformat_minor": 2
}
