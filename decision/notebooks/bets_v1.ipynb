{
 "cells": [
  {
   "cell_type": "code",
   "execution_count": 82,
   "metadata": {},
   "outputs": [],
   "source": [
    "import requests as rq\n",
    "import json\n",
    "import copy"
   ]
  },
  {
   "cell_type": "code",
   "execution_count": 83,
   "metadata": {},
   "outputs": [
    {
     "data": {
      "text/plain": [
       "{u'RI_A': -43.389652653015965,\n",
       " u'RI_D': -38.70231231092473,\n",
       " u'RI_H': -49.38146126629609,\n",
       " u'_id': u'2020-2-14/21:00/Wolverhampton - Leicester',\n",
       " u'date': u'2020-2-14',\n",
       " u'hour': u'21:00',\n",
       " u'league': u'premierLeague',\n",
       " u'match': u'Wolverhampton - Leicester',\n",
       " u'odd_A': 2.85,\n",
       " u'odd_D': 3.25,\n",
       " u'odd_H': 2.45,\n",
       " u'pred_A': 0.0,\n",
       " u'pred_D': 0.0,\n",
       " u'pred_H': 0.0,\n",
       " u'teamA': u'Leicester',\n",
       " u'teamH': u'Wolverhampton'}"
      ]
     },
     "execution_count": 83,
     "metadata": {},
     "output_type": "execute_result"
    }
   ],
   "source": [
    "r = rq.get(\"http://api.localhost/matches\")\n",
    "j = json.loads(r.text)\n",
    "j[0]"
   ]
  },
  {
   "cell_type": "code",
   "execution_count": 85,
   "metadata": {},
   "outputs": [
    {
     "name": "stdout",
     "output_type": "stream",
     "text": [
      "(u'Leganes - Betis : Abet =', 8.056046119467709, ' gain= ', 24.168138358403127)\n",
      "(u'Milan AC - Torino : Abet =', 1.6535583295180478, ' gain= ', 8.68118122996975)\n",
      "(u'Betis - Majorque : Abet =', 1.262858156434004, ' gain= ', 7.450863122960625)\n",
      "(u'FC Barcelone - Eibar : Abet =', 0.20044550175903394, ' gain= ', 2.3051232702288904)\n",
      "(u'Bayer Leverkusen - Augsbourg : Abet =', 1.0675161140738654, ' gain= ', 6.511848295850578)\n",
      "(u'Wolfsbourg - Mayence : Abet =', 2.152959449139923, ' gain= ', 9.903613466043646)\n",
      "(u'Manchester City - West Ham : Abet =', 0.06194687470461467, ' gain= ', 1.0530968699784495)\n",
      "(u'Lille - Toulouse : Abet =', 0.751195750757993, ' gain= ', 5.258370255305951)\n",
      "(u'Roma - Lecce : Abet =', 0.5434573209488753, ' gain= ', 4.347658567591003)\n",
      "(u'Borussia Dortmund - Fribourg : Abet =', 0.6554804037822155, ' gain= ', 4.916103028366616)\n",
      "(u'Mayence - SC Paderborn 07 : Abet =', 3.113350486632938, ' gain= ', 12.297734422200106)\n",
      "(u'Hoffenheim - Bayern Munich : Hbet =', 0.4811854927807828, ' gain= ', 3.8494839422462626)\n",
      "('esperance de gain =', 2.26995747348078, '+/-', 0.8675998751863171)\n",
      "('intervalle : ', 1.4023575982944632, ' - ', 3.137557348667097)\n"
     ]
    }
   ],
   "source": [
    "matches = []\n",
    "ecart_zero = 0.3\n",
    "risk = 0\n",
    "tot = 0\n",
    "montant = 20\n",
    "match_to_print = []\n",
    "esp = 0\n",
    "var =0\n",
    "cred = 0\n",
    "for match in j:\n",
    "    if (match['RI_A'] > 30):\n",
    "        match['side'] = \"A\"\n",
    "        match['esp'] = match['pred_A'] * (match['odd_A'] - 1) - (1 - match['pred_A']) * (-1);\n",
    "        match['var'] = match['pred_A'] * (match['odd_A'] - 1 - match['esp']) ** 2 + (1 - match['pred_A']) * (-1 - match['esp']) ** 2 + ecart_zero;\n",
    "        match['cred'] = match['esp']/match['var']**(1 + 1);\n",
    "        tot += match['cred']\n",
    "        matches.append(copy.deepcopy(match))\n",
    "    if (match['RI_D'] > 30):\n",
    "        match['side'] = \"D\"\n",
    "        match['esp'] = match['pred_D'] * (match['odd_D'] - 1) - (1 - match['pred_D']) * (-1);\n",
    "        match['var'] = match['pred_D'] * (match['odd_D'] - 1 - match['esp']) ** 2 + (1 - match['pred_D']) * (-1 - match['esp']) ** 2 + ecart_zero;\n",
    "        match['cred'] = match['esp']/match['var']**(1 + 1);\n",
    "        tot += match['cred']\n",
    "        matches.append(copy.deepcopy(match))\n",
    "    if (match['RI_H'] > 30):\n",
    "        match['side'] = \"H\"\n",
    "        match['esp'] = match['pred_H'] * (match['odd_H'] - 1) - (1 - match['pred_H']) * (-1);\n",
    "        match['var'] = match['pred_H'] * (match['odd_H'] - 1 - match['esp']) ** 2 + (1 - match['pred_H']) * (-1 - match['esp']) ** 2 + ecart_zero;\n",
    "        match['cred'] = match['esp']/match['var']**(1 + 1);\n",
    "        tot += match['cred']\n",
    "        matches.append(copy.deepcopy(match))\n",
    "\n",
    "        \n",
    "for match in matches:\n",
    "    match['cred'] = match['cred'] / tot\n",
    "    esp += match['esp'] * match['cred']\n",
    "    var +=  match['var'] * match['cred']**2\n",
    "    print(match['match'] + \" : \" + match['side'] + \"bet =\", match['cred'] * montant, \" gain= \", match['cred'] * match['odd_' + match['side']] * montant)\n",
    "print('esperance de gain =',esp, \"+/-\", var)\n",
    "print('intervalle : ',esp-var, \" - \" ,esp + var)\n"
   ]
  },
  {
   "cell_type": "code",
   "execution_count": null,
   "metadata": {},
   "outputs": [],
   "source": []
  }
 ],
 "metadata": {
  "kernelspec": {
   "display_name": "Python 3",
   "language": "python",
   "name": "python3"
  },
  "language_info": {
   "codemirror_mode": {
    "name": "ipython",
    "version": 2
   },
   "file_extension": ".py",
   "mimetype": "text/x-python",
   "name": "python",
   "nbconvert_exporter": "python",
   "pygments_lexer": "ipython2",
   "version": "2.7.17"
  }
 },
 "nbformat": 4,
 "nbformat_minor": 2
}
