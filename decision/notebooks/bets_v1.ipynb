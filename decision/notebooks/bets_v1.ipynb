{
 "cells": [
  {
   "cell_type": "code",
   "execution_count": 6,
   "metadata": {},
   "outputs": [],
   "source": [
    "from requests import get\n",
    "from math import sqrt\n",
    "from pymongo import MongoClient\n",
    "import json\n",
    "import copy\n"
   ]
  },
  {
   "cell_type": "code",
   "execution_count": 7,
   "metadata": {},
   "outputs": [
    {
     "data": {
      "text/plain": [
       "{u'RI_A': -4.064198449734577,\n",
       " u'RI_D': -9.953567355091437,\n",
       " u'RI_H': -97.88353900019578,\n",
       " u'_id': u'2020-2-21/20:30/Bayern Munich - SC Paderborn 07',\n",
       " u'date': u'2020-2-21',\n",
       " u'hour': u'20:30',\n",
       " u'league': u'bundesliga',\n",
       " u'match': u'Bayern Munich - SC Paderborn 07',\n",
       " u'odd_A': 35.0,\n",
       " u'odd_D': 14.0,\n",
       " u'odd_H': 1.03,\n",
       " u'pred_A': 0.0,\n",
       " u'pred_D': 0.0,\n",
       " u'pred_H': 0.0,\n",
       " u'teamA': u'SC Paderborn 07',\n",
       " u'teamH': u'Bayern Munich'}"
      ]
     },
     "execution_count": 7,
     "metadata": {},
     "output_type": "execute_result"
    }
   ],
   "source": [
    "def get_matches():\n",
    "    client = MongoClient(\"mongodb://plp_mongodb:27017\")\n",
    "    db = client['plp']\n",
    "    matches = list(db[\"apibase\"].find({}))\n",
    "    return matches\n",
    "response = get(\"http://api.localhost/matches\")\n",
    "json_matches = json.loads(response.text)\n",
    "json_matches[0]"
   ]
  },
  {
   "cell_type": "code",
   "execution_count": 8,
   "metadata": {},
   "outputs": [
    {
     "name": "stdout",
     "output_type": "stream",
     "text": [
      "('avg indicator = ', 20.37802539355068)\n"
     ]
    }
   ],
   "source": [
    "matches = []\n",
    "\n",
    "for match in json_matches:\n",
    "    if (match['RI_A'] > 0):\n",
    "        match['side'] = \"A\"\n",
    "        matches.append(copy.deepcopy(match))\n",
    "    if (match['RI_D'] > 0):\n",
    "        match['side'] = \"D\"\n",
    "        matches.append(copy.deepcopy(match))\n",
    "    if (match['RI_H'] > 0):\n",
    "        match['side'] = \"H\"\n",
    "        matches.append(copy.deepcopy(match))\n",
    "sum = 0\n",
    "for match in matches:\n",
    "    sum = sum + match['RI_' + match['side']]\n",
    "print(\"avg indicator = \", sum/len(matches))\n",
    "matches_filtered = sorted(matches, key=lambda d: d[\"RI_\" + d[\"side\"]])[0:10]"
   ]
  },
  {
   "cell_type": "code",
   "execution_count": 9,
   "metadata": {
    "pycharm": {
     "name": "#%%\n"
    }
   },
   "outputs": [
    {
     "name": "stdout",
     "output_type": "stream",
     "text": [
      "(1.0, 0.0887148317377598)\n"
     ]
    }
   ],
   "source": [
    "ecart_zero = 0.3\n",
    "opt = 0.0\n",
    "risk_opt = 0.0\n",
    "for risk in range(0,100):\n",
    "\n",
    "    tot = 0\n",
    "    for match in matches_filtered:\n",
    "        e = 0\n",
    "        side = match['side']\n",
    "        match['esp'] = match['pred_' + side] * (match['odd_' + side] - 1) + (1 - match['pred_' + side]) * (-1);\n",
    "        match['var'] = match['pred_' + side] * (match['odd_' + side] - 1 - match['esp']) ** 2 + (1 - match['pred_' + side]) * (-1 - match['esp']) ** 2 + ecart_zero;\n",
    "        match['cred'] = match['esp']/match['var']**((risk-50)/10.0);\n",
    "        tot += match['cred']\n",
    "\n",
    "    esp = 0\n",
    "    var = 0\n",
    "    amount = 1\n",
    "    for match in matches_filtered:\n",
    "        match['cred'] = amount * match['cred'] / tot\n",
    "        match['esp'] = match['esp'] * match['cred']\n",
    "        match['var'] = match['var'] * match['cred'] ** 2\n",
    "        esp += match['esp']\n",
    "        var +=  match['var']\n",
    "    ecart_type = sqrt(var)\n",
    "    \n",
    "    if opt < (esp/ecart_type) :\n",
    "        risk_opt = (risk - 50)/10.0\n",
    "        opt = esp/ecart_type\n",
    "print(risk_opt, opt)"
   ]
  },
  {
   "cell_type": "code",
   "execution_count": 10,
   "metadata": {},
   "outputs": [
    {
     "name": "stdout",
     "output_type": "stream",
     "text": [
      "(5.274538926054618, 56.12191237276553, 0)\n",
      "(5.240931540148836, 57.189073845418704, 1)\n",
      "(5.234027906593369, 61.76002907401376, 2)\n",
      "(5.259760801071179, 70.51789932244948, 3)\n",
      "(5.319207028376759, 82.99708120331294, 4)\n",
      "(5.407380499321146, 97.83249158132972, 5)\n"
     ]
    }
   ],
   "source": [
    "for risk in range(0,6):\n",
    "\n",
    "    tot = 0\n",
    "    for match in matches_filtered:\n",
    "        e = 0\n",
    "        side = match['side']\n",
    "        match['esp'] = match['pred_' + side] * (match['odd_' + side] - 1) + (1 - match['pred_' + side]) * (-1);\n",
    "        match['var'] = match['pred_' + side] * (match['odd_' + side] - 1 - match['esp']) ** 2 + (1 - match['pred_' + side]) * (-1 - match['esp']) ** 2 + ecart_zero;\n",
    "        match['cred'] = match['esp']/match['var']**(risk_opt-risk);\n",
    "        tot += match['cred']\n",
    "\n",
    "    esp = 0\n",
    "    var = 0\n",
    "    amount = 1000\n",
    "    for match in matches_filtered:\n",
    "        match['cred'] = amount * match['cred'] / tot\n",
    "        match['esp'] = match['esp'] * match['cred']\n",
    "        match['var'] = match['var'] * match['cred'] ** 2\n",
    "        esp += match['esp']\n",
    "        var +=  match['var']\n",
    "        #print(match['match'] + \" : \" + match['side'] + \" bet =\", match['cred'], \" gain= \", match['cred'] * match['odd_' + match['side']])\n",
    "    ecart_type = sqrt(var)\n",
    "    print(esp, ecart_type, risk)\n"
   ]
  },
  {
   "cell_type": "code",
   "execution_count": 11,
   "metadata": {},
   "outputs": [
    {
     "ename": "NameError",
     "evalue": "name 'pd' is not defined",
     "output_type": "error",
     "traceback": [
      "\u001b[0;31m---------------------------------------------------------------------------\u001b[0m",
      "\u001b[0;31mNameError\u001b[0m                                 Traceback (most recent call last)",
      "\u001b[0;32m<ipython-input-11-a6e8891979af>\u001b[0m in \u001b[0;36m<module>\u001b[0;34m()\u001b[0m\n\u001b[0;32m----> 1\u001b[0;31m \u001b[0mdata\u001b[0m \u001b[0;34m=\u001b[0m \u001b[0mpd\u001b[0m\u001b[0;34m.\u001b[0m\u001b[0mDataFrame\u001b[0m\u001b[0;34m(\u001b[0m\u001b[0mcolumns\u001b[0m\u001b[0;34m=\u001b[0m\u001b[0;34m[\u001b[0m\u001b[0;34m\"date\"\u001b[0m\u001b[0;34m,\u001b[0m \u001b[0;34m\"id_match\"\u001b[0m\u001b[0;34m,\u001b[0m \u001b[0;34m\"side\"\u001b[0m\u001b[0;34m,\u001b[0m \u001b[0;34m\"credit\"\u001b[0m\u001b[0;34m,\u001b[0m \u001b[0;34m\"odd\"\u001b[0m\u001b[0;34m]\u001b[0m\u001b[0;34m)\u001b[0m\u001b[0;34m\u001b[0m\u001b[0m\n\u001b[0m",
      "\u001b[0;31mNameError\u001b[0m: name 'pd' is not defined"
     ]
    }
   ],
   "source": [
    "data = pd.DataFrame(columns=[\"date\", \"id_match\", \"side\", \"credit\", \"odd\"])"
   ]
  },
  {
   "cell_type": "code",
   "execution_count": null,
   "outputs": [],
   "source": [],
   "metadata": {
    "collapsed": false,
    "pycharm": {
     "name": "#%%\n"
    }
   }
  },
  {
   "cell_type": "code",
   "execution_count": null,
   "metadata": {},
   "outputs": [],
   "source": []
  }
 ],
 "metadata": {
  "kernelspec": {
   "display_name": "Python 3",
   "language": "python",
   "name": "python3"
  },
  "language_info": {
   "codemirror_mode": {
    "name": "ipython",
    "version": 2
   },
   "file_extension": ".py",
   "mimetype": "text/x-python",
   "name": "python",
   "nbconvert_exporter": "python",
   "pygments_lexer": "ipython2",
   "version": "2.7.17"
  },
  "pycharm": {
   "stem_cell": {
    "cell_type": "raw",
    "source": [],
    "metadata": {
     "collapsed": false
    }
   }
  }
 },
 "nbformat": 4,
 "nbformat_minor": 2
}