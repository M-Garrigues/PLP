{
 "cells": [
  {
   "cell_type": "code",
   "execution_count": 41,
   "metadata": {},
   "outputs": [],
   "source": [
    "from requests import get\n",
    "import json\n",
    "import copy"
   ]
  },
  {
   "cell_type": "code",
   "execution_count": 42,
   "metadata": {},
   "outputs": [],
   "source": [
    "def get_matches(nb_matches):\n",
    "    response = get(\"http://api.localhost/matches\")\n",
    "    json_matches = json.loads(response.text)\n",
    "    \n",
    "    matches = []\n",
    "    for match in json_matches:\n",
    "        if (match['RI_A'] > 0):\n",
    "            match['side'] = \"A\"\n",
    "            matches.append(copy.deepcopy(match))\n",
    "        if (match['RI_D'] > 0):\n",
    "            match['side'] = \"D\"\n",
    "            matches.append(copy.deepcopy(match))\n",
    "        if (match['RI_H'] > 0):\n",
    "            match['side'] = \"H\"\n",
    "            matches.append(copy.deepcopy(match))\n",
    "\n",
    "    return sorted(matches, key=lambda d: -d[\"RI_\" + d[\"side\"]])[0:nb_matches]"
   ]
  },
  {
   "cell_type": "markdown",
   "metadata": {},
   "source": [
    "##### Bets \n",
    "\n",
    "Bet with an adaptable value for each match according to ratio E/V- with an amount of 1€."
   ]
  },
  {
   "cell_type": "code",
   "execution_count": 43,
   "metadata": {},
   "outputs": [],
   "source": [
    "def bet(amount, risk, matches):\n",
    "\n",
    "    tot = 0\n",
    "    for match in matches:\n",
    "        side = match['side']\n",
    "        match['esp'] = match['pred_' + side] * (match['odd_' + side] - 1) + (1 - match['pred_' + side]) * (-1);\n",
    "        match['var_neg'] = (1 - match['pred_' + side]) * (-1 - match['esp']) ** 2;\n",
    "        match['cred'] = match['esp']/match['var_neg']**(1-risk/5.0);\n",
    "        tot += match['cred']\n",
    "        \n",
    "    for match in matches:\n",
    "        match['cred'] = match['cred'] * amount / tot\n",
    "    \n",
    "    return matches"
   ]
  },
  {
   "cell_type": "code",
   "execution_count": 44,
   "metadata": {},
   "outputs": [],
   "source": [
    "def evaluate_bets(matches):\n",
    "\n",
    "    esp = 0\n",
    "    var_neg = 0\n",
    "    for match in matches:\n",
    "        match['var_neg'] = match['var_neg'] * match['cred'] ** 2\n",
    "        match['esp'] = match['esp'] * match['cred']\n",
    "        esp += match['esp']\n",
    "        var_neg +=  match['var_neg']\n",
    "        \n",
    "    ecart_type_neg = var_neg ** 0.5\n",
    "    return [esp, ecart_type_neg]"
   ]
  },
  {
   "cell_type": "markdown",
   "metadata": {},
   "source": [
    "##### Center the optimal ratio of gain/dispersion\n",
    "\n",
    "* We define ratio as gain/dispersion because dispersion is related to the risk\n",
    "    * We define gain as expected value E\n",
    "    * We define risk as standart deviation or variance but only for negative values σ- / V-\n",
    "\n",
    "Check values of ratio `E(X) / V-(X) ^ risk` in a range of `risk € [-5;5]` with a step of `0.1`.\n",
    "\n",
    "_The value seems to be most of the time around of 1.0_ "
   ]
  },
  {
   "cell_type": "code",
   "execution_count": 45,
   "metadata": {},
   "outputs": [],
   "source": [
    "def center_optimal_risk(matches):\n",
    "    opt = 0.0\n",
    "    risk_opt = 0.0\n",
    "    for risk in range(0,100):\n",
    "\n",
    "        tot = 0\n",
    "        for match in matches:\n",
    "            side = match['side']\n",
    "            match['esp'] = match['pred_' + side] * (match['odd_' + side] - 1) + (1 - match['pred_' + side]) * (-1);\n",
    "            match['var_neg'] = (1 - match['pred_' + side]) * (-1 - match['esp']) ** 2;\n",
    "            match['cred'] = match['esp']/match['var_neg']**((risk-50)/10.0);\n",
    "            tot += match['cred']\n",
    "\n",
    "        esp = 0\n",
    "        var_neg = 0\n",
    "        for match in matches:\n",
    "            match['cred'] = match['cred'] / tot\n",
    "            match['esp'] = match['esp'] * match['cred']\n",
    "            match['var_neg'] = match['var_neg'] * match['cred'] ** 2\n",
    "            esp += match['esp']\n",
    "            var_neg +=  match['var_neg']\n",
    "        \n",
    "        ecart_type_neg = var_neg ** 0.5\n",
    "        if opt < (esp / ecart_type_neg) :\n",
    "            risk_opt = (risk - 50)/10.0\n",
    "            opt = esp/ecart_type_neg\n",
    "        #print(risk_opt, opt * 100 , \"%\")\n",
    "    return risk_opt;"
   ]
  },
  {
   "cell_type": "code",
   "execution_count": 46,
   "metadata": {},
   "outputs": [
    {
     "name": "stdout",
     "output_type": "stream",
     "text": [
      "('opt risk', 1.0)\n",
      "(251.3692544487663, 60.10743800683271, 'mise = ', 100, 'risk = ', 0)\n",
      "\n",
      "2020-3-1\n",
      "(u'Milan AC - Genoa : A', 0.677936434745788)\n",
      "(' bet =', 8.658742192646605, 'potentiel gain= ', 48.488956278820986)\n",
      "2020-3-7\n",
      "(u'Liverpool - Bournemouth : A', 0.5101109743118281)\n",
      "(' bet =', 4.148759956026069, 'potentiel gain= ', 47.710739494299794)\n",
      "2020-3-9\n",
      "(u'Leicester - Aston Villa : A', 0.557868659496307)\n",
      "(' bet =', 6.106721865697666, 'potentiel gain= ', 43.66306133973831)\n",
      "2020-2-29\n",
      "(u'Borussia Dortmund - Fribourg : A', 0.504249632358551)\n",
      "(' bet =', 4.137456361632178, 'potentiel gain= ', 47.58074815877004)\n",
      "2020-3-1\n",
      "(u'RB Leipzig - Bayer Leverkusen : A', 0.59365564584732)\n",
      "(' bet =', 7.477176018390011, 'potentiel gain= ', 41.49832690206456)\n",
      "2020-2-29\n",
      "(u'Lazio - Bologne : A', 0.5649816393852231)\n",
      "(' bet =', 6.546959090078852, 'potentiel gain= ', 42.55523408551254)\n",
      "2020-3-8\n",
      "(u'Bayern Munich - Augsbourg : A', 0.43330943584442105)\n",
      "(' bet =', 2.83490449217984, 'potentiel gain= ', 51.028280859237114)\n",
      "2020-2-29\n",
      "(u'Paris SG - Dijon : A', 0.43158298730850203)\n",
      "(' bet =', 3.302559146026489, 'potentiel gain= ', 49.53838719039734)\n",
      "2020-3-7\n",
      "(u'Sheffield United - Norwich City : A', 0.5519920587539671)\n",
      "(' bet =', 7.217682118670558, 'potentiel gain= ', 38.25371522895396)\n",
      "2020-3-7\n",
      "(u'Eibar - Majorque : A', 0.577494740486145)\n",
      "(' bet =', 8.151146521812242, 'potentiel gain= ', 35.45748736988325)\n",
      "2020-3-7\n",
      "(u'FC Barcelone - Real Sociedad : A', 0.467864573001861)\n",
      "(' bet =', 5.437983263604879, 'potentiel gain= ', 41.60057196657733)\n",
      "2020-2-28\n",
      "(u'Real Sociedad - Real Valladolid : A', 0.488993674516677)\n",
      "(' bet =', 6.0903134284435705, 'potentiel gain= ', 39.28252161346103)\n",
      "2020-3-8\n",
      "(u'Rennes - Montpellier : A', 0.584363222122192)\n",
      "(' bet =', 8.538529140043321, 'potentiel gain= ', 32.87333718916679)\n",
      "2020-3-11\n",
      "(u\"Borussia M'gladbach - Cologne : A\", 0.5538508892059321)\n",
      "(' bet =', 7.871843335477086, 'potentiel gain= ', 33.455334175777615)\n",
      "2020-3-7\n",
      "(u'Bayer Leverkusen - Eintracht Francfort : A', 0.5508347749710081)\n",
      "(' bet =', 7.895038276556606, 'potentiel gain= ', 32.369656933882084)\n",
      "2020-3-6\n",
      "(u'Marseille - Amiens : A', 0.44592607021331704)\n",
      "(' bet =', 5.584184792714016, 'potentiel gain= ', 39.926921267905215)\n"
     ]
    }
   ],
   "source": [
    "risk = 0\n",
    "matches = get_matches(16)\n",
    "print(\"opt risk\",center_optimal_risk(matches))\n",
    "amount = 100\n",
    "matches = bet(amount, risk, matches)\n",
    "[esp, ecart_type] = evaluate_bets(matches)\n",
    "print(esp,ecart_type, \"mise = \", amount, \"risk = \", risk)\n",
    "print(\"\")\n",
    "for match in matches:\n",
    "    print(match['date'])\n",
    "    print(match['match'] + \" : \" + match['side'], match['pred_' + match['side']])\n",
    "    print(\" bet =\", match['cred'], \"potentiel gain= \", match['cred'] * match['odd_' + match['side']])"
   ]
  },
  {
   "cell_type": "code",
   "execution_count": null,
   "metadata": {},
   "outputs": [],
   "source": []
  }
 ],
 "metadata": {
  "kernelspec": {
   "display_name": "Python 3",
   "language": "python",
   "name": "python3"
  },
  "language_info": {
   "codemirror_mode": {
    "name": "ipython",
    "version": 2
   },
   "file_extension": ".py",
   "mimetype": "text/x-python",
   "name": "python",
   "nbconvert_exporter": "python",
   "pygments_lexer": "ipython2",
   "version": "2.7.17"
  },
  "pycharm": {
   "stem_cell": {
    "cell_type": "raw",
    "source": [],
    "metadata": {
     "collapsed": false
    }
   }
  }
 },
 "nbformat": 4,
 "nbformat_minor": 2
}