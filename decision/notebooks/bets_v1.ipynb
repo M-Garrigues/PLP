{
 "cells": [
  {
   "cell_type": "code",
   "execution_count": 34,
   "metadata": {},
   "outputs": [],
   "source": [
    "from requests import get\n",
    "from math import sqrt\n",
    "import json\n",
    "import copy"
   ]
  },
  {
   "cell_type": "code",
   "execution_count": 14,
   "metadata": {},
   "outputs": [
    {
     "data": {
      "text/plain": [
       "{u'RI_A': -23.70391973008494,\n",
       " u'RI_D': -27.830116248710446,\n",
       " u'RI_H': -72.56057320016583,\n",
       " u'_id': u'2020-2-15/18:30/Villarreal - Levante',\n",
       " u'date': u'2020-2-15',\n",
       " u'hour': u'18:30',\n",
       " u'league': u'liga',\n",
       " u'match': u'Villarreal - Levante',\n",
       " u'odd_A': 5.6,\n",
       " u'odd_D': 4.7,\n",
       " u'odd_H': 1.53,\n",
       " u'pred_A': 0.0,\n",
       " u'pred_D': 0.0,\n",
       " u'pred_H': 0.0,\n",
       " u'teamA': u'Levante',\n",
       " u'teamH': u'Villarreal'}"
      ]
     },
     "execution_count": 14,
     "metadata": {},
     "output_type": "execute_result"
    }
   ],
   "source": [
    "response = get(\"http://api.localhost/matches\")\n",
    "json_matches = json.loads(response.text)\n",
    "json_matches[0]"
   ]
  },
  {
   "cell_type": "code",
   "execution_count": 15,
   "metadata": {},
   "outputs": [
    {
     "name": "stdout",
     "output_type": "stream",
     "text": [
      "('avg indicator = ', 19.92159964131684)\n"
     ]
    }
   ],
   "source": [
    "matches = []\n",
    "\n",
    "for match in json_matches:\n",
    "    if (match['RI_A'] > 0):\n",
    "        match['side'] = \"A\"\n",
    "        matches.append(copy.deepcopy(match))\n",
    "    if (match['RI_D'] > 0):\n",
    "        match['side'] = \"D\"\n",
    "        matches.append(copy.deepcopy(match))\n",
    "    if (match['RI_H'] > 0):\n",
    "        match['side'] = \"H\"\n",
    "        matches.append(copy.deepcopy(match))\n",
    "sum = 0\n",
    "for match in matches:\n",
    "    sum = sum + match['RI_' + match['side']]\n",
    "print(\"avg indicator = \", sum/len(matches))\n",
    "matches_filtered = sorted(matches, key=lambda d: d[\"RI_\" + d[\"side\"]])[0:10]"
   ]
  },
  {
   "cell_type": "code",
   "execution_count": 38,
   "metadata": {
    "pycharm": {
     "name": "#%%\n"
    }
   },
   "outputs": [
    {
     "name": "stdout",
     "output_type": "stream",
     "text": [
      "\n",
      "\n",
      "('esperance de gain =', 1.107109067226773, '+/-', 6.8297303674389696)\n",
      "('intervalle : ', -5.722621300212197, ' - ', 7.9368394346657425)\n",
      "\n",
      "\n",
      "('esperance de gain =', 1.1825843875319728, '+/-', 7.0917165186111975)\n",
      "('intervalle : ', -5.909132131079224, ' - ', 8.27430090614317)\n",
      "\n",
      "\n",
      "('esperance de gain =', 1.1825843875319728, '+/-', 7.0917165186111975)\n",
      "('intervalle : ', -5.909132131079224, ' - ', 8.27430090614317)\n",
      "\n",
      "\n",
      "('esperance de gain =', 1.1825843875319728, '+/-', 7.0917165186111975)\n",
      "('intervalle : ', -5.909132131079224, ' - ', 8.27430090614317)\n",
      "\n",
      "\n",
      "('esperance de gain =', 1.1825843875319728, '+/-', 7.0917165186111975)\n",
      "('intervalle : ', -5.909132131079224, ' - ', 8.27430090614317)\n"
     ]
    }
   ],
   "source": [
    "ecart_zero = 0.3\n",
    "\n",
    "for risk in range(0,5):\n",
    "    print(\"\")\n",
    "    print(\"\")\n",
    "    tot = 0\n",
    "    for match in matches_filtered:\n",
    "        side = match['side']\n",
    "        match['esp'] = match['pred_' + side] * (match['odd_' + side] - 1) + (1 - match['pred_' + side]) * (-1);\n",
    "        match['var'] = match['pred_' + side] * (match['odd_' + side] - 1 - match['esp']) ** 2 + (1 - match['pred_' + side]) * (-1 - match['esp']) ** 2 + ecart_zero;\n",
    "        match['cred'] = match['esp']/match['var']**(1 + (5-risk)/5);\n",
    "        tot += match['cred']\n",
    "\n",
    "    esp = 0\n",
    "    var = 0\n",
    "    amount = 10\n",
    "    for match in matches_filtered:\n",
    "        match['cred'] = amount * match['cred'] / tot\n",
    "        esp += match['esp'] * match['cred']\n",
    "        var +=  match['var'] * match['cred'] ** 2\n",
    "        #print(match['match'] + \" : \" + match['side'] + \" bet =\", match['cred'] * amount, \" gain= \", match['cred'] * match['odd_' + match['side']] * amount)\n",
    "    print('esperance de gain =',esp, \"+/-\", sqrt(var))\n",
    "    print('intervalle : ',esp-sqrt(var), \" - \" ,esp + sqrt(var))\n"
   ]
  },
  {
   "cell_type": "code",
   "execution_count": null,
   "metadata": {},
   "outputs": [],
   "source": []
  },
  {
   "cell_type": "code",
   "execution_count": null,
   "metadata": {},
   "outputs": [],
   "source": []
  }
 ],
 "metadata": {
  "kernelspec": {
   "display_name": "Python 3",
   "language": "python",
   "name": "python3"
  },
  "language_info": {
   "codemirror_mode": {
    "name": "ipython",
    "version": 2
   },
   "file_extension": ".py",
   "mimetype": "text/x-python",
   "name": "python",
   "nbconvert_exporter": "python",
   "pygments_lexer": "ipython2",
   "version": "2.7.17"
  },
  "pycharm": {
   "stem_cell": {
    "cell_type": "raw",
    "metadata": {
     "collapsed": false
    },
    "source": []
   }
  }
 },
 "nbformat": 4,
 "nbformat_minor": 2
}
