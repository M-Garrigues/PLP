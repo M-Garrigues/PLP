{
 "cells": [
  {
   "cell_type": "code",
   "execution_count": 1,
   "metadata": {},
   "outputs": [],
   "source": [
    "import requests as rq\n",
    "import json\n",
    "import copy"
   ]
  },
  {
   "cell_type": "code",
   "execution_count": 2,
   "metadata": {},
   "outputs": [
    {
     "data": {
      "text/plain": [
       "{u'RI_A': -43.389652653015965,\n",
       " u'RI_D': -38.70231231092473,\n",
       " u'RI_H': -49.38146126629609,\n",
       " u'_id': u'2020-2-14/21:00/Wolverhampton - Leicester',\n",
       " u'date': u'2020-2-14',\n",
       " u'hour': u'21:00',\n",
       " u'league': u'premierLeague',\n",
       " u'match': u'Wolverhampton - Leicester',\n",
       " u'odd_A': 2.85,\n",
       " u'odd_D': 3.25,\n",
       " u'odd_H': 2.45,\n",
       " u'pred_A': 0.0,\n",
       " u'pred_D': 0.0,\n",
       " u'pred_H': 0.0,\n",
       " u'teamA': u'Leicester',\n",
       " u'teamH': u'Wolverhampton'}"
      ]
     },
     "execution_count": 2,
     "metadata": {},
     "output_type": "execute_result"
    }
   ],
   "source": [
    "r = rq.get(\"http://api.localhost/matches\")\n",
    "j = json.loads(r.text)\n",
    "j[0]"
   ]
  },
  {
   "cell_type": "code",
   "execution_count": 12,
   "metadata": {},
   "outputs": [
    {
     "name": "stdout",
     "output_type": "stream",
     "text": [
      "(u'Leganes - Betis : A bet =', 12.890464944215744, ' gain= ', 38.67139483264723)\n",
      "(u'Milan AC - Torino : A bet =', 0.9464382619383105, ' gain= ', 4.968800875176131)\n",
      "(u'Betis - Majorque : A bet =', 0.5934815573599271, ' gain= ', 3.5015411884235705)\n",
      "(u'FC Barcelone - Eibar : A bet =', 0.027347649863980986, ' gain= ', 0.31449797343578134)\n",
      "(u'Bayer Leverkusen - Augsbourg : A bet =', 0.4677300396995353, ' gain= ', 2.8531532421671653)\n",
      "(u'Wolfsbourg - Mayence : A bet =', 1.5168490768301088, ' gain= ', 6.9775057534185)\n",
      "(u'Manchester City - West Ham : A bet =', 0.003975281323652587, ' gain= ', 0.06757978250209398)\n",
      "(u'Lille - Toulouse : A bet =', 0.25845474658705875, ' gain= ', 1.8091832261094112)\n",
      "(u'Roma - Lecce : A bet =', 0.1468906435501574, ' gain= ', 1.1751251484012593)\n",
      "(u'Borussia Dortmund - Fribourg : A bet =', 0.19958984887534742, ' gain= ', 1.4969238665651057)\n",
      "(u'Mayence - SC Paderborn 07 : A bet =', 2.813038969401702, ' gain= ', 11.111503929136724)\n",
      "(u'Hoffenheim - Bayern Munich : H bet =', 0.13573898035447315, ' gain= ', 1.0859118428357852)\n",
      "('esperance de gain =', 1.9184787804467807, '+/-', 1.3978707862293522)\n",
      "('intervalle : ', 0.5206079942174284, ' - ', 3.316349566676133)\n"
     ]
    }
   ],
   "source": [
    "matches = []\n",
    "ecart_zero = 0.3\n",
    "risk = 0\n",
    "tot = 0\n",
    "montant = 20\n",
    "match_to_print = []\n",
    "esp = 0\n",
    "var =0\n",
    "cred = 0\n",
    "for match in j:\n",
    "    if (match['RI_A'] > 30):\n",
    "        match['side'] = \"A\"\n",
    "        match['esp'] = match['pred_A'] * (match['odd_A'] - 1) - (1 - match['pred_A']) * (-1);\n",
    "        match['var'] = match['pred_A'] * (match['odd_A'] - 1 - match['esp']) ** 2 + (1 - match['pred_A']) * (-1 - match['esp']) ** 2 + ecart_zero;\n",
    "        match['cred'] = match['esp']/match['var']**(1 + (5-risk)/5);\n",
    "        tot += match['cred']\n",
    "        matches.append(copy.deepcopy(match))\n",
    "    if (match['RI_D'] > 30):\n",
    "        match['side'] = \"D\"\n",
    "        match['esp'] = match['pred_D'] * (match['odd_D'] - 1) - (1 - match['pred_D']) * (-1);\n",
    "        match['var'] = match['pred_D'] * (match['odd_D'] - 1 - match['esp']) ** 2 + (1 - match['pred_D']) * (-1 - match['esp']) ** 2 + ecart_zero;\n",
    "        match['cred'] = match['esp']/match['var']**(1 + (5-risk)/5);\n",
    "        tot += match['cred']\n",
    "        matches.append(copy.deepcopy(match))\n",
    "    if (match['RI_H'] > 30):\n",
    "        match['side'] = \"H\"\n",
    "        match['esp'] = match['pred_H'] * (match['odd_H'] - 1) - (1 - match['pred_H']) * (-1);\n",
    "        match['var'] = match['pred_H'] * (match['odd_H'] - 1 - match['esp']) ** 2 + (1 - match['pred_H']) * (-1 - match['esp']) ** 2 + ecart_zero;\n",
    "        match['cred'] = match['esp']/match['var']**(1 + (5-risk)/5);\n",
    "        tot += match['cred']\n",
    "        matches.append(copy.deepcopy(match))\n",
    "\n",
    "        \n",
    "for match in matches:\n",
    "    match['cred'] = match['cred'] / tot\n",
    "    esp += match['esp'] * match['cred']\n",
    "    var +=  match['var'] * match['cred']**2\n",
    "    print(match['match'] + \" : \" + match['side'] + \" bet =\", match['cred'] * montant, \" gain= \", match['cred'] * match['odd_' + match['side']] * montant)\n",
    "print('esperance de gain =',esp, \"+/-\", var)\n",
    "print('intervalle : ',esp-var, \" - \" ,esp + var)\n"
   ]
  },
  {
   "cell_type": "code",
   "execution_count": null,
   "outputs": [],
   "source": [],
   "metadata": {
    "collapsed": false,
    "pycharm": {
     "name": "#%%\n"
    }
   }
  },
  {
   "cell_type": "code",
   "execution_count": null,
   "metadata": {},
   "outputs": [],
   "source": []
  },
  {
   "cell_type": "code",
   "execution_count": null,
   "metadata": {},
   "outputs": [],
   "source": []
  }
 ],
 "metadata": {
  "kernelspec": {
   "display_name": "Python 3",
   "language": "python",
   "name": "python3"
  },
  "language_info": {
   "codemirror_mode": {
    "name": "ipython",
    "version": 2
   },
   "file_extension": ".py",
   "mimetype": "text/x-python",
   "name": "python",
   "nbconvert_exporter": "python",
   "pygments_lexer": "ipython2",
   "version": "2.7.17"
  },
  "pycharm": {
   "stem_cell": {
    "cell_type": "raw",
    "source": [],
    "metadata": {
     "collapsed": false
    }
   }
  }
 },
 "nbformat": 4,
 "nbformat_minor": 2
}