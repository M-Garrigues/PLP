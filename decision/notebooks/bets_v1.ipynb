{
 "cells": [
  {
   "cell_type": "code",
   "execution_count": 253,
   "metadata": {},
   "outputs": [],
   "source": [
    "from requests import get\n",
    "from math import sqrt\n",
    "import json\n",
    "import copy"
   ]
  },
  {
   "cell_type": "code",
   "execution_count": 257,
   "metadata": {},
   "outputs": [
    {
     "data": {
      "text/plain": [
       "{u'RI_A': 8.682421474658618,\n",
       " u'RI_D': 14.549411244094317,\n",
       " u'RI_H': -27.117747356685594,\n",
       " u'_id': u'2020-2-16/20:45/Lazio - Inter Milan',\n",
       " u'date': u'2020-2-16',\n",
       " u'hour': u'20:45',\n",
       " u'league': u'serieA',\n",
       " u'match': u'Lazio - Inter Milan',\n",
       " u'odd_A': 3.05,\n",
       " u'odd_D': 3.4,\n",
       " u'odd_H': 2.4,\n",
       " u'pred_A': 0.38989862799644404,\n",
       " u'pred_D': 0.40022706985473605,\n",
       " u'pred_H': 0.20987430214881803,\n",
       " u'teamA': u'Inter Milan',\n",
       " u'teamH': u'Lazio'}"
      ]
     },
     "execution_count": 257,
     "metadata": {},
     "output_type": "execute_result"
    }
   ],
   "source": [
    "response = get(\"http://api.localhost/matches\")\n",
    "json_matches = json.loads(response.text)\n",
    "json_matches[0]"
   ]
  },
  {
   "cell_type": "code",
   "execution_count": 258,
   "metadata": {},
   "outputs": [
    {
     "name": "stdout",
     "output_type": "stream",
     "text": [
      "('avg indicator = ', 18.354233553038465)\n"
     ]
    }
   ],
   "source": [
    "matches = []\n",
    "\n",
    "for match in json_matches:\n",
    "    if (match['RI_A'] > 0):\n",
    "        match['side'] = \"A\"\n",
    "        matches.append(copy.deepcopy(match))\n",
    "    if (match['RI_D'] > 0):\n",
    "        match['side'] = \"D\"\n",
    "        matches.append(copy.deepcopy(match))\n",
    "    if (match['RI_H'] > 0):\n",
    "        match['side'] = \"H\"\n",
    "        matches.append(copy.deepcopy(match))\n",
    "sum = 0\n",
    "for match in matches:\n",
    "    sum = sum + match['RI_' + match['side']]\n",
    "print(\"avg indicator = \", sum/len(matches))\n",
    "matches_filtered = sorted(matches, key=lambda d: d[\"RI_\" + d[\"side\"]])[0:10]"
   ]
  },
  {
   "cell_type": "code",
   "execution_count": 286,
   "metadata": {
    "pycharm": {
     "name": "#%%\n"
    }
   },
   "outputs": [
    {
     "name": "stdout",
     "output_type": "stream",
     "text": [
      "(1.0, 0.09950300602832769)\n"
     ]
    }
   ],
   "source": [
    "ecart_zero = 0.3\n",
    "opt = 0.0\n",
    "risk_opt = 0.0\n",
    "for risk in range(0,100):\n",
    "\n",
    "    tot = 0\n",
    "    for match in matches_filtered:\n",
    "        e = 0\n",
    "        side = match['side']\n",
    "        match['esp'] = match['pred_' + side] * (match['odd_' + side] - 1) + (1 - match['pred_' + side]) * (-1);\n",
    "        match['var'] = match['pred_' + side] * (match['odd_' + side] - 1 - match['esp']) ** 2 + (1 - match['pred_' + side]) * (-1 - match['esp']) ** 2 + ecart_zero;\n",
    "        match['cred'] = match['esp']/match['var']**((risk-50)/10.0);\n",
    "        tot += match['cred']\n",
    "\n",
    "    esp = 0\n",
    "    var = 0\n",
    "    amount = 1000\n",
    "    for match in matches_filtered:\n",
    "        match['cred'] = amount * match['cred'] / tot\n",
    "        match['esp'] = match['esp'] * match['cred']\n",
    "        match['var'] = match['var'] * match['cred'] ** 2\n",
    "        esp += match['esp']\n",
    "        var +=  match['var']\n",
    "        #print(match['match'] + \" : \" + match['side'] + \" bet =\", match['cred'], \" gain= \", match['cred'] * match['odd_' + match['side']])\n",
    "    ecart_type = sqrt(var)\n",
    "    \n",
    "    if opt < (esp/ecart_type) :\n",
    "        risk_opt = (risk - 50)/10.0\n",
    "        opt = esp/ecart_type\n",
    "print(risk_opt, opt)"
   ]
  },
  {
   "cell_type": "code",
   "execution_count": 287,
   "metadata": {},
   "outputs": [
    {
     "name": "stdout",
     "output_type": "stream",
     "text": [
      "(65.35220386518222, 656.7862266048222, 0)\n",
      "(67.38449943150425, 698.0865764743611, 1)\n",
      "(69.18308617689875, 759.7763018870904, 2)\n",
      "(70.6439688965653, 822.1214018478541, 3)\n",
      "(71.76852163309633, 877.9079273912978, 4)\n",
      "(72.60525044670955, 925.7967003367468, 5)\n"
     ]
    }
   ],
   "source": [
    "for risk in range(0,6):\n",
    "\n",
    "    tot = 0\n",
    "    for match in matches_filtered:\n",
    "        e = 0\n",
    "        side = match['side']\n",
    "        match['esp'] = match['pred_' + side] * (match['odd_' + side] - 1) + (1 - match['pred_' + side]) * (-1);\n",
    "        match['var'] = match['pred_' + side] * (match['odd_' + side] - 1 - match['esp']) ** 2 + (1 - match['pred_' + side]) * (-1 - match['esp']) ** 2 + ecart_zero;\n",
    "        match['cred'] = match['esp']/match['var']**(risk_opt-risk);\n",
    "        tot += match['cred']\n",
    "\n",
    "    esp = 0\n",
    "    var = 0\n",
    "    amount = 1000\n",
    "    for match in matches_filtered:\n",
    "        match['cred'] = amount * match['cred'] / tot\n",
    "        match['esp'] = match['esp'] * match['cred']\n",
    "        match['var'] = match['var'] * match['cred'] ** 2\n",
    "        esp += match['esp']\n",
    "        var +=  match['var']\n",
    "        #print(match['match'] + \" : \" + match['side'] + \" bet =\", match['cred'], \" gain= \", match['cred'] * match['odd_' + match['side']])\n",
    "    ecart_type = sqrt(var)\n",
    "    print(esp, ecart_type, risk)\n"
   ]
  },
  {
   "cell_type": "code",
   "execution_count": null,
   "metadata": {},
   "outputs": [],
   "source": []
  }
 ],
 "metadata": {
  "kernelspec": {
   "display_name": "Python 3",
   "language": "python",
   "name": "python3"
  },
  "language_info": {
   "codemirror_mode": {
    "name": "ipython",
    "version": 2
   },
   "file_extension": ".py",
   "mimetype": "text/x-python",
   "name": "python",
   "nbconvert_exporter": "python",
   "pygments_lexer": "ipython2",
   "version": "2.7.17"
  },
  "pycharm": {
   "stem_cell": {
    "cell_type": "raw",
    "source": [],
    "metadata": {
     "collapsed": false
    }
   }
  }
 },
 "nbformat": 4,
 "nbformat_minor": 2
}