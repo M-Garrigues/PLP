{
 "cells": [
  {
   "cell_type": "code",
   "execution_count": 67,
   "metadata": {},
   "outputs": [],
   "source": [
    "import pandas as pd\n",
    "import datetime\n",
    "import numpy as np\n",
    "import pickle\n",
    "import os\n",
    "import pymongo\n",
    "import requests\n",
    "import json\n",
    "from datetime import date\n",
    "from datetime import timedelta \n",
    "import unicodedata"
   ]
  },
  {
   "cell_type": "markdown",
   "metadata": {},
   "source": [
    "## LOADING DATA"
   ]
  },
  {
   "cell_type": "code",
   "execution_count": 68,
   "metadata": {},
   "outputs": [],
   "source": [
    "concats = pd.DataFrame()\n",
    "for i in range(14,20):\n",
    "    concats = pd.concat([concats , pd.read_csv(\"../data/\"+str(i)+\"01.csv\", encoding=\"ISO-8859–1\")], sort = False,ignore_index=True)\n",
    "    \n",
    "for i in range(14,20):\n",
    "    concats = pd.concat([concats , pd.read_csv(\"../data/\"+str(i)+\"02.csv\", encoding=\"ISO-8859–1\")], sort = False,ignore_index=True)"
   ]
  },
  {
   "cell_type": "code",
   "execution_count": 69,
   "metadata": {},
   "outputs": [],
   "source": [
    "\n",
    "for i in range(14,20):\n",
    "    concats = pd.concat([concats , pd.read_csv(\"../data/\"+str(i)+\"03.csv\", encoding=\"ISO-8859–1\")], sort = False,ignore_index=True)\n",
    "    \n",
    "for i in range(14,20):\n",
    "    concats = pd.concat([concats , pd.read_csv(\"../data/\"+str(i)+\"04.csv\", encoding=\"ISO-8859–1\")], sort = False,ignore_index=True)"
   ]
  },
  {
   "cell_type": "code",
   "execution_count": 70,
   "metadata": {},
   "outputs": [],
   "source": [
    "\n",
    "for i in range(14,20):\n",
    "    concats = pd.concat([concats , pd.read_csv(\"../data/\"+str(i)+\"05.csv\", encoding=\"ISO-8859–1\")], sort = False,ignore_index=True)\n",
    "    \n",
    "for i in range(14,20):\n",
    "    concats = pd.concat([concats , pd.read_csv(\"../data/\"+str(i)+\"06.csv\", encoding=\"ISO-8859–1\")], sort = False,ignore_index=True)"
   ]
  },
  {
   "cell_type": "code",
   "execution_count": 71,
   "metadata": {},
   "outputs": [],
   "source": [
    "\n",
    "for i in range(14,20):\n",
    "    concats = pd.concat([concats , pd.read_csv(\"../data/\"+str(i)+\"07.csv\", encoding=\"ISO-8859–1\")], sort = False,ignore_index=True)\n",
    "    \n",
    "for i in range(14,20):\n",
    "    concats = pd.concat([concats , pd.read_csv(\"../data/\"+str(i)+\"08.csv\", encoding=\"ISO-8859–1\")], sort = False,ignore_index=True)"
   ]
  },
  {
   "cell_type": "code",
   "execution_count": 72,
   "metadata": {},
   "outputs": [],
   "source": [
    "\n",
    "for i in range(14,20):\n",
    "    concats = pd.concat([concats , pd.read_csv(\"../data/\"+str(i)+\"09.csv\", encoding=\"ISO-8859–1\")], sort = False,ignore_index=True)\n",
    "for i in range(14,20):\n",
    "    concats = pd.concat([concats , pd.read_csv(\"../data/\"+str(i)+\"10.csv\", encoding=\"ISO-8859–1\")], sort = False,ignore_index=True)"
   ]
  },
  {
   "cell_type": "code",
   "execution_count": 73,
   "metadata": {},
   "outputs": [
    {
     "data": {
      "text/html": [
       "<div>\n",
       "<style scoped>\n",
       "    .dataframe tbody tr th:only-of-type {\n",
       "        vertical-align: middle;\n",
       "    }\n",
       "\n",
       "    .dataframe tbody tr th {\n",
       "        vertical-align: top;\n",
       "    }\n",
       "\n",
       "    .dataframe thead th {\n",
       "        text-align: right;\n",
       "    }\n",
       "</style>\n",
       "<table border=\"1\" class=\"dataframe\">\n",
       "  <thead>\n",
       "    <tr style=\"text-align: right;\">\n",
       "      <th></th>\n",
       "      <th>Div</th>\n",
       "      <th>Date</th>\n",
       "      <th>HomeTeam</th>\n",
       "      <th>AwayTeam</th>\n",
       "      <th>FTHG</th>\n",
       "      <th>FTAG</th>\n",
       "      <th>FTR</th>\n",
       "      <th>HTHG</th>\n",
       "      <th>HTAG</th>\n",
       "      <th>HTR</th>\n",
       "      <th>...</th>\n",
       "      <th>B365CAHA</th>\n",
       "      <th>PCAHH</th>\n",
       "      <th>PCAHA</th>\n",
       "      <th>MaxCAHH</th>\n",
       "      <th>MaxCAHA</th>\n",
       "      <th>AvgCAHH</th>\n",
       "      <th>AvgCAHA</th>\n",
       "      <th>HFKC</th>\n",
       "      <th>AFKC</th>\n",
       "      <th>Referee</th>\n",
       "    </tr>\n",
       "  </thead>\n",
       "  <tbody>\n",
       "    <tr>\n",
       "      <td>0</td>\n",
       "      <td>F1</td>\n",
       "      <td>08/08/14</td>\n",
       "      <td>Reims</td>\n",
       "      <td>Paris SG</td>\n",
       "      <td>2.0</td>\n",
       "      <td>2.0</td>\n",
       "      <td>D</td>\n",
       "      <td>2.0</td>\n",
       "      <td>1.0</td>\n",
       "      <td>H</td>\n",
       "      <td>...</td>\n",
       "      <td>NaN</td>\n",
       "      <td>NaN</td>\n",
       "      <td>NaN</td>\n",
       "      <td>NaN</td>\n",
       "      <td>NaN</td>\n",
       "      <td>NaN</td>\n",
       "      <td>NaN</td>\n",
       "      <td>NaN</td>\n",
       "      <td>NaN</td>\n",
       "      <td>NaN</td>\n",
       "    </tr>\n",
       "    <tr>\n",
       "      <td>1</td>\n",
       "      <td>F1</td>\n",
       "      <td>09/08/14</td>\n",
       "      <td>Bastia</td>\n",
       "      <td>Marseille</td>\n",
       "      <td>3.0</td>\n",
       "      <td>3.0</td>\n",
       "      <td>D</td>\n",
       "      <td>1.0</td>\n",
       "      <td>2.0</td>\n",
       "      <td>A</td>\n",
       "      <td>...</td>\n",
       "      <td>NaN</td>\n",
       "      <td>NaN</td>\n",
       "      <td>NaN</td>\n",
       "      <td>NaN</td>\n",
       "      <td>NaN</td>\n",
       "      <td>NaN</td>\n",
       "      <td>NaN</td>\n",
       "      <td>NaN</td>\n",
       "      <td>NaN</td>\n",
       "      <td>NaN</td>\n",
       "    </tr>\n",
       "    <tr>\n",
       "      <td>2</td>\n",
       "      <td>F1</td>\n",
       "      <td>09/08/14</td>\n",
       "      <td>Evian Thonon Gaillard</td>\n",
       "      <td>Caen</td>\n",
       "      <td>0.0</td>\n",
       "      <td>3.0</td>\n",
       "      <td>A</td>\n",
       "      <td>0.0</td>\n",
       "      <td>3.0</td>\n",
       "      <td>A</td>\n",
       "      <td>...</td>\n",
       "      <td>NaN</td>\n",
       "      <td>NaN</td>\n",
       "      <td>NaN</td>\n",
       "      <td>NaN</td>\n",
       "      <td>NaN</td>\n",
       "      <td>NaN</td>\n",
       "      <td>NaN</td>\n",
       "      <td>NaN</td>\n",
       "      <td>NaN</td>\n",
       "      <td>NaN</td>\n",
       "    </tr>\n",
       "    <tr>\n",
       "      <td>3</td>\n",
       "      <td>F1</td>\n",
       "      <td>09/08/14</td>\n",
       "      <td>Guingamp</td>\n",
       "      <td>St Etienne</td>\n",
       "      <td>0.0</td>\n",
       "      <td>2.0</td>\n",
       "      <td>A</td>\n",
       "      <td>0.0</td>\n",
       "      <td>1.0</td>\n",
       "      <td>A</td>\n",
       "      <td>...</td>\n",
       "      <td>NaN</td>\n",
       "      <td>NaN</td>\n",
       "      <td>NaN</td>\n",
       "      <td>NaN</td>\n",
       "      <td>NaN</td>\n",
       "      <td>NaN</td>\n",
       "      <td>NaN</td>\n",
       "      <td>NaN</td>\n",
       "      <td>NaN</td>\n",
       "      <td>NaN</td>\n",
       "    </tr>\n",
       "    <tr>\n",
       "      <td>4</td>\n",
       "      <td>F1</td>\n",
       "      <td>09/08/14</td>\n",
       "      <td>Lille</td>\n",
       "      <td>Metz</td>\n",
       "      <td>0.0</td>\n",
       "      <td>0.0</td>\n",
       "      <td>D</td>\n",
       "      <td>0.0</td>\n",
       "      <td>0.0</td>\n",
       "      <td>D</td>\n",
       "      <td>...</td>\n",
       "      <td>NaN</td>\n",
       "      <td>NaN</td>\n",
       "      <td>NaN</td>\n",
       "      <td>NaN</td>\n",
       "      <td>NaN</td>\n",
       "      <td>NaN</td>\n",
       "      <td>NaN</td>\n",
       "      <td>NaN</td>\n",
       "      <td>NaN</td>\n",
       "      <td>NaN</td>\n",
       "    </tr>\n",
       "    <tr>\n",
       "      <td>...</td>\n",
       "      <td>...</td>\n",
       "      <td>...</td>\n",
       "      <td>...</td>\n",
       "      <td>...</td>\n",
       "      <td>...</td>\n",
       "      <td>...</td>\n",
       "      <td>...</td>\n",
       "      <td>...</td>\n",
       "      <td>...</td>\n",
       "      <td>...</td>\n",
       "      <td>...</td>\n",
       "      <td>...</td>\n",
       "      <td>...</td>\n",
       "      <td>...</td>\n",
       "      <td>...</td>\n",
       "      <td>...</td>\n",
       "      <td>...</td>\n",
       "      <td>...</td>\n",
       "      <td>...</td>\n",
       "      <td>...</td>\n",
       "      <td>...</td>\n",
       "    </tr>\n",
       "    <tr>\n",
       "      <td>22195</td>\n",
       "      <td>I2</td>\n",
       "      <td>01/02/2020</td>\n",
       "      <td>Empoli</td>\n",
       "      <td>Crotone</td>\n",
       "      <td>3.0</td>\n",
       "      <td>1.0</td>\n",
       "      <td>H</td>\n",
       "      <td>2.0</td>\n",
       "      <td>1.0</td>\n",
       "      <td>H</td>\n",
       "      <td>...</td>\n",
       "      <td>1.83</td>\n",
       "      <td>2.05</td>\n",
       "      <td>1.85</td>\n",
       "      <td>2.07</td>\n",
       "      <td>1.86</td>\n",
       "      <td>2.01</td>\n",
       "      <td>1.82</td>\n",
       "      <td>NaN</td>\n",
       "      <td>NaN</td>\n",
       "      <td>NaN</td>\n",
       "    </tr>\n",
       "    <tr>\n",
       "      <td>22196</td>\n",
       "      <td>I2</td>\n",
       "      <td>02/02/2020</td>\n",
       "      <td>Chievo</td>\n",
       "      <td>Venezia</td>\n",
       "      <td>0.0</td>\n",
       "      <td>1.0</td>\n",
       "      <td>A</td>\n",
       "      <td>0.0</td>\n",
       "      <td>1.0</td>\n",
       "      <td>A</td>\n",
       "      <td>...</td>\n",
       "      <td>2.00</td>\n",
       "      <td>1.89</td>\n",
       "      <td>2.01</td>\n",
       "      <td>1.89</td>\n",
       "      <td>2.05</td>\n",
       "      <td>1.84</td>\n",
       "      <td>1.98</td>\n",
       "      <td>NaN</td>\n",
       "      <td>NaN</td>\n",
       "      <td>NaN</td>\n",
       "    </tr>\n",
       "    <tr>\n",
       "      <td>22197</td>\n",
       "      <td>I2</td>\n",
       "      <td>02/02/2020</td>\n",
       "      <td>Juve Stabia</td>\n",
       "      <td>Perugia</td>\n",
       "      <td>1.0</td>\n",
       "      <td>2.0</td>\n",
       "      <td>A</td>\n",
       "      <td>1.0</td>\n",
       "      <td>1.0</td>\n",
       "      <td>D</td>\n",
       "      <td>...</td>\n",
       "      <td>1.93</td>\n",
       "      <td>1.93</td>\n",
       "      <td>1.96</td>\n",
       "      <td>1.97</td>\n",
       "      <td>1.97</td>\n",
       "      <td>1.91</td>\n",
       "      <td>1.91</td>\n",
       "      <td>NaN</td>\n",
       "      <td>NaN</td>\n",
       "      <td>NaN</td>\n",
       "    </tr>\n",
       "    <tr>\n",
       "      <td>22198</td>\n",
       "      <td>I2</td>\n",
       "      <td>02/02/2020</td>\n",
       "      <td>Benevento</td>\n",
       "      <td>Salernitana</td>\n",
       "      <td>1.0</td>\n",
       "      <td>1.0</td>\n",
       "      <td>D</td>\n",
       "      <td>0.0</td>\n",
       "      <td>0.0</td>\n",
       "      <td>D</td>\n",
       "      <td>...</td>\n",
       "      <td>2.02</td>\n",
       "      <td>1.86</td>\n",
       "      <td>2.04</td>\n",
       "      <td>1.89</td>\n",
       "      <td>2.10</td>\n",
       "      <td>1.81</td>\n",
       "      <td>2.02</td>\n",
       "      <td>NaN</td>\n",
       "      <td>NaN</td>\n",
       "      <td>NaN</td>\n",
       "    </tr>\n",
       "    <tr>\n",
       "      <td>22199</td>\n",
       "      <td>I2</td>\n",
       "      <td>03/02/2020</td>\n",
       "      <td>Pescara</td>\n",
       "      <td>Cosenza</td>\n",
       "      <td>2.0</td>\n",
       "      <td>1.0</td>\n",
       "      <td>H</td>\n",
       "      <td>0.0</td>\n",
       "      <td>0.0</td>\n",
       "      <td>D</td>\n",
       "      <td>...</td>\n",
       "      <td>2.05</td>\n",
       "      <td>1.84</td>\n",
       "      <td>2.06</td>\n",
       "      <td>1.88</td>\n",
       "      <td>2.09</td>\n",
       "      <td>1.84</td>\n",
       "      <td>1.99</td>\n",
       "      <td>NaN</td>\n",
       "      <td>NaN</td>\n",
       "      <td>NaN</td>\n",
       "    </tr>\n",
       "  </tbody>\n",
       "</table>\n",
       "<p>22200 rows × 132 columns</p>\n",
       "</div>"
      ],
      "text/plain": [
       "      Div        Date               HomeTeam     AwayTeam  FTHG  FTAG FTR  \\\n",
       "0      F1    08/08/14                  Reims     Paris SG   2.0   2.0   D   \n",
       "1      F1    09/08/14                 Bastia    Marseille   3.0   3.0   D   \n",
       "2      F1    09/08/14  Evian Thonon Gaillard         Caen   0.0   3.0   A   \n",
       "3      F1    09/08/14               Guingamp   St Etienne   0.0   2.0   A   \n",
       "4      F1    09/08/14                  Lille         Metz   0.0   0.0   D   \n",
       "...    ..         ...                    ...          ...   ...   ...  ..   \n",
       "22195  I2  01/02/2020                 Empoli      Crotone   3.0   1.0   H   \n",
       "22196  I2  02/02/2020                 Chievo      Venezia   0.0   1.0   A   \n",
       "22197  I2  02/02/2020            Juve Stabia      Perugia   1.0   2.0   A   \n",
       "22198  I2  02/02/2020              Benevento  Salernitana   1.0   1.0   D   \n",
       "22199  I2  03/02/2020                Pescara      Cosenza   2.0   1.0   H   \n",
       "\n",
       "       HTHG  HTAG HTR  ...  B365CAHA  PCAHH  PCAHA  MaxCAHH  MaxCAHA  AvgCAHH  \\\n",
       "0       2.0   1.0   H  ...       NaN    NaN    NaN      NaN      NaN      NaN   \n",
       "1       1.0   2.0   A  ...       NaN    NaN    NaN      NaN      NaN      NaN   \n",
       "2       0.0   3.0   A  ...       NaN    NaN    NaN      NaN      NaN      NaN   \n",
       "3       0.0   1.0   A  ...       NaN    NaN    NaN      NaN      NaN      NaN   \n",
       "4       0.0   0.0   D  ...       NaN    NaN    NaN      NaN      NaN      NaN   \n",
       "...     ...   ...  ..  ...       ...    ...    ...      ...      ...      ...   \n",
       "22195   2.0   1.0   H  ...      1.83   2.05   1.85     2.07     1.86     2.01   \n",
       "22196   0.0   1.0   A  ...      2.00   1.89   2.01     1.89     2.05     1.84   \n",
       "22197   1.0   1.0   D  ...      1.93   1.93   1.96     1.97     1.97     1.91   \n",
       "22198   0.0   0.0   D  ...      2.02   1.86   2.04     1.89     2.10     1.81   \n",
       "22199   0.0   0.0   D  ...      2.05   1.84   2.06     1.88     2.09     1.84   \n",
       "\n",
       "       AvgCAHA  HFKC  AFKC  Referee  \n",
       "0          NaN   NaN   NaN      NaN  \n",
       "1          NaN   NaN   NaN      NaN  \n",
       "2          NaN   NaN   NaN      NaN  \n",
       "3          NaN   NaN   NaN      NaN  \n",
       "4          NaN   NaN   NaN      NaN  \n",
       "...        ...   ...   ...      ...  \n",
       "22195     1.82   NaN   NaN      NaN  \n",
       "22196     1.98   NaN   NaN      NaN  \n",
       "22197     1.91   NaN   NaN      NaN  \n",
       "22198     2.02   NaN   NaN      NaN  \n",
       "22199     1.99   NaN   NaN      NaN  \n",
       "\n",
       "[22200 rows x 132 columns]"
      ]
     },
     "execution_count": 73,
     "metadata": {},
     "output_type": "execute_result"
    }
   ],
   "source": [
    "concats"
   ]
  },
  {
   "cell_type": "code",
   "execution_count": 74,
   "metadata": {},
   "outputs": [
    {
     "data": {
      "text/plain": [
       "Index(['Div', 'Date', 'HomeTeam', 'AwayTeam', 'FTHG', 'FTAG', 'FTR', 'HTHG',\n",
       "       'HTAG', 'HTR', 'HS', 'AS', 'HST', 'AST', 'HF', 'AF', 'HC', 'AC', 'HY',\n",
       "       'AY', 'HR', 'AR'],\n",
       "      dtype='object')"
      ]
     },
     "execution_count": 74,
     "metadata": {},
     "output_type": "execute_result"
    }
   ],
   "source": [
    "concats.columns[:22]"
   ]
  },
  {
   "cell_type": "markdown",
   "metadata": {},
   "source": [
    "## Data engineering"
   ]
  },
  {
   "cell_type": "code",
   "execution_count": 75,
   "metadata": {},
   "outputs": [],
   "source": [
    "def stringToDate(string):\n",
    "    string = string.split(\"/\")\n",
    "    if(len(string[2]) == 4):\n",
    "        string[2] = string[2][2:]\n",
    "    date = string[0]+\"/\"+ string[1]+\"/20\"+string[2]\n",
    "    date = datetime.datetime.strptime(date, '%d/%m/%Y')\n",
    "    return date"
   ]
  },
  {
   "cell_type": "code",
   "execution_count": 76,
   "metadata": {},
   "outputs": [],
   "source": [
    "def hash_match(date, away, home, ver):\n",
    "    date = date.split(\"/\")\n",
    "    return date[0]+date[1]+date[2]+away+home+str(ver) "
   ]
  },
  {
   "cell_type": "code",
   "execution_count": 77,
   "metadata": {},
   "outputs": [],
   "source": [
    "def getLastMatchId(id_match, nb_earlier_match):\n",
    "    dates = concats['Date'].apply(stringToDate)\n",
    "    #homepart\n",
    "    ids_HH = dates[(dates < dates[id_match]) & (concats[\"HomeTeam\"] == concats[\"HomeTeam\"][id_match])].index\n",
    "    ids_HA = dates[(dates < dates[id_match]) & (concats[\"AwayTeam\"] == concats[\"HomeTeam\"][id_match])].index\n",
    "    ids_home = np.array(ids_HH,ids_HA)\n",
    "    if(ids_home.shape[0] < nb_earlier_match):\n",
    "        return np.nan\n",
    "    else:\n",
    "        ids_home = ids_home[ids_home.argsort()[-nb_earlier_match:][::-1]]\n",
    "    #awaypart\n",
    "    \n",
    "    ids_AH = dates[(dates < dates[id_match]) & (concats[\"HomeTeam\"] == concats[\"AwayTeam\"][id_match])].index\n",
    "    ids_AA = dates[(dates < dates[id_match]) & (concats[\"AwayTeam\"] == concats[\"AwayTeam\"][id_match])].index\n",
    "    ids_away = np.array(ids_AH,ids_AA)\n",
    "    if(ids_away.shape[0] < nb_earlier_match):\n",
    "        return np.nan\n",
    "    else:\n",
    "        ids_away = ids_away[ids_away.argsort()[-nb_earlier_match:][::-1]]\n",
    "    return np.array([ids_away, ids_home])"
   ]
  },
  {
   "cell_type": "code",
   "execution_count": 78,
   "metadata": {},
   "outputs": [],
   "source": [
    "concats = concats[pd.notnull(concats['FTR'])]\n",
    "concats = concats.drop(columns = concats.columns[23:])\n",
    "concats['ID_FTR'] = concats.FTR.astype('category').cat.codes"
   ]
  },
  {
   "cell_type": "code",
   "execution_count": 79,
   "metadata": {},
   "outputs": [],
   "source": [
    "concats = concats.drop(columns = concats.columns[9])"
   ]
  },
  {
   "cell_type": "code",
   "execution_count": 80,
   "metadata": {},
   "outputs": [],
   "source": [
    "hashmap = {}"
   ]
  },
  {
   "cell_type": "code",
   "execution_count": 81,
   "metadata": {},
   "outputs": [],
   "source": [
    "try:\n",
    "    with open('../data/hm.pickle', 'rb') as handle:\n",
    "        hashmap = pickle.load(handle)\n",
    "except FileNotFoundError as err:\n",
    "    print(\"file not yet created\")"
   ]
  },
  {
   "cell_type": "code",
   "execution_count": 82,
   "metadata": {
    "scrolled": true
   },
   "outputs": [],
   "source": [
    "ids = []\n",
    "for i in range(concats.shape[0]):\n",
    "    vals = concats.iloc[i,[1,2,3]].values\n",
    "    hashed = hash_match(vals[0],vals[1], vals[2], 1)\n",
    "    if hashed in hashmap:\n",
    "        ids.append(hashmap[hashed])\n",
    "    else:\n",
    "        id_match = getLastMatchId(concats.index[i],3)\n",
    "        ids.append(id_match)\n",
    "        hashmap[hashed] = id_match\n"
   ]
  },
  {
   "cell_type": "code",
   "execution_count": 83,
   "metadata": {},
   "outputs": [],
   "source": [
    "with open('../data/hm.pickle', 'wb') as handle:\n",
    "    pickle.dump(hashmap, handle, protocol=pickle.HIGHEST_PROTOCOL)"
   ]
  },
  {
   "cell_type": "code",
   "execution_count": 84,
   "metadata": {},
   "outputs": [
    {
     "data": {
      "text/plain": [
       "22193"
      ]
     },
     "execution_count": 84,
     "metadata": {},
     "output_type": "execute_result"
    }
   ],
   "source": [
    "len(hashmap)"
   ]
  },
  {
   "cell_type": "code",
   "execution_count": 85,
   "metadata": {},
   "outputs": [],
   "source": [
    "ids = pd.DataFrame(ids)\n",
    "ids = ids.reindex(concats.index)\n",
    "ids = ids.dropna()"
   ]
  },
  {
   "cell_type": "code",
   "execution_count": 86,
   "metadata": {},
   "outputs": [],
   "source": [
    "concats = concats.fillna(0.0)"
   ]
  },
  {
   "cell_type": "code",
   "execution_count": 87,
   "metadata": {},
   "outputs": [],
   "source": [
    "ids_m = pd.DataFrame()\n",
    "ids_m[\"_id\"] = concats.iloc[:,[1,2,3]].apply(lambda row: hash_match(row.iloc[0],row.iloc[1],row.iloc[2],1), axis = 1)"
   ]
  },
  {
   "cell_type": "code",
   "execution_count": 88,
   "metadata": {},
   "outputs": [],
   "source": [
    "concats['AAG'] = np.nan\n",
    "concats['AAS'] = np.nan\n",
    "concats['AASO'] = np.nan\n",
    "concats['AAF'] = np.nan\n",
    "concats['AAC'] = np.nan\n",
    "concats['AAY'] = np.nan\n",
    "concats['AAR'] = np.nan\n",
    "\n",
    "concats['HAG'] = np.nan\n",
    "concats['HAS'] = np.nan\n",
    "concats['HASO'] = np.nan\n",
    "concats['HAF'] = np.nan\n",
    "concats['HAC'] = np.nan\n",
    "concats['HAY'] = np.nan\n",
    "concats['HAR'] = np.nan\n",
    "\n",
    "for i in ids.index:\n",
    "    #awaypart\n",
    "    ids_away = ids[0][i][0]\n",
    "    avg_goals = 0\n",
    "    avg_shots = 0\n",
    "    avg_shots_on = 0\n",
    "    avg_fouls = 0\n",
    "    avg_corners = 0\n",
    "    avg_yellow = 0\n",
    "    avg_red = 0\n",
    "    for k in ids_away:\n",
    "        if(concats.loc[i,\"AwayTeam\"] == concats.loc[k,\"AwayTeam\"]):\n",
    "            avg_goals += concats.loc[k,\"FTAG\"]\n",
    "            avg_shots += concats.loc[k,\"AS\"]\n",
    "            avg_shots_on += concats.loc[k,\"AST\"]\n",
    "            avg_fouls += concats.loc[k,\"AF\"]\n",
    "            avg_corners = concats.loc[k,\"AC\"]\n",
    "            avg_yellow += concats.loc[k,\"AY\"]\n",
    "            avg_red += concats.loc[k,\"AR\"]\n",
    "        else:\n",
    "            avg_goals += concats.loc[k,\"FTHG\"]\n",
    "            avg_shots += concats.loc[k,\"HS\"]\n",
    "            avg_shots_on += concats.loc[k,\"HST\"]\n",
    "            avg_fouls += concats.loc[k,\"HF\"]\n",
    "            avg_corners = concats.loc[k,\"HC\"]\n",
    "            avg_yellow += concats.loc[k,\"HY\"]\n",
    "            avg_red += concats.loc[k,\"HR\"]\n",
    "            \n",
    "    concats.loc[i,'AAG'] = avg_goals\n",
    "    concats.loc[i,'AAS'] = avg_shots\n",
    "    concats.loc[i,'AASO'] = avg_shots_on\n",
    "    concats.loc[i,'AAF'] = avg_fouls\n",
    "    concats.loc[i,'AAC'] = avg_corners\n",
    "    concats.loc[i,'AAY'] = avg_yellow\n",
    "    concats.loc[i,'AAR'] = avg_red\n",
    "\n",
    "            \n",
    "    ids_home = ids[0][i][1]\n",
    "    avg_goals = 0\n",
    "    avg_shots = 0\n",
    "    avg_shots_on = 0\n",
    "    avg_fouls = 0\n",
    "    avg_corners = 0\n",
    "    avg_yellow = 0\n",
    "    avg_red = 0\n",
    "    for k in ids_home:\n",
    "        if(concats.loc[i,\"HomeTeam\"] == concats.loc[k,\"AwayTeam\"]):\n",
    "            avg_goals += concats.loc[k,\"FTAG\"]\n",
    "            avg_shots += concats.loc[k,\"AS\"]\n",
    "            avg_shots_on += concats.loc[k,\"AST\"]\n",
    "            avg_fouls += concats.loc[k,\"AF\"]\n",
    "            avg_corners = concats.loc[k,\"AC\"]\n",
    "            avg_yellow += concats.loc[k,\"AY\"]\n",
    "            avg_red += concats.loc[k,\"AR\"]\n",
    "        else:\n",
    "            avg_goals += concats.loc[k,\"FTHG\"]\n",
    "            avg_shots += concats.loc[k,\"HS\"]\n",
    "            avg_shots_on += concats.loc[k,\"HST\"]\n",
    "            avg_fouls += concats.loc[k,\"HF\"]\n",
    "            avg_corners = concats.loc[k,\"HC\"]\n",
    "            avg_yellow += concats.loc[k,\"HY\"]\n",
    "            avg_red += concats.loc[k,\"HR\"]\n",
    "        \n",
    "       \n",
    "    concats.loc[i,'HAG'] = avg_goals\n",
    "    concats.loc[i,'HAS'] = avg_shots\n",
    "    concats.loc[i,'HASO'] = avg_shots_on\n",
    "    concats.loc[i,'HAF'] = avg_fouls\n",
    "    concats.loc[i,'HAC'] = avg_corners\n",
    "    concats.loc[i,'HAY'] = avg_yellow\n",
    "    concats.loc[i,'HAR'] = avg_red"
   ]
  },
  {
   "cell_type": "code",
   "execution_count": 89,
   "metadata": {
    "scrolled": true
   },
   "outputs": [],
   "source": [
    "concats = concats.drop([x for x in concats.index.values if x not in ids.index.values])"
   ]
  },
  {
   "cell_type": "code",
   "execution_count": 90,
   "metadata": {},
   "outputs": [],
   "source": [
    "concats = concats.drop(columns = concats.columns[4:6])\n",
    "concats = concats.drop(columns = concats.columns[5:20])"
   ]
  },
  {
   "cell_type": "code",
   "execution_count": 91,
   "metadata": {},
   "outputs": [],
   "source": [
    "normalized_df=(concats[concats.columns[6:]]-concats[concats.columns[6:]].mean())/concats[concats.columns[6:]].std()"
   ]
  },
  {
   "cell_type": "code",
   "execution_count": 92,
   "metadata": {},
   "outputs": [],
   "source": [
    "concats[concats.columns[6:]] = normalized_df"
   ]
  },
  {
   "cell_type": "code",
   "execution_count": 93,
   "metadata": {},
   "outputs": [
    {
     "data": {
      "text/plain": [
       "Index(['AAG', 'AAS', 'AASO', 'AAF', 'AAC', 'AAY', 'AAR'], dtype='object')"
      ]
     },
     "execution_count": 93,
     "metadata": {},
     "output_type": "execute_result"
    }
   ],
   "source": [
    "concats.columns[6:13]"
   ]
  },
  {
   "cell_type": "code",
   "execution_count": 94,
   "metadata": {},
   "outputs": [
    {
     "data": {
      "text/plain": [
       "Index(['Div', 'Date', 'HomeTeam', 'AwayTeam', 'FTR', 'ID_FTR', 'AAG', 'AAS',\n",
       "       'AASO', 'AAF', 'AAC', 'AAY', 'AAR', 'HAG', 'HAS', 'HASO', 'HAF', 'HAC',\n",
       "       'HAY', 'HAR'],\n",
       "      dtype='object')"
      ]
     },
     "execution_count": 94,
     "metadata": {},
     "output_type": "execute_result"
    }
   ],
   "source": [
    "concats.columns"
   ]
  },
  {
   "cell_type": "code",
   "execution_count": 95,
   "metadata": {},
   "outputs": [
    {
     "data": {
      "text/plain": [
       "Index(['HAG', 'HAS', 'HASO', 'HAF', 'HAC', 'HAY', 'HAR'], dtype='object')"
      ]
     },
     "execution_count": 95,
     "metadata": {},
     "output_type": "execute_result"
    }
   ],
   "source": [
    "concats.columns[13:]"
   ]
  },
  {
   "cell_type": "code",
   "execution_count": 96,
   "metadata": {},
   "outputs": [],
   "source": [
    "def remove_accents(s):\n",
    "    return ''.join((c for c in unicodedata.normalize('NFD', s) if unicodedata.category(c) != 'Mn'))"
   ]
  },
  {
   "cell_type": "code",
   "execution_count": 97,
   "metadata": {
    "scrolled": false
   },
   "outputs": [],
   "source": [
    "ids_team = list()\n",
    "names = concats[\"HomeTeam\"].drop_duplicates()\n",
    "for i in names:\n",
    "    df = np.array(concats[concats[\"HomeTeam\"] == i].index, concats[concats[\"AwayTeam\"] == i].index)\n",
    "    ids_team.append(max(df))\n",
    "\n",
    "values = list()\n",
    "for i in range(len(names)):\n",
    "    if(concats.loc[ids_team[i], \"HomeTeam\"] == names.iloc[i]):\n",
    "        values.append(concats.loc[ids_team[i], concats.columns[13:]].values.astype(float))\n",
    "    else:\n",
    "        values.append(concats.loc[ids_team[i], concats.columns[6:13]].values.astype(float))\n",
    "        \n",
    "team_data = pd.DataFrame(values)\n",
    "team_data = team_data.rename(columns = {0:\"a\",1:\"b\",2:\"c\",3:\"d\",4:\"e\",5:\"f\",6:\"g\"})\n",
    "team_data.insert(0, '_id',  names.apply(lambda x : remove_accents(x).replace(\" \", \"_\" ).lower()).values) "
   ]
  },
  {
   "cell_type": "code",
   "execution_count": 98,
   "metadata": {},
   "outputs": [],
   "source": [
    "concats.insert(0, '_id',  ids_m[\"_id\"])"
   ]
  },
  {
   "cell_type": "code",
   "execution_count": 99,
   "metadata": {},
   "outputs": [],
   "source": [
    "teams = pd.DataFrame(concats[\"HomeTeam\"].drop_duplicates())\n",
    "teams = teams.rename(columns = {\"HomeTeam\" : \"football.co.uk\"})"
   ]
  },
  {
   "cell_type": "code",
   "execution_count": 102,
   "metadata": {},
   "outputs": [],
   "source": [
    "def update_db(data, coll):\n",
    "    for index, row in data.iterrows():\n",
    "        coll.replace_one({'_id':row['_id']}, row.to_dict(), True)"
   ]
  },
  {
   "cell_type": "code",
   "execution_count": 103,
   "metadata": {},
   "outputs": [],
   "source": [
    "def fetch_old(name_post):\n",
    "    client = pymongo.MongoClient(\"mongodb://plp_mongodb:27017\")\n",
    "    db = client[\"plp\"][name_post]\n",
    "    a= list(db[\"match\"].find({}))\n",
    "    a = pd.DataFrame(a)\n",
    "    return a"
   ]
  },
  {
   "cell_type": "code",
   "execution_count": 104,
   "metadata": {},
   "outputs": [],
   "source": [
    "def remove_match_db(id):\n",
    "    query = { \"_id\": id}\n",
    "    coll.delete_one(query)    "
   ]
  },
  {
   "cell_type": "code",
   "execution_count": 105,
   "metadata": {},
   "outputs": [],
   "source": [
    "def pandas_to_mongo(df, name_post):\n",
    "    client = pymongo.MongoClient(\"mongodb://plp_mongodb:27017\")\n",
    "    coll = client[\"plp\"][name_post]\n",
    "    old = fetch_old(name_post)\n",
    "    new = df\n",
    "\n",
    "    if len(old)==0:\n",
    "        old = new\n",
    "    update_filtered = new[new[\"_id\"].isin(old[\"_id\"])]\n",
    "\n",
    "    update_db(update_filtered,coll)\n",
    "    \n",
    "    print(\"Done.\")\n",
    "    print(\"Updated : \"+str(len(update_filtered)))\n",
    "    print(\"Total matches in base : \"+str(coll.estimated_document_count()))\n",
    "        "
   ]
  },
  {
   "cell_type": "code",
   "execution_count": 106,
   "metadata": {},
   "outputs": [
    {
     "data": {
      "text/html": [
       "<div>\n",
       "<style scoped>\n",
       "    .dataframe tbody tr th:only-of-type {\n",
       "        vertical-align: middle;\n",
       "    }\n",
       "\n",
       "    .dataframe tbody tr th {\n",
       "        vertical-align: top;\n",
       "    }\n",
       "\n",
       "    .dataframe thead th {\n",
       "        text-align: right;\n",
       "    }\n",
       "</style>\n",
       "<table border=\"1\" class=\"dataframe\">\n",
       "  <thead>\n",
       "    <tr style=\"text-align: right;\">\n",
       "      <th></th>\n",
       "      <th>_id</th>\n",
       "      <th>a</th>\n",
       "      <th>b</th>\n",
       "      <th>c</th>\n",
       "      <th>d</th>\n",
       "      <th>e</th>\n",
       "      <th>f</th>\n",
       "      <th>g</th>\n",
       "    </tr>\n",
       "  </thead>\n",
       "  <tbody>\n",
       "    <tr>\n",
       "      <td>0</td>\n",
       "      <td>nantes</td>\n",
       "      <td>1.467901</td>\n",
       "      <td>0.563369</td>\n",
       "      <td>1.240303</td>\n",
       "      <td>0.429381</td>\n",
       "      <td>0.530643</td>\n",
       "      <td>-0.596982</td>\n",
       "      <td>-0.423557</td>\n",
       "    </tr>\n",
       "    <tr>\n",
       "      <td>1</td>\n",
       "      <td>lille</td>\n",
       "      <td>-0.664917</td>\n",
       "      <td>0.220746</td>\n",
       "      <td>0.080627</td>\n",
       "      <td>0.271846</td>\n",
       "      <td>0.530643</td>\n",
       "      <td>0.017570</td>\n",
       "      <td>-0.423557</td>\n",
       "    </tr>\n",
       "    <tr>\n",
       "      <td>2</td>\n",
       "      <td>reims</td>\n",
       "      <td>0.614774</td>\n",
       "      <td>-0.072932</td>\n",
       "      <td>0.724892</td>\n",
       "      <td>-1.408532</td>\n",
       "      <td>-0.018166</td>\n",
       "      <td>0.017570</td>\n",
       "      <td>-0.423557</td>\n",
       "    </tr>\n",
       "    <tr>\n",
       "      <td>3</td>\n",
       "      <td>bastia</td>\n",
       "      <td>1.467901</td>\n",
       "      <td>0.661262</td>\n",
       "      <td>0.467186</td>\n",
       "      <td>0.219334</td>\n",
       "      <td>0.256239</td>\n",
       "      <td>0.017570</td>\n",
       "      <td>1.775221</td>\n",
       "    </tr>\n",
       "    <tr>\n",
       "      <td>4</td>\n",
       "      <td>evian_thonon_gaillard</td>\n",
       "      <td>-0.664917</td>\n",
       "      <td>-1.443427</td>\n",
       "      <td>-1.336755</td>\n",
       "      <td>-1.408532</td>\n",
       "      <td>-1.115782</td>\n",
       "      <td>-1.211534</td>\n",
       "      <td>-0.423557</td>\n",
       "    </tr>\n",
       "    <tr>\n",
       "      <td>...</td>\n",
       "      <td>...</td>\n",
       "      <td>...</td>\n",
       "      <td>...</td>\n",
       "      <td>...</td>\n",
       "      <td>...</td>\n",
       "      <td>...</td>\n",
       "      <td>...</td>\n",
       "      <td>...</td>\n",
       "    </tr>\n",
       "    <tr>\n",
       "      <td>254</td>\n",
       "      <td>venezia</td>\n",
       "      <td>0.614774</td>\n",
       "      <td>1.150724</td>\n",
       "      <td>1.369156</td>\n",
       "      <td>0.376869</td>\n",
       "      <td>1.353855</td>\n",
       "      <td>2.168501</td>\n",
       "      <td>3.973998</td>\n",
       "    </tr>\n",
       "    <tr>\n",
       "      <td>255</td>\n",
       "      <td>cosenza</td>\n",
       "      <td>0.614774</td>\n",
       "      <td>1.346509</td>\n",
       "      <td>1.111450</td>\n",
       "      <td>1.112034</td>\n",
       "      <td>0.530643</td>\n",
       "      <td>1.861225</td>\n",
       "      <td>1.775221</td>\n",
       "    </tr>\n",
       "    <tr>\n",
       "      <td>256</td>\n",
       "      <td>padova</td>\n",
       "      <td>1.041337</td>\n",
       "      <td>0.220746</td>\n",
       "      <td>0.596039</td>\n",
       "      <td>0.639428</td>\n",
       "      <td>1.079451</td>\n",
       "      <td>0.017570</td>\n",
       "      <td>1.775221</td>\n",
       "    </tr>\n",
       "    <tr>\n",
       "      <td>257</td>\n",
       "      <td>pordenone</td>\n",
       "      <td>-0.664917</td>\n",
       "      <td>0.563369</td>\n",
       "      <td>0.853745</td>\n",
       "      <td>1.007011</td>\n",
       "      <td>-0.018166</td>\n",
       "      <td>1.246673</td>\n",
       "      <td>1.775221</td>\n",
       "    </tr>\n",
       "    <tr>\n",
       "      <td>258</td>\n",
       "      <td>juve_stabia</td>\n",
       "      <td>-0.664917</td>\n",
       "      <td>0.661262</td>\n",
       "      <td>0.982598</td>\n",
       "      <td>0.481893</td>\n",
       "      <td>1.628259</td>\n",
       "      <td>0.939397</td>\n",
       "      <td>-0.423557</td>\n",
       "    </tr>\n",
       "  </tbody>\n",
       "</table>\n",
       "<p>259 rows × 8 columns</p>\n",
       "</div>"
      ],
      "text/plain": [
       "                       _id         a         b         c         d         e  \\\n",
       "0                   nantes  1.467901  0.563369  1.240303  0.429381  0.530643   \n",
       "1                    lille -0.664917  0.220746  0.080627  0.271846  0.530643   \n",
       "2                    reims  0.614774 -0.072932  0.724892 -1.408532 -0.018166   \n",
       "3                   bastia  1.467901  0.661262  0.467186  0.219334  0.256239   \n",
       "4    evian_thonon_gaillard -0.664917 -1.443427 -1.336755 -1.408532 -1.115782   \n",
       "..                     ...       ...       ...       ...       ...       ...   \n",
       "254                venezia  0.614774  1.150724  1.369156  0.376869  1.353855   \n",
       "255                cosenza  0.614774  1.346509  1.111450  1.112034  0.530643   \n",
       "256                 padova  1.041337  0.220746  0.596039  0.639428  1.079451   \n",
       "257              pordenone -0.664917  0.563369  0.853745  1.007011 -0.018166   \n",
       "258            juve_stabia -0.664917  0.661262  0.982598  0.481893  1.628259   \n",
       "\n",
       "            f         g  \n",
       "0   -0.596982 -0.423557  \n",
       "1    0.017570 -0.423557  \n",
       "2    0.017570 -0.423557  \n",
       "3    0.017570  1.775221  \n",
       "4   -1.211534 -0.423557  \n",
       "..        ...       ...  \n",
       "254  2.168501  3.973998  \n",
       "255  1.861225  1.775221  \n",
       "256  0.017570  1.775221  \n",
       "257  1.246673  1.775221  \n",
       "258  0.939397 -0.423557  \n",
       "\n",
       "[259 rows x 8 columns]"
      ]
     },
     "execution_count": 106,
     "metadata": {},
     "output_type": "execute_result"
    }
   ],
   "source": [
    "team_data"
   ]
  },
  {
   "cell_type": "code",
   "execution_count": 109,
   "metadata": {
    "scrolled": true
   },
   "outputs": [
    {
     "name": "stdout",
     "output_type": "stream",
     "text": [
      "Done.\n",
      "Updated : 259\n",
      "Total matches in base : 259\n",
      "Done.\n",
      "Updated : 21284\n",
      "Total matches in base : 21284\n"
     ]
    }
   ],
   "source": [
    "pandas_to_mongo(team_data,\"team\")\n",
    "pandas_to_mongo(concats,\"match\")"
   ]
  }
 ],
 "metadata": {
  "kernelspec": {
   "display_name": "Python 3",
   "language": "python",
   "name": "python3"
  },
  "language_info": {
   "codemirror_mode": {
    "name": "ipython",
    "version": 3
   },
   "file_extension": ".py",
   "mimetype": "text/x-python",
   "name": "python",
   "nbconvert_exporter": "python",
   "pygments_lexer": "ipython3",
   "version": "3.7.4"
  }
 },
 "nbformat": 4,
 "nbformat_minor": 2
}
