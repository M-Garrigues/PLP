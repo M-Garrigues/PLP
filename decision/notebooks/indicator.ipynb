{
 "cells": [
  {
   "cell_type": "code",
   "execution_count": null,
   "metadata": {},
   "outputs": [],
   "source": [
    "from datetime import datetime\n",
    "from pymongo import MongoClient\n",
    "import pandas as pd\n",
    "import json\n",
    "import copy"
   ]
  },
  {
   "cell_type": "code",
   "execution_count": null,
   "metadata": {},
   "outputs": [],
   "source": [
    "def get_matches():\n",
    "    client = MongoClient(\"mongodb://plp_mongodb:27017\")\n",
    "    db = client['plp']\n",
    "    matches = list(db[\"match\"].find({}))\n",
    "    return matches\n",
    "        "
   ]
  },
  {
   "cell_type": "code",
   "execution_count": null,
   "metadata": {},
   "outputs": [],
   "source": [
    "def save_indicator_avg():\n",
    "    data = pd.DataFrame(columns=[\"date\", \"hour\", \"league\", \"avg_indicator\"])\n",
    "    time = datetime.now().strftime(\"%d/%m/%Y-%H:%M\").split(\"-\")\n",
    "    date = time[0]\n",
    "    hour = time[1]\n",
    "\n",
    "    \n",
    "    profitable_matches = []\n",
    "    for match in get_matches():\n",
    "        if (match['ri_a'] > 0):\n",
    "            match['side'] = \"A\"\n",
    "            profitable_matches.append(copy.deepcopy(match))\n",
    "        if (match['ri_d'] > 0):\n",
    "            match['side'] = \"D\"\n",
    "            profitable_matches.append(copy.deepcopy(match))\n",
    "        if (match['ri_h'] > 0):\n",
    "            match['side'] = \"H\"\n",
    "            profitable_matches.append(copy.deepcopy(match))\n",
    "    \n",
    "    leagues = ['ligue1', 'premierLeague', 'liga', 'bundesliga', 'serieA', 'all']\n",
    "    for i,league in enumerate(leagues) :\n",
    "        sum = 0\n",
    "        filter_matches = filter(lambda match: match['league'] == league or league == 'all', matches)\n",
    "        for match in filter_matches:\n",
    "            sum = sum + match['RI_' + match['side']]\n",
    "        avg_indicator = sum/len(filter_matches)\n",
    "        data.loc[i] = [date, hour, league, avg_indicator]\n",
    "        \n",
    "    return data"
   ]
  },
  {
   "cell_type": "code",
   "execution_count": null,
   "metadata": {
    "pycharm": {
     "name": "#%%\n"
    }
   },
   "outputs": [],
   "source": [
    "def hash_ind(date, hour, league):\n",
    "    date = date.split(\"/\")\n",
    "    hour = hour.split(\":\")\n",
    "    return date[0]+date[1]+date[2]+hour[0]+hour[1]+league"
   ]
  },
  {
   "cell_type": "code",
   "execution_count": null,
   "metadata": {
    "pycharm": {
     "name": "#%%\n"
    }
   },
   "outputs": [],
   "source": [
    "def update_db(data):\n",
    "    client = MongoClient(\"mongodb://plp_mongodb:27017\")\n",
    "    coll = client[\"plp\"][\"iterator\"]\n",
    "\n",
    "    for index, row in data.iterrows():\n",
    "        coll.replace_one({'_id':row['_id']}, row.to_dict(), True)"
   ]
  },
  {
   "cell_type": "code",
   "execution_count": null,
   "metadata": {},
   "outputs": [],
   "source": [
    "def main_indicator():\n",
    "    data = save_indicator_avg()\n",
    "    \n",
    "    ids_ind = pd.DataFrame()\n",
    "    ids_ind[\"_id\"] = data.iloc[:,[0,1,2]].apply(lambda row: hash_ind(row.iloc[0],row.iloc[1],row.iloc[2]), axis = 1)\n",
    "    data.insert(0, '_id',  ids_ind[\"_id\"])\n",
    "    \n",
    "    update_db(data)"
   ]
  },
  {
   "cell_type": "code",
   "execution_count": null,
   "metadata": {
    "pycharm": {
     "name": "#%%\n"
    }
   },
   "outputs": [],
   "source": [
    "main_indicator()"
   ]
  }
 ],
 "metadata": {
  "kernelspec": {
   "display_name": "Python 3",
   "language": "python",
   "name": "python3"
  },
  "language_info": {
   "codemirror_mode": {
    "name": "ipython",
    "version": 2
   },
   "file_extension": ".py",
   "mimetype": "text/x-python",
   "name": "python",
   "nbconvert_exporter": "python",
   "pygments_lexer": "ipython2",
   "version": "2.7.17"
  },
  "pycharm": {
   "stem_cell": {
    "cell_type": "raw",
    "source": [],
    "metadata": {
     "collapsed": false
    }
   }
  }
 },
 "nbformat": 4,
 "nbformat_minor": 2
}