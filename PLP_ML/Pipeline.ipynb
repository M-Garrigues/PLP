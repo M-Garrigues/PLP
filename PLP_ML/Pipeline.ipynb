{
 "cells": [
  {
   "cell_type": "code",
   "execution_count": 19,
   "metadata": {},
   "outputs": [],
   "source": [
    "import requests\n",
    "import pandas as pd\n",
    "\n",
    "for i in range(14,20):\n",
    "    url = \"https://www.football-data.co.uk/mmz4281/\"+str(i) + str(i+1)+\"/F1.csv\"\n",
    "    myfile = requests.get(url)\n",
    "    open('data/'+str(i)+'.csv', 'wb').write(myfile.content)\n",
    "concats = pd.DataFrame()\n",
    "for i in range(14,20):\n",
    "    concats = pd.concat([concats , pd.read_csv(\"data/\"+str(i)+\".csv\")], sort = False)"
   ]
  },
  {
   "cell_type": "code",
   "execution_count": 20,
   "metadata": {},
   "outputs": [],
   "source": [
    "concats['ID_team'] = concats.HomeTeam.astype('category').cat.codes\n",
    "concats['ID_team2'] = concats.AwayTeam.astype('category').cat.codes\n",
    "concats['Results'] = concats.FTR.astype('category').cat.codes"
   ]
  },
  {
   "cell_type": "code",
   "execution_count": 21,
   "metadata": {},
   "outputs": [],
   "source": [
    "id_teams = pd.DataFrame({\"ID_team\" : concats['ID_team'],\"Team_name\" : concats['HomeTeam']}).drop_duplicates()\n",
    "id_res = pd.DataFrame({\"ID_res\" : concats['Results'] , \"Results\" : concats['FTR']}).drop_duplicates()"
   ]
  },
  {
   "cell_type": "code",
   "execution_count": 22,
   "metadata": {},
   "outputs": [],
   "source": [
    "data_used = pd.DataFrame({\"HT\" : concats['ID_team'], \"AT\" : concats['ID_team2'], \"Result\" : concats['Results'] })"
   ]
  },
  {
   "cell_type": "code",
   "execution_count": 23,
   "metadata": {},
   "outputs": [],
   "source": [
    "id_teams.to_csv(\"teams.csv\")\n",
    "id_res.to_csv(\"res.csv\")\n",
    "data_used.to_csv(\"data.csv\")\n"
   ]
  }
 ],
 "metadata": {
  "kernelspec": {
   "display_name": "Python 3",
   "language": "python",
   "name": "python3"
  },
  "language_info": {
   "codemirror_mode": {
    "name": "ipython",
    "version": 3
   },
   "file_extension": ".py",
   "mimetype": "text/x-python",
   "name": "python",
   "nbconvert_exporter": "python",
   "pygments_lexer": "ipython3",
   "version": "3.7.4"
  }
 },
 "nbformat": 4,
 "nbformat_minor": 2
}
